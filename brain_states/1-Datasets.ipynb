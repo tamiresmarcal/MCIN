{
 "cells": [
  {
   "cell_type": "code",
   "execution_count": 17,
   "id": "1396b367-db40-491f-b3e6-19249bd8d20f",
   "metadata": {},
   "outputs": [],
   "source": [
    "dict_data = { \n",
    "    'ds000113' : {\n",
    "        'movies': ['forrestgump'],\n",
    "        'participants': 20,\n",
    "        'multiple_sessions': True,\n",
    "        'path_img': \"data/fmri_datasets/ds000113/derivatives/linear_anatomical_alignment/sub-{01}/ses-forrestgump/func/sub-{01}_ses-forrestgump_task-forrestgump_rec-dico7Tad2grpbold7Tad_run-{01}_bold.nii.gz\",\n",
    "        'img_corrected': True\n",
    "    }\n",
    "    'ds002837' : {\n",
    "        'movies': ['500daysofsummer', 'citizenfour', 'theusualsuspects',\n",
    "                   'pulpfiction', 'theshawshankredemption', 'theprestige',\n",
    "                   'backtothefuture', 'split', 'littlemisssunshine', '12yearsaslave'],\n",
    "        'participants': 86,\n",
    "        'multiple_sessions': True, #mas ja ta concatenado\n",
    "        'path_img': \"'/home/tamires/projects/rpp-aevans-ab/tamires/data/fmri_datasets/ds002837/derivatives/sub-{sub}/func/sub-{sub}_task-{movie}_bold_blur_censor_ica.nii.gz\",\n",
    "        'img_corrected': True\n",
    "    }\n",
    "    'ds003017' : {\n",
    "        'movies': ['grandhotelbudapest'],\n",
    "        'participants': 25,\n",
    "        'multiple_sessions': True,\n",
    "        'path_img': \"data/fmri_datasets/ds003017/sub-sid{000005}/func/sub-sid{000005}_task-movie_run-{01}_bold.nii.gz\",\n",
    "        'img_corrected': False\n",
    "    }\n",
    "    'ds003216' : {\n",
    "        'movies': ['hcp_audio_movie'],\n",
    "        'participants': 1,\n",
    "        'multiple_sessions': True, #session 4-13 q foram feitas p ser usadas\n",
    "        'path_img': \"data/fmri_datasets/ds003216/derivatives/sub-{01}/BOLD_func/sub-{01}_ses-{01}_task-test_run-{01}_BOLD.nii\",\n",
    "        'img_corrected': True\n",
    "    }\n",
    "    'ds003524' : {\n",
    "        'movies': ['friday_night_lights'],\n",
    "        'participants': 13,\n",
    "        'multiple_sessions': True, #o inicio e o final da sessao nao tem filme\n",
    "        'path_img': \"data/fmri_datasets/ds003524/sub-s{01}/func/sub-s{01}_task-movie_run-{01}_bold.nii.gz\",\n",
    "        'img_corrected': False\n",
    "    }\n",
    "    'ds004359' : {\n",
    "        'movies': ['sixth_sense'], # uma tecnica diferente de fmri layer\n",
    "        'participants': 1,\n",
    "        'multiple_sessions': True, \n",
    "        'path_img': \"data/fmri_datasets/ds004359/sub-01/func/sub-01_task-movie_acq-2415_bold.nii.gz\",\n",
    "        'img_corrected': False\n",
    "    }\n",
    "    'ds004798' : {\n",
    "        'movies': ['bang_you_re_dead'], \n",
    "        'participants': 20,\n",
    "        'multiple_sessions': True, \n",
    "        'path_img': \"data/fmri_datasets/ds003216/derivatives/sub-{01}/BOLD_func/sub-{01}_ses-{01}_task-test_run-{01}_BOLD.nii\",\n",
    "        'img_corrected': False\n",
    "    }\n",
    "    'ds004848' : {\n",
    "        'movies': ['game_of_thrones'],\n",
    "        'participants': 45, #metade com doença\n",
    "        'multiple_sessions': False, \n",
    "        'path_img': \"data/fmri_datasets/ds004848/sub-{DP16}/func/sub-{DP16}_task-GoT_bold.nii.gz\",\n",
    "        'img_corrected': False\n",
    "    }\n",
    "}"
   ]
  },
  {
   "cell_type": "markdown",
   "id": "24c27acb-81a9-4379-843b-436458e9356d",
   "metadata": {},
   "source": [
    "### Notas\n",
    "\n",
    "- Alem dessas infos do dict, vou precisar montar a tabela com sub, run, len_movie. Pensar no q vou fazer com a runs diferentes, se concatendo, ou oq. No ds002837 ta concatenado. Entao devo seguir isso, mas depois eliminar as matrixesFC que sao duas runs misturadas.\n",
    "\n",
    "- Esse lance de eu pegar as derivadas de cada lugar é questionavel, poderia tbm pegar a raw e fazer todas a derivadas eu mesmo padronizado.\n",
    "\n",
    "- O dataset HCP e do friends ta faltando e eles sao topzeira."
   ]
  },
  {
   "cell_type": "code",
   "execution_count": null,
   "id": "115a4f17-636c-479a-a58f-577d7cdb2668",
   "metadata": {},
   "outputs": [],
   "source": []
  }
 ],
 "metadata": {
  "kernelspec": {
   "display_name": "Python 3 (ipykernel)",
   "language": "python",
   "name": "python3"
  },
  "language_info": {
   "codemirror_mode": {
    "name": "ipython",
    "version": 3
   },
   "file_extension": ".py",
   "mimetype": "text/x-python",
   "name": "python",
   "nbconvert_exporter": "python",
   "pygments_lexer": "ipython3",
   "version": "3.12.4"
  }
 },
 "nbformat": 4,
 "nbformat_minor": 5
}
