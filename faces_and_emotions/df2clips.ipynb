{
 "cells": [
  {
   "cell_type": "markdown",
   "id": "ce5dd95e-1084-458a-856f-4d277592c3d1",
   "metadata": {},
   "source": [
    "## Environment"
   ]
  },
  {
   "cell_type": "code",
   "execution_count": 1,
   "id": "99cb3d4c-a107-415f-8273-b9ab3aae78f3",
   "metadata": {},
   "outputs": [],
   "source": [
    "import os\n",
    "from moviepy.editor import VideoFileClip\n",
    "import matplotlib.pyplot as plt\n",
    "import pandas as pd\n",
    "import numpy as np\n",
    "from tqdm import tqdm\n",
    "import librosa\n",
    "import librosa.display"
   ]
  },
  {
   "cell_type": "code",
   "execution_count": 2,
   "id": "75020c2a-ddda-44ab-93df-75042d4eb851",
   "metadata": {},
   "outputs": [],
   "source": [
    "# Path\n",
    "data_raw_dir = \"/home/tamires/projects/rpp-aevans-ab/tamires/data/derived/\"\n",
    "csv_file = \"df_face_times_barbiesmallest10.csv\"\n",
    "movie = \"barbiesmallest10.mp4\"\n",
    "output_dir = \"barbie_subclips_15/\""
   ]
  },
  {
   "cell_type": "markdown",
   "id": "77f00462-4e63-4670-a15d-8a9b8d3668be",
   "metadata": {
    "jp-MarkdownHeadingCollapsed": true
   },
   "source": [
    "## Information"
   ]
  },
  {
   "cell_type": "code",
   "execution_count": 4,
   "id": "3cb06217-b8a3-4122-b951-0d9f88e92079",
   "metadata": {},
   "outputs": [
    {
     "data": {
      "text/html": [
       "<div>\n",
       "<style scoped>\n",
       "    .dataframe tbody tr th:only-of-type {\n",
       "        vertical-align: middle;\n",
       "    }\n",
       "\n",
       "    .dataframe tbody tr th {\n",
       "        vertical-align: top;\n",
       "    }\n",
       "\n",
       "    .dataframe thead th {\n",
       "        text-align: right;\n",
       "    }\n",
       "</style>\n",
       "<table border=\"1\" class=\"dataframe\">\n",
       "  <thead>\n",
       "    <tr style=\"text-align: right;\">\n",
       "      <th></th>\n",
       "      <th>second</th>\n",
       "      <th>type</th>\n",
       "      <th>face_confidence</th>\n",
       "      <th>emotion</th>\n",
       "      <th>emotion_confidence</th>\n",
       "      <th>face_match_prior</th>\n",
       "    </tr>\n",
       "  </thead>\n",
       "  <tbody>\n",
       "    <tr>\n",
       "      <th>1</th>\n",
       "      <td>0.1</td>\n",
       "      <td>multiple faces</td>\n",
       "      <td>NaN</td>\n",
       "      <td>NaN</td>\n",
       "      <td>NaN</td>\n",
       "      <td>NaN</td>\n",
       "    </tr>\n",
       "    <tr>\n",
       "      <th>2</th>\n",
       "      <td>0.2</td>\n",
       "      <td>multiple faces</td>\n",
       "      <td>NaN</td>\n",
       "      <td>NaN</td>\n",
       "      <td>NaN</td>\n",
       "      <td>NaN</td>\n",
       "    </tr>\n",
       "    <tr>\n",
       "      <th>3</th>\n",
       "      <td>0.3</td>\n",
       "      <td>single face</td>\n",
       "      <td>0.99</td>\n",
       "      <td>happy</td>\n",
       "      <td>1.0</td>\n",
       "      <td>False</td>\n",
       "    </tr>\n",
       "    <tr>\n",
       "      <th>4</th>\n",
       "      <td>0.4</td>\n",
       "      <td>single face</td>\n",
       "      <td>0.99</td>\n",
       "      <td>happy</td>\n",
       "      <td>1.0</td>\n",
       "      <td>True</td>\n",
       "    </tr>\n",
       "    <tr>\n",
       "      <th>5</th>\n",
       "      <td>0.5</td>\n",
       "      <td>single face</td>\n",
       "      <td>0.99</td>\n",
       "      <td>happy</td>\n",
       "      <td>1.0</td>\n",
       "      <td>True</td>\n",
       "    </tr>\n",
       "    <tr>\n",
       "      <th>...</th>\n",
       "      <td>...</td>\n",
       "      <td>...</td>\n",
       "      <td>...</td>\n",
       "      <td>...</td>\n",
       "      <td>...</td>\n",
       "      <td>...</td>\n",
       "    </tr>\n",
       "    <tr>\n",
       "      <th>1196</th>\n",
       "      <td>119.6</td>\n",
       "      <td>multiple faces</td>\n",
       "      <td>NaN</td>\n",
       "      <td>NaN</td>\n",
       "      <td>NaN</td>\n",
       "      <td>NaN</td>\n",
       "    </tr>\n",
       "    <tr>\n",
       "      <th>1197</th>\n",
       "      <td>119.7</td>\n",
       "      <td>multiple faces</td>\n",
       "      <td>NaN</td>\n",
       "      <td>NaN</td>\n",
       "      <td>NaN</td>\n",
       "      <td>NaN</td>\n",
       "    </tr>\n",
       "    <tr>\n",
       "      <th>1198</th>\n",
       "      <td>119.8</td>\n",
       "      <td>multiple faces</td>\n",
       "      <td>NaN</td>\n",
       "      <td>NaN</td>\n",
       "      <td>NaN</td>\n",
       "      <td>NaN</td>\n",
       "    </tr>\n",
       "    <tr>\n",
       "      <th>1199</th>\n",
       "      <td>119.9</td>\n",
       "      <td>multiple faces</td>\n",
       "      <td>NaN</td>\n",
       "      <td>NaN</td>\n",
       "      <td>NaN</td>\n",
       "      <td>NaN</td>\n",
       "    </tr>\n",
       "    <tr>\n",
       "      <th>1200</th>\n",
       "      <td>120.0</td>\n",
       "      <td>multiple faces</td>\n",
       "      <td>NaN</td>\n",
       "      <td>NaN</td>\n",
       "      <td>NaN</td>\n",
       "      <td>NaN</td>\n",
       "    </tr>\n",
       "  </tbody>\n",
       "</table>\n",
       "<p>1200 rows × 6 columns</p>\n",
       "</div>"
      ],
      "text/plain": [
       "      second            type  face_confidence emotion  emotion_confidence  \\\n",
       "1        0.1  multiple faces              NaN     NaN                 NaN   \n",
       "2        0.2  multiple faces              NaN     NaN                 NaN   \n",
       "3        0.3     single face             0.99   happy                 1.0   \n",
       "4        0.4     single face             0.99   happy                 1.0   \n",
       "5        0.5     single face             0.99   happy                 1.0   \n",
       "...      ...             ...              ...     ...                 ...   \n",
       "1196   119.6  multiple faces              NaN     NaN                 NaN   \n",
       "1197   119.7  multiple faces              NaN     NaN                 NaN   \n",
       "1198   119.8  multiple faces              NaN     NaN                 NaN   \n",
       "1199   119.9  multiple faces              NaN     NaN                 NaN   \n",
       "1200   120.0  multiple faces              NaN     NaN                 NaN   \n",
       "\n",
       "     face_match_prior  \n",
       "1                 NaN  \n",
       "2                 NaN  \n",
       "3               False  \n",
       "4                True  \n",
       "5                True  \n",
       "...               ...  \n",
       "1196              NaN  \n",
       "1197              NaN  \n",
       "1198              NaN  \n",
       "1199              NaN  \n",
       "1200              NaN  \n",
       "\n",
       "[1200 rows x 6 columns]"
      ]
     },
     "execution_count": 4,
     "metadata": {},
     "output_type": "execute_result"
    }
   ],
   "source": [
    "df = pd.read_csv(data_raw_dir+csv_file, index_col=0)\n",
    "df"
   ]
  },
  {
   "cell_type": "markdown",
   "id": "cf711621-4ebb-4873-917e-237c08ba3a20",
   "metadata": {},
   "source": [
    "#### Distribution of face types and emotion in the data"
   ]
  },
  {
   "cell_type": "code",
   "execution_count": 5,
   "id": "dc19a0cb-de51-446c-bf65-c26840767d06",
   "metadata": {},
   "outputs": [
    {
     "data": {
      "text/plain": [
       "type\n",
       "multiple faces    658\n",
       "single face       323\n",
       "no faces          219\n",
       "Name: count, dtype: int64"
      ]
     },
     "execution_count": 5,
     "metadata": {},
     "output_type": "execute_result"
    }
   ],
   "source": [
    "df.type.value_counts()"
   ]
  },
  {
   "cell_type": "code",
   "execution_count": 6,
   "id": "0c5ce684-e693-44bb-8919-509f4666ae76",
   "metadata": {},
   "outputs": [
    {
     "data": {
      "text/plain": [
       "emotion\n",
       "neutral     99\n",
       "fear        86\n",
       "happy       55\n",
       "sad         36\n",
       "angry       30\n",
       "surprise    17\n",
       "Name: count, dtype: int64"
      ]
     },
     "execution_count": 6,
     "metadata": {},
     "output_type": "execute_result"
    }
   ],
   "source": [
    "df[df.type==\"single face\"].emotion.value_counts()"
   ]
  },
  {
   "cell_type": "markdown",
   "id": "d64fa16d-f098-4f69-a823-26a0b5a02649",
   "metadata": {},
   "source": [
    "#### Filtering the frames with high confidence"
   ]
  },
  {
   "cell_type": "code",
   "execution_count": 7,
   "id": "b61b5678-49aa-4f6f-966c-ddf13d26cc3e",
   "metadata": {},
   "outputs": [
    {
     "data": {
      "text/html": [
       "<div>\n",
       "<style scoped>\n",
       "    .dataframe tbody tr th:only-of-type {\n",
       "        vertical-align: middle;\n",
       "    }\n",
       "\n",
       "    .dataframe tbody tr th {\n",
       "        vertical-align: top;\n",
       "    }\n",
       "\n",
       "    .dataframe thead th {\n",
       "        text-align: right;\n",
       "    }\n",
       "</style>\n",
       "<table border=\"1\" class=\"dataframe\">\n",
       "  <thead>\n",
       "    <tr style=\"text-align: right;\">\n",
       "      <th></th>\n",
       "      <th>face_confidence</th>\n",
       "      <th>emotion_confidence</th>\n",
       "    </tr>\n",
       "  </thead>\n",
       "  <tbody>\n",
       "    <tr>\n",
       "      <th>count</th>\n",
       "      <td>323.000000</td>\n",
       "      <td>323.000000</td>\n",
       "    </tr>\n",
       "    <tr>\n",
       "      <th>mean</th>\n",
       "      <td>0.996223</td>\n",
       "      <td>0.760402</td>\n",
       "    </tr>\n",
       "    <tr>\n",
       "      <th>std</th>\n",
       "      <td>0.010335</td>\n",
       "      <td>0.192356</td>\n",
       "    </tr>\n",
       "    <tr>\n",
       "      <th>min</th>\n",
       "      <td>0.940000</td>\n",
       "      <td>0.270000</td>\n",
       "    </tr>\n",
       "    <tr>\n",
       "      <th>25%</th>\n",
       "      <td>1.000000</td>\n",
       "      <td>0.600000</td>\n",
       "    </tr>\n",
       "    <tr>\n",
       "      <th>50%</th>\n",
       "      <td>1.000000</td>\n",
       "      <td>0.780000</td>\n",
       "    </tr>\n",
       "    <tr>\n",
       "      <th>75%</th>\n",
       "      <td>1.000000</td>\n",
       "      <td>0.950000</td>\n",
       "    </tr>\n",
       "    <tr>\n",
       "      <th>max</th>\n",
       "      <td>1.000000</td>\n",
       "      <td>1.000000</td>\n",
       "    </tr>\n",
       "  </tbody>\n",
       "</table>\n",
       "</div>"
      ],
      "text/plain": [
       "       face_confidence  emotion_confidence\n",
       "count       323.000000          323.000000\n",
       "mean          0.996223            0.760402\n",
       "std           0.010335            0.192356\n",
       "min           0.940000            0.270000\n",
       "25%           1.000000            0.600000\n",
       "50%           1.000000            0.780000\n",
       "75%           1.000000            0.950000\n",
       "max           1.000000            1.000000"
      ]
     },
     "execution_count": 7,
     "metadata": {},
     "output_type": "execute_result"
    }
   ],
   "source": [
    "df[df.type==\"single face\"][[\"face_confidence\", \"emotion_confidence\"]].describe()"
   ]
  },
  {
   "cell_type": "code",
   "execution_count": 8,
   "id": "9130fe21-193d-4e82-bdef-30d3daaed5bc",
   "metadata": {},
   "outputs": [
    {
     "data": {
      "text/plain": [
       "0.14083333333333334"
      ]
     },
     "execution_count": 8,
     "metadata": {},
     "output_type": "execute_result"
    }
   ],
   "source": [
    "df_filter = df[df.type == \"single face\"]\n",
    "df_filter = df_filter[df_filter.emotion_confidence > 0.7]\n",
    "df_filter = df_filter[df_filter.second > 15]\n",
    "len(df_filter)/len(df)"
   ]
  },
  {
   "cell_type": "code",
   "execution_count": 9,
   "id": "d0b90bcf-8c6d-47cf-b4b3-b13484a3e2d5",
   "metadata": {},
   "outputs": [
    {
     "data": {
      "text/html": [
       "<div>\n",
       "<style scoped>\n",
       "    .dataframe tbody tr th:only-of-type {\n",
       "        vertical-align: middle;\n",
       "    }\n",
       "\n",
       "    .dataframe tbody tr th {\n",
       "        vertical-align: top;\n",
       "    }\n",
       "\n",
       "    .dataframe thead th {\n",
       "        text-align: right;\n",
       "    }\n",
       "</style>\n",
       "<table border=\"1\" class=\"dataframe\">\n",
       "  <thead>\n",
       "    <tr style=\"text-align: right;\">\n",
       "      <th></th>\n",
       "      <th>second</th>\n",
       "      <th>type</th>\n",
       "      <th>face_confidence</th>\n",
       "      <th>emotion</th>\n",
       "      <th>emotion_confidence</th>\n",
       "      <th>face_match_prior</th>\n",
       "    </tr>\n",
       "  </thead>\n",
       "  <tbody>\n",
       "    <tr>\n",
       "      <th>151</th>\n",
       "      <td>15.1</td>\n",
       "      <td>single face</td>\n",
       "      <td>1.00</td>\n",
       "      <td>sad</td>\n",
       "      <td>0.89</td>\n",
       "      <td>False</td>\n",
       "    </tr>\n",
       "    <tr>\n",
       "      <th>155</th>\n",
       "      <td>15.5</td>\n",
       "      <td>single face</td>\n",
       "      <td>0.98</td>\n",
       "      <td>angry</td>\n",
       "      <td>0.83</td>\n",
       "      <td>False</td>\n",
       "    </tr>\n",
       "    <tr>\n",
       "      <th>157</th>\n",
       "      <td>15.7</td>\n",
       "      <td>single face</td>\n",
       "      <td>0.98</td>\n",
       "      <td>angry</td>\n",
       "      <td>0.84</td>\n",
       "      <td>False</td>\n",
       "    </tr>\n",
       "    <tr>\n",
       "      <th>163</th>\n",
       "      <td>16.3</td>\n",
       "      <td>single face</td>\n",
       "      <td>0.98</td>\n",
       "      <td>fear</td>\n",
       "      <td>0.89</td>\n",
       "      <td>False</td>\n",
       "    </tr>\n",
       "    <tr>\n",
       "      <th>166</th>\n",
       "      <td>16.6</td>\n",
       "      <td>single face</td>\n",
       "      <td>0.99</td>\n",
       "      <td>fear</td>\n",
       "      <td>0.99</td>\n",
       "      <td>True</td>\n",
       "    </tr>\n",
       "    <tr>\n",
       "      <th>...</th>\n",
       "      <td>...</td>\n",
       "      <td>...</td>\n",
       "      <td>...</td>\n",
       "      <td>...</td>\n",
       "      <td>...</td>\n",
       "      <td>...</td>\n",
       "    </tr>\n",
       "    <tr>\n",
       "      <th>1041</th>\n",
       "      <td>104.1</td>\n",
       "      <td>single face</td>\n",
       "      <td>0.99</td>\n",
       "      <td>angry</td>\n",
       "      <td>0.91</td>\n",
       "      <td>True</td>\n",
       "    </tr>\n",
       "    <tr>\n",
       "      <th>1043</th>\n",
       "      <td>104.3</td>\n",
       "      <td>single face</td>\n",
       "      <td>0.99</td>\n",
       "      <td>neutral</td>\n",
       "      <td>0.95</td>\n",
       "      <td>True</td>\n",
       "    </tr>\n",
       "    <tr>\n",
       "      <th>1047</th>\n",
       "      <td>104.7</td>\n",
       "      <td>single face</td>\n",
       "      <td>0.99</td>\n",
       "      <td>happy</td>\n",
       "      <td>0.99</td>\n",
       "      <td>False</td>\n",
       "    </tr>\n",
       "    <tr>\n",
       "      <th>1049</th>\n",
       "      <td>104.9</td>\n",
       "      <td>single face</td>\n",
       "      <td>1.00</td>\n",
       "      <td>happy</td>\n",
       "      <td>1.00</td>\n",
       "      <td>False</td>\n",
       "    </tr>\n",
       "    <tr>\n",
       "      <th>1051</th>\n",
       "      <td>105.1</td>\n",
       "      <td>single face</td>\n",
       "      <td>1.00</td>\n",
       "      <td>happy</td>\n",
       "      <td>0.97</td>\n",
       "      <td>False</td>\n",
       "    </tr>\n",
       "  </tbody>\n",
       "</table>\n",
       "<p>169 rows × 6 columns</p>\n",
       "</div>"
      ],
      "text/plain": [
       "      second         type  face_confidence  emotion  emotion_confidence  \\\n",
       "151     15.1  single face             1.00      sad                0.89   \n",
       "155     15.5  single face             0.98    angry                0.83   \n",
       "157     15.7  single face             0.98    angry                0.84   \n",
       "163     16.3  single face             0.98     fear                0.89   \n",
       "166     16.6  single face             0.99     fear                0.99   \n",
       "...      ...          ...              ...      ...                 ...   \n",
       "1041   104.1  single face             0.99    angry                0.91   \n",
       "1043   104.3  single face             0.99  neutral                0.95   \n",
       "1047   104.7  single face             0.99    happy                0.99   \n",
       "1049   104.9  single face             1.00    happy                1.00   \n",
       "1051   105.1  single face             1.00    happy                0.97   \n",
       "\n",
       "     face_match_prior  \n",
       "151             False  \n",
       "155             False  \n",
       "157             False  \n",
       "163             False  \n",
       "166              True  \n",
       "...               ...  \n",
       "1041             True  \n",
       "1043             True  \n",
       "1047            False  \n",
       "1049            False  \n",
       "1051            False  \n",
       "\n",
       "[169 rows x 6 columns]"
      ]
     },
     "execution_count": 9,
     "metadata": {},
     "output_type": "execute_result"
    }
   ],
   "source": [
    "df_filter"
   ]
  },
  {
   "cell_type": "markdown",
   "id": "1d734f82-4155-480c-ab40-a82835b4735d",
   "metadata": {},
   "source": [
    "#### Resolution difference between movies"
   ]
  },
  {
   "cell_type": "code",
   "execution_count": 10,
   "id": "ecd5f3d3-cb9c-42f0-b8ca-5e47b84386cb",
   "metadata": {},
   "outputs": [
    {
     "data": {
      "text/plain": [
       "([1920, 960], [640, 360])"
      ]
     },
     "execution_count": 10,
     "metadata": {},
     "output_type": "execute_result"
    }
   ],
   "source": [
    "VideoFileClip(data_raw_dir+\"barbiesmallest10.mp4\").size, VideoFileClip(data_raw_dir+\"trailer10.mp4\").size"
   ]
  },
  {
   "cell_type": "markdown",
   "id": "b9d7819d-e449-4f7e-b68f-f6b2087711c0",
   "metadata": {},
   "source": [
    "## Create clips"
   ]
  },
  {
   "cell_type": "markdown",
   "id": "59d5add9-d9b5-459f-af99-5a62977b13e3",
   "metadata": {
    "jp-MarkdownHeadingCollapsed": true
   },
   "source": [
    "#### Creating clips: sequential_images.mp4 and audio.mp3"
   ]
  },
  {
   "cell_type": "code",
   "execution_count": 13,
   "id": "c924ed76-ab1e-4eba-a1e5-1d8874fff471",
   "metadata": {
    "scrolled": true
   },
   "outputs": [
    {
     "name": "stdout",
     "output_type": "stream",
     "text": [
      "Moviepy - Building video /home/tamires/projects/rpp-aevans-ab/tamires/data/derived/barbie_subclips_15/0.1_15.0_sad_clip_images.mp4.\n",
      "Moviepy - Writing video /home/tamires/projects/rpp-aevans-ab/tamires/data/derived/barbie_subclips_15/0.1_15.0_sad_clip_images.mp4\n",
      "\n"
     ]
    },
    {
     "name": "stderr",
     "output_type": "stream",
     "text": [
      "                                                                                                                                                         \r"
     ]
    },
    {
     "name": "stdout",
     "output_type": "stream",
     "text": [
      "Moviepy - Done !\n",
      "Moviepy - video ready /home/tamires/projects/rpp-aevans-ab/tamires/data/derived/barbie_subclips_15/0.1_15.0_sad_clip_images.mp4\n",
      "MoviePy - Writing audio in /home/tamires/projects/rpp-aevans-ab/tamires/data/derived/barbie_subclips_15/0.1_15.0_sad_clip_audio.mp3\n"
     ]
    },
    {
     "name": "stderr",
     "output_type": "stream",
     "text": [
      "                                                                                                                                                         \r"
     ]
    },
    {
     "name": "stdout",
     "output_type": "stream",
     "text": [
      "MoviePy - Done.\n",
      "Moviepy - Building video /home/tamires/projects/rpp-aevans-ab/tamires/data/derived/barbie_subclips_15/0.5_15.4_angry_clip_images.mp4.\n",
      "Moviepy - Writing video /home/tamires/projects/rpp-aevans-ab/tamires/data/derived/barbie_subclips_15/0.5_15.4_angry_clip_images.mp4\n",
      "\n"
     ]
    },
    {
     "name": "stderr",
     "output_type": "stream",
     "text": [
      "                                                                                                                                                         \r"
     ]
    },
    {
     "name": "stdout",
     "output_type": "stream",
     "text": [
      "Moviepy - Done !\n",
      "Moviepy - video ready /home/tamires/projects/rpp-aevans-ab/tamires/data/derived/barbie_subclips_15/0.5_15.4_angry_clip_images.mp4\n",
      "MoviePy - Writing audio in /home/tamires/projects/rpp-aevans-ab/tamires/data/derived/barbie_subclips_15/0.5_15.4_angry_clip_audio.mp3\n"
     ]
    },
    {
     "name": "stderr",
     "output_type": "stream",
     "text": [
      "                                                                                                                                                         \r"
     ]
    },
    {
     "name": "stdout",
     "output_type": "stream",
     "text": [
      "MoviePy - Done.\n",
      "Moviepy - Building video /home/tamires/projects/rpp-aevans-ab/tamires/data/derived/barbie_subclips_15/0.7_15.6_angry_clip_images.mp4.\n",
      "Moviepy - Writing video /home/tamires/projects/rpp-aevans-ab/tamires/data/derived/barbie_subclips_15/0.7_15.6_angry_clip_images.mp4\n",
      "\n"
     ]
    },
    {
     "name": "stderr",
     "output_type": "stream",
     "text": [
      "                                                                                                                                                         \r"
     ]
    },
    {
     "name": "stdout",
     "output_type": "stream",
     "text": [
      "Moviepy - Done !\n",
      "Moviepy - video ready /home/tamires/projects/rpp-aevans-ab/tamires/data/derived/barbie_subclips_15/0.7_15.6_angry_clip_images.mp4\n",
      "MoviePy - Writing audio in /home/tamires/projects/rpp-aevans-ab/tamires/data/derived/barbie_subclips_15/0.7_15.6_angry_clip_audio.mp3\n"
     ]
    },
    {
     "name": "stderr",
     "output_type": "stream",
     "text": [
      "                                                                                                                                                         \r"
     ]
    },
    {
     "name": "stdout",
     "output_type": "stream",
     "text": [
      "MoviePy - Done.\n",
      "Moviepy - Building video /home/tamires/projects/rpp-aevans-ab/tamires/data/derived/barbie_subclips_15/1.3_16.2_fear_clip_images.mp4.\n",
      "Moviepy - Writing video /home/tamires/projects/rpp-aevans-ab/tamires/data/derived/barbie_subclips_15/1.3_16.2_fear_clip_images.mp4\n",
      "\n"
     ]
    },
    {
     "name": "stderr",
     "output_type": "stream",
     "text": [
      "                                                                                                                                                         \r"
     ]
    },
    {
     "name": "stdout",
     "output_type": "stream",
     "text": [
      "Moviepy - Done !\n",
      "Moviepy - video ready /home/tamires/projects/rpp-aevans-ab/tamires/data/derived/barbie_subclips_15/1.3_16.2_fear_clip_images.mp4\n",
      "MoviePy - Writing audio in /home/tamires/projects/rpp-aevans-ab/tamires/data/derived/barbie_subclips_15/1.3_16.2_fear_clip_audio.mp3\n"
     ]
    },
    {
     "name": "stderr",
     "output_type": "stream",
     "text": [
      "                                                                                                                                                         \r"
     ]
    },
    {
     "name": "stdout",
     "output_type": "stream",
     "text": [
      "MoviePy - Done.\n",
      "Moviepy - Building video /home/tamires/projects/rpp-aevans-ab/tamires/data/derived/barbie_subclips_15/1.6_16.5_fear_clip_images.mp4.\n",
      "Moviepy - Writing video /home/tamires/projects/rpp-aevans-ab/tamires/data/derived/barbie_subclips_15/1.6_16.5_fear_clip_images.mp4\n",
      "\n"
     ]
    },
    {
     "name": "stderr",
     "output_type": "stream",
     "text": [
      "                                                                                                                                                         \r"
     ]
    },
    {
     "name": "stdout",
     "output_type": "stream",
     "text": [
      "Moviepy - Done !\n",
      "Moviepy - video ready /home/tamires/projects/rpp-aevans-ab/tamires/data/derived/barbie_subclips_15/1.6_16.5_fear_clip_images.mp4\n",
      "MoviePy - Writing audio in /home/tamires/projects/rpp-aevans-ab/tamires/data/derived/barbie_subclips_15/1.6_16.5_fear_clip_audio.mp3\n"
     ]
    },
    {
     "name": "stderr",
     "output_type": "stream",
     "text": [
      "                                                                                                                                                         \r"
     ]
    },
    {
     "name": "stdout",
     "output_type": "stream",
     "text": [
      "MoviePy - Done.\n",
      "Moviepy - Building video /home/tamires/projects/rpp-aevans-ab/tamires/data/derived/barbie_subclips_15/1.7_16.6_fear_clip_images.mp4.\n",
      "Moviepy - Writing video /home/tamires/projects/rpp-aevans-ab/tamires/data/derived/barbie_subclips_15/1.7_16.6_fear_clip_images.mp4\n",
      "\n"
     ]
    },
    {
     "name": "stderr",
     "output_type": "stream",
     "text": [
      "                                                                                                                                                         \r"
     ]
    },
    {
     "name": "stdout",
     "output_type": "stream",
     "text": [
      "Moviepy - Done !\n",
      "Moviepy - video ready /home/tamires/projects/rpp-aevans-ab/tamires/data/derived/barbie_subclips_15/1.7_16.6_fear_clip_images.mp4\n",
      "MoviePy - Writing audio in /home/tamires/projects/rpp-aevans-ab/tamires/data/derived/barbie_subclips_15/1.7_16.6_fear_clip_audio.mp3\n"
     ]
    },
    {
     "name": "stderr",
     "output_type": "stream",
     "text": [
      "                                                                                                                                                         \r"
     ]
    },
    {
     "name": "stdout",
     "output_type": "stream",
     "text": [
      "MoviePy - Done.\n",
      "Moviepy - Building video /home/tamires/projects/rpp-aevans-ab/tamires/data/derived/barbie_subclips_15/1.8_16.7_fear_clip_images.mp4.\n",
      "Moviepy - Writing video /home/tamires/projects/rpp-aevans-ab/tamires/data/derived/barbie_subclips_15/1.8_16.7_fear_clip_images.mp4\n",
      "\n"
     ]
    },
    {
     "name": "stderr",
     "output_type": "stream",
     "text": [
      "                                                                                                                                                         \r"
     ]
    },
    {
     "name": "stdout",
     "output_type": "stream",
     "text": [
      "Moviepy - Done !\n",
      "Moviepy - video ready /home/tamires/projects/rpp-aevans-ab/tamires/data/derived/barbie_subclips_15/1.8_16.7_fear_clip_images.mp4\n",
      "MoviePy - Writing audio in /home/tamires/projects/rpp-aevans-ab/tamires/data/derived/barbie_subclips_15/1.8_16.7_fear_clip_audio.mp3\n"
     ]
    },
    {
     "name": "stderr",
     "output_type": "stream",
     "text": [
      "                                                                                                                                                         \r"
     ]
    },
    {
     "name": "stdout",
     "output_type": "stream",
     "text": [
      "MoviePy - Done.\n",
      "Moviepy - Building video /home/tamires/projects/rpp-aevans-ab/tamires/data/derived/barbie_subclips_15/1.9_16.8_fear_clip_images.mp4.\n",
      "Moviepy - Writing video /home/tamires/projects/rpp-aevans-ab/tamires/data/derived/barbie_subclips_15/1.9_16.8_fear_clip_images.mp4\n",
      "\n"
     ]
    },
    {
     "name": "stderr",
     "output_type": "stream",
     "text": [
      "                                                                                                                                                         \r"
     ]
    },
    {
     "name": "stdout",
     "output_type": "stream",
     "text": [
      "Moviepy - Done !\n",
      "Moviepy - video ready /home/tamires/projects/rpp-aevans-ab/tamires/data/derived/barbie_subclips_15/1.9_16.8_fear_clip_images.mp4\n",
      "MoviePy - Writing audio in /home/tamires/projects/rpp-aevans-ab/tamires/data/derived/barbie_subclips_15/1.9_16.8_fear_clip_audio.mp3\n"
     ]
    },
    {
     "name": "stderr",
     "output_type": "stream",
     "text": [
      "                                                                                                                                                         \r"
     ]
    },
    {
     "name": "stdout",
     "output_type": "stream",
     "text": [
      "MoviePy - Done.\n",
      "Moviepy - Building video /home/tamires/projects/rpp-aevans-ab/tamires/data/derived/barbie_subclips_15/2.0_16.9_fear_clip_images.mp4.\n",
      "Moviepy - Writing video /home/tamires/projects/rpp-aevans-ab/tamires/data/derived/barbie_subclips_15/2.0_16.9_fear_clip_images.mp4\n",
      "\n"
     ]
    },
    {
     "name": "stderr",
     "output_type": "stream",
     "text": [
      "                                                                                                                                                         \r"
     ]
    },
    {
     "name": "stdout",
     "output_type": "stream",
     "text": [
      "Moviepy - Done !\n",
      "Moviepy - video ready /home/tamires/projects/rpp-aevans-ab/tamires/data/derived/barbie_subclips_15/2.0_16.9_fear_clip_images.mp4\n",
      "MoviePy - Writing audio in /home/tamires/projects/rpp-aevans-ab/tamires/data/derived/barbie_subclips_15/2.0_16.9_fear_clip_audio.mp3\n"
     ]
    },
    {
     "name": "stderr",
     "output_type": "stream",
     "text": [
      "                                                                                                                                                         \r"
     ]
    },
    {
     "name": "stdout",
     "output_type": "stream",
     "text": [
      "MoviePy - Done.\n",
      "Moviepy - Building video /home/tamires/projects/rpp-aevans-ab/tamires/data/derived/barbie_subclips_15/2.1_17.0_fear_clip_images.mp4.\n",
      "Moviepy - Writing video /home/tamires/projects/rpp-aevans-ab/tamires/data/derived/barbie_subclips_15/2.1_17.0_fear_clip_images.mp4\n",
      "\n"
     ]
    },
    {
     "name": "stderr",
     "output_type": "stream",
     "text": [
      "                                                                                                                                                         \r"
     ]
    },
    {
     "name": "stdout",
     "output_type": "stream",
     "text": [
      "Moviepy - Done !\n",
      "Moviepy - video ready /home/tamires/projects/rpp-aevans-ab/tamires/data/derived/barbie_subclips_15/2.1_17.0_fear_clip_images.mp4\n",
      "MoviePy - Writing audio in /home/tamires/projects/rpp-aevans-ab/tamires/data/derived/barbie_subclips_15/2.1_17.0_fear_clip_audio.mp3\n"
     ]
    },
    {
     "name": "stderr",
     "output_type": "stream",
     "text": [
      "                                                                                                                                                         \r"
     ]
    },
    {
     "name": "stdout",
     "output_type": "stream",
     "text": [
      "MoviePy - Done.\n",
      "Moviepy - Building video /home/tamires/projects/rpp-aevans-ab/tamires/data/derived/barbie_subclips_15/2.3_17.2_fear_clip_images.mp4.\n",
      "Moviepy - Writing video /home/tamires/projects/rpp-aevans-ab/tamires/data/derived/barbie_subclips_15/2.3_17.2_fear_clip_images.mp4\n",
      "\n"
     ]
    },
    {
     "name": "stderr",
     "output_type": "stream",
     "text": [
      "                                                                                                                                                         \r"
     ]
    },
    {
     "name": "stdout",
     "output_type": "stream",
     "text": [
      "Moviepy - Done !\n",
      "Moviepy - video ready /home/tamires/projects/rpp-aevans-ab/tamires/data/derived/barbie_subclips_15/2.3_17.2_fear_clip_images.mp4\n",
      "MoviePy - Writing audio in /home/tamires/projects/rpp-aevans-ab/tamires/data/derived/barbie_subclips_15/2.3_17.2_fear_clip_audio.mp3\n"
     ]
    },
    {
     "name": "stderr",
     "output_type": "stream",
     "text": [
      "                                                                                                                                                         \r"
     ]
    },
    {
     "name": "stdout",
     "output_type": "stream",
     "text": [
      "MoviePy - Done.\n",
      "Moviepy - Building video /home/tamires/projects/rpp-aevans-ab/tamires/data/derived/barbie_subclips_15/2.4_17.3_fear_clip_images.mp4.\n",
      "Moviepy - Writing video /home/tamires/projects/rpp-aevans-ab/tamires/data/derived/barbie_subclips_15/2.4_17.3_fear_clip_images.mp4\n",
      "\n"
     ]
    },
    {
     "name": "stderr",
     "output_type": "stream",
     "text": [
      "                                                                                                                                                         \r"
     ]
    },
    {
     "name": "stdout",
     "output_type": "stream",
     "text": [
      "Moviepy - Done !\n",
      "Moviepy - video ready /home/tamires/projects/rpp-aevans-ab/tamires/data/derived/barbie_subclips_15/2.4_17.3_fear_clip_images.mp4\n",
      "MoviePy - Writing audio in /home/tamires/projects/rpp-aevans-ab/tamires/data/derived/barbie_subclips_15/2.4_17.3_fear_clip_audio.mp3\n"
     ]
    },
    {
     "name": "stderr",
     "output_type": "stream",
     "text": [
      "                                                                                                                                                         \r"
     ]
    },
    {
     "name": "stdout",
     "output_type": "stream",
     "text": [
      "MoviePy - Done.\n",
      "Moviepy - Building video /home/tamires/projects/rpp-aevans-ab/tamires/data/derived/barbie_subclips_15/2.7_17.6_angry_clip_images.mp4.\n",
      "Moviepy - Writing video /home/tamires/projects/rpp-aevans-ab/tamires/data/derived/barbie_subclips_15/2.7_17.6_angry_clip_images.mp4\n",
      "\n"
     ]
    },
    {
     "name": "stderr",
     "output_type": "stream",
     "text": [
      "                                                                                                                                                         \r"
     ]
    },
    {
     "name": "stdout",
     "output_type": "stream",
     "text": [
      "Moviepy - Done !\n",
      "Moviepy - video ready /home/tamires/projects/rpp-aevans-ab/tamires/data/derived/barbie_subclips_15/2.7_17.6_angry_clip_images.mp4\n",
      "MoviePy - Writing audio in /home/tamires/projects/rpp-aevans-ab/tamires/data/derived/barbie_subclips_15/2.7_17.6_angry_clip_audio.mp3\n"
     ]
    },
    {
     "name": "stderr",
     "output_type": "stream",
     "text": [
      "                                                                                                                                                         \r"
     ]
    },
    {
     "name": "stdout",
     "output_type": "stream",
     "text": [
      "MoviePy - Done.\n",
      "Moviepy - Building video /home/tamires/projects/rpp-aevans-ab/tamires/data/derived/barbie_subclips_15/3.0_17.9_fear_clip_images.mp4.\n",
      "Moviepy - Writing video /home/tamires/projects/rpp-aevans-ab/tamires/data/derived/barbie_subclips_15/3.0_17.9_fear_clip_images.mp4\n",
      "\n"
     ]
    },
    {
     "name": "stderr",
     "output_type": "stream",
     "text": [
      "                                                                                                                                                         \r"
     ]
    },
    {
     "name": "stdout",
     "output_type": "stream",
     "text": [
      "Moviepy - Done !\n",
      "Moviepy - video ready /home/tamires/projects/rpp-aevans-ab/tamires/data/derived/barbie_subclips_15/3.0_17.9_fear_clip_images.mp4\n",
      "MoviePy - Writing audio in /home/tamires/projects/rpp-aevans-ab/tamires/data/derived/barbie_subclips_15/3.0_17.9_fear_clip_audio.mp3\n"
     ]
    },
    {
     "name": "stderr",
     "output_type": "stream",
     "text": [
      "                                                                                                                                                         \r"
     ]
    },
    {
     "name": "stdout",
     "output_type": "stream",
     "text": [
      "MoviePy - Done.\n",
      "Moviepy - Building video /home/tamires/projects/rpp-aevans-ab/tamires/data/derived/barbie_subclips_15/3.8_18.7_happy_clip_images.mp4.\n",
      "Moviepy - Writing video /home/tamires/projects/rpp-aevans-ab/tamires/data/derived/barbie_subclips_15/3.8_18.7_happy_clip_images.mp4\n",
      "\n"
     ]
    },
    {
     "name": "stderr",
     "output_type": "stream",
     "text": [
      "                                                                                                                                                         \r"
     ]
    },
    {
     "name": "stdout",
     "output_type": "stream",
     "text": [
      "Moviepy - Done !\n",
      "Moviepy - video ready /home/tamires/projects/rpp-aevans-ab/tamires/data/derived/barbie_subclips_15/3.8_18.7_happy_clip_images.mp4\n",
      "MoviePy - Writing audio in /home/tamires/projects/rpp-aevans-ab/tamires/data/derived/barbie_subclips_15/3.8_18.7_happy_clip_audio.mp3\n"
     ]
    },
    {
     "name": "stderr",
     "output_type": "stream",
     "text": [
      "                                                                                                                                                         \r"
     ]
    },
    {
     "name": "stdout",
     "output_type": "stream",
     "text": [
      "MoviePy - Done.\n",
      "Moviepy - Building video /home/tamires/projects/rpp-aevans-ab/tamires/data/derived/barbie_subclips_15/4.0_18.9_fear_clip_images.mp4.\n",
      "Moviepy - Writing video /home/tamires/projects/rpp-aevans-ab/tamires/data/derived/barbie_subclips_15/4.0_18.9_fear_clip_images.mp4\n",
      "\n"
     ]
    },
    {
     "name": "stderr",
     "output_type": "stream",
     "text": [
      "                                                                                                                                                         \r"
     ]
    },
    {
     "name": "stdout",
     "output_type": "stream",
     "text": [
      "Moviepy - Done !\n",
      "Moviepy - video ready /home/tamires/projects/rpp-aevans-ab/tamires/data/derived/barbie_subclips_15/4.0_18.9_fear_clip_images.mp4\n",
      "MoviePy - Writing audio in /home/tamires/projects/rpp-aevans-ab/tamires/data/derived/barbie_subclips_15/4.0_18.9_fear_clip_audio.mp3\n"
     ]
    },
    {
     "name": "stderr",
     "output_type": "stream",
     "text": [
      "                                                                                                                                                         \r"
     ]
    },
    {
     "name": "stdout",
     "output_type": "stream",
     "text": [
      "MoviePy - Done.\n",
      "Moviepy - Building video /home/tamires/projects/rpp-aevans-ab/tamires/data/derived/barbie_subclips_15/4.2_19.1_neutral_clip_images.mp4.\n",
      "Moviepy - Writing video /home/tamires/projects/rpp-aevans-ab/tamires/data/derived/barbie_subclips_15/4.2_19.1_neutral_clip_images.mp4\n",
      "\n"
     ]
    },
    {
     "name": "stderr",
     "output_type": "stream",
     "text": [
      "                                                                                                                                                         \r"
     ]
    },
    {
     "name": "stdout",
     "output_type": "stream",
     "text": [
      "Moviepy - Done !\n",
      "Moviepy - video ready /home/tamires/projects/rpp-aevans-ab/tamires/data/derived/barbie_subclips_15/4.2_19.1_neutral_clip_images.mp4\n",
      "MoviePy - Writing audio in /home/tamires/projects/rpp-aevans-ab/tamires/data/derived/barbie_subclips_15/4.2_19.1_neutral_clip_audio.mp3\n"
     ]
    },
    {
     "name": "stderr",
     "output_type": "stream",
     "text": [
      "                                                                                                                                                         \r"
     ]
    },
    {
     "name": "stdout",
     "output_type": "stream",
     "text": [
      "MoviePy - Done.\n",
      "Moviepy - Building video /home/tamires/projects/rpp-aevans-ab/tamires/data/derived/barbie_subclips_15/4.4_19.3_neutral_clip_images.mp4.\n",
      "Moviepy - Writing video /home/tamires/projects/rpp-aevans-ab/tamires/data/derived/barbie_subclips_15/4.4_19.3_neutral_clip_images.mp4\n",
      "\n"
     ]
    },
    {
     "name": "stderr",
     "output_type": "stream",
     "text": [
      "                                                                                                                                                         \r"
     ]
    },
    {
     "name": "stdout",
     "output_type": "stream",
     "text": [
      "Moviepy - Done !\n",
      "Moviepy - video ready /home/tamires/projects/rpp-aevans-ab/tamires/data/derived/barbie_subclips_15/4.4_19.3_neutral_clip_images.mp4\n",
      "MoviePy - Writing audio in /home/tamires/projects/rpp-aevans-ab/tamires/data/derived/barbie_subclips_15/4.4_19.3_neutral_clip_audio.mp3\n"
     ]
    },
    {
     "name": "stderr",
     "output_type": "stream",
     "text": [
      "                                                                                                                                                         \r"
     ]
    },
    {
     "name": "stdout",
     "output_type": "stream",
     "text": [
      "MoviePy - Done.\n",
      "Moviepy - Building video /home/tamires/projects/rpp-aevans-ab/tamires/data/derived/barbie_subclips_15/4.8_19.7_fear_clip_images.mp4.\n",
      "Moviepy - Writing video /home/tamires/projects/rpp-aevans-ab/tamires/data/derived/barbie_subclips_15/4.8_19.7_fear_clip_images.mp4\n",
      "\n"
     ]
    },
    {
     "name": "stderr",
     "output_type": "stream",
     "text": [
      "                                                                                                                                                         \r"
     ]
    },
    {
     "name": "stdout",
     "output_type": "stream",
     "text": [
      "Moviepy - Done !\n",
      "Moviepy - video ready /home/tamires/projects/rpp-aevans-ab/tamires/data/derived/barbie_subclips_15/4.8_19.7_fear_clip_images.mp4\n",
      "MoviePy - Writing audio in /home/tamires/projects/rpp-aevans-ab/tamires/data/derived/barbie_subclips_15/4.8_19.7_fear_clip_audio.mp3\n"
     ]
    },
    {
     "name": "stderr",
     "output_type": "stream",
     "text": [
      "                                                                                                                                                         \r"
     ]
    },
    {
     "name": "stdout",
     "output_type": "stream",
     "text": [
      "MoviePy - Done.\n",
      "Moviepy - Building video /home/tamires/projects/rpp-aevans-ab/tamires/data/derived/barbie_subclips_15/4.9_19.8_fear_clip_images.mp4.\n",
      "Moviepy - Writing video /home/tamires/projects/rpp-aevans-ab/tamires/data/derived/barbie_subclips_15/4.9_19.8_fear_clip_images.mp4\n",
      "\n"
     ]
    },
    {
     "name": "stderr",
     "output_type": "stream",
     "text": [
      "                                                                                                                                                         \r"
     ]
    },
    {
     "name": "stdout",
     "output_type": "stream",
     "text": [
      "Moviepy - Done !\n",
      "Moviepy - video ready /home/tamires/projects/rpp-aevans-ab/tamires/data/derived/barbie_subclips_15/4.9_19.8_fear_clip_images.mp4\n",
      "MoviePy - Writing audio in /home/tamires/projects/rpp-aevans-ab/tamires/data/derived/barbie_subclips_15/4.9_19.8_fear_clip_audio.mp3\n"
     ]
    },
    {
     "name": "stderr",
     "output_type": "stream",
     "text": [
      "                                                                                                                                                         \r"
     ]
    },
    {
     "name": "stdout",
     "output_type": "stream",
     "text": [
      "MoviePy - Done.\n",
      "Moviepy - Building video /home/tamires/projects/rpp-aevans-ab/tamires/data/derived/barbie_subclips_15/5.0_19.9_fear_clip_images.mp4.\n",
      "Moviepy - Writing video /home/tamires/projects/rpp-aevans-ab/tamires/data/derived/barbie_subclips_15/5.0_19.9_fear_clip_images.mp4\n",
      "\n"
     ]
    },
    {
     "name": "stderr",
     "output_type": "stream",
     "text": [
      "                                                                                                                                                         \r"
     ]
    },
    {
     "name": "stdout",
     "output_type": "stream",
     "text": [
      "Moviepy - Done !\n",
      "Moviepy - video ready /home/tamires/projects/rpp-aevans-ab/tamires/data/derived/barbie_subclips_15/5.0_19.9_fear_clip_images.mp4\n",
      "MoviePy - Writing audio in /home/tamires/projects/rpp-aevans-ab/tamires/data/derived/barbie_subclips_15/5.0_19.9_fear_clip_audio.mp3\n"
     ]
    },
    {
     "name": "stderr",
     "output_type": "stream",
     "text": [
      "                                                                                                                                                         \r"
     ]
    },
    {
     "name": "stdout",
     "output_type": "stream",
     "text": [
      "MoviePy - Done.\n",
      "Moviepy - Building video /home/tamires/projects/rpp-aevans-ab/tamires/data/derived/barbie_subclips_15/5.1_20.0_fear_clip_images.mp4.\n",
      "Moviepy - Writing video /home/tamires/projects/rpp-aevans-ab/tamires/data/derived/barbie_subclips_15/5.1_20.0_fear_clip_images.mp4\n",
      "\n"
     ]
    },
    {
     "name": "stderr",
     "output_type": "stream",
     "text": [
      "                                                                                                                                                         \r"
     ]
    },
    {
     "name": "stdout",
     "output_type": "stream",
     "text": [
      "Moviepy - Done !\n",
      "Moviepy - video ready /home/tamires/projects/rpp-aevans-ab/tamires/data/derived/barbie_subclips_15/5.1_20.0_fear_clip_images.mp4\n",
      "MoviePy - Writing audio in /home/tamires/projects/rpp-aevans-ab/tamires/data/derived/barbie_subclips_15/5.1_20.0_fear_clip_audio.mp3\n"
     ]
    },
    {
     "name": "stderr",
     "output_type": "stream",
     "text": [
      "                                                                                                                                                         \r"
     ]
    },
    {
     "name": "stdout",
     "output_type": "stream",
     "text": [
      "MoviePy - Done.\n",
      "Moviepy - Building video /home/tamires/projects/rpp-aevans-ab/tamires/data/derived/barbie_subclips_15/5.5_20.4_sad_clip_images.mp4.\n",
      "Moviepy - Writing video /home/tamires/projects/rpp-aevans-ab/tamires/data/derived/barbie_subclips_15/5.5_20.4_sad_clip_images.mp4\n",
      "\n"
     ]
    },
    {
     "name": "stderr",
     "output_type": "stream",
     "text": [
      "                                                                                                                                                         \r"
     ]
    },
    {
     "name": "stdout",
     "output_type": "stream",
     "text": [
      "Moviepy - Done !\n",
      "Moviepy - video ready /home/tamires/projects/rpp-aevans-ab/tamires/data/derived/barbie_subclips_15/5.5_20.4_sad_clip_images.mp4\n",
      "MoviePy - Writing audio in /home/tamires/projects/rpp-aevans-ab/tamires/data/derived/barbie_subclips_15/5.5_20.4_sad_clip_audio.mp3\n"
     ]
    },
    {
     "name": "stderr",
     "output_type": "stream",
     "text": [
      "                                                                                                                                                         \r"
     ]
    },
    {
     "name": "stdout",
     "output_type": "stream",
     "text": [
      "MoviePy - Done.\n",
      "Moviepy - Building video /home/tamires/projects/rpp-aevans-ab/tamires/data/derived/barbie_subclips_15/15.2_30.1_happy_clip_images.mp4.\n",
      "Moviepy - Writing video /home/tamires/projects/rpp-aevans-ab/tamires/data/derived/barbie_subclips_15/15.2_30.1_happy_clip_images.mp4\n",
      "\n"
     ]
    },
    {
     "name": "stderr",
     "output_type": "stream",
     "text": [
      "                                                                                                                                                         \r"
     ]
    },
    {
     "name": "stdout",
     "output_type": "stream",
     "text": [
      "Moviepy - Done !\n",
      "Moviepy - video ready /home/tamires/projects/rpp-aevans-ab/tamires/data/derived/barbie_subclips_15/15.2_30.1_happy_clip_images.mp4\n",
      "MoviePy - Writing audio in /home/tamires/projects/rpp-aevans-ab/tamires/data/derived/barbie_subclips_15/15.2_30.1_happy_clip_audio.mp3\n"
     ]
    },
    {
     "name": "stderr",
     "output_type": "stream",
     "text": [
      "                                                                                                                                                         \r"
     ]
    },
    {
     "name": "stdout",
     "output_type": "stream",
     "text": [
      "MoviePy - Done.\n",
      "Moviepy - Building video /home/tamires/projects/rpp-aevans-ab/tamires/data/derived/barbie_subclips_15/15.3_30.2_happy_clip_images.mp4.\n",
      "Moviepy - Writing video /home/tamires/projects/rpp-aevans-ab/tamires/data/derived/barbie_subclips_15/15.3_30.2_happy_clip_images.mp4\n",
      "\n"
     ]
    },
    {
     "name": "stderr",
     "output_type": "stream",
     "text": [
      "                                                                                                                                                         \r"
     ]
    },
    {
     "name": "stdout",
     "output_type": "stream",
     "text": [
      "Moviepy - Done !\n",
      "Moviepy - video ready /home/tamires/projects/rpp-aevans-ab/tamires/data/derived/barbie_subclips_15/15.3_30.2_happy_clip_images.mp4\n",
      "MoviePy - Writing audio in /home/tamires/projects/rpp-aevans-ab/tamires/data/derived/barbie_subclips_15/15.3_30.2_happy_clip_audio.mp3\n"
     ]
    },
    {
     "name": "stderr",
     "output_type": "stream",
     "text": [
      "                                                                                                                                                         \r"
     ]
    },
    {
     "name": "stdout",
     "output_type": "stream",
     "text": [
      "MoviePy - Done.\n",
      "Moviepy - Building video /home/tamires/projects/rpp-aevans-ab/tamires/data/derived/barbie_subclips_15/15.4_30.3_happy_clip_images.mp4.\n",
      "Moviepy - Writing video /home/tamires/projects/rpp-aevans-ab/tamires/data/derived/barbie_subclips_15/15.4_30.3_happy_clip_images.mp4\n",
      "\n"
     ]
    },
    {
     "name": "stderr",
     "output_type": "stream",
     "text": [
      "                                                                                                                                                         \r"
     ]
    },
    {
     "name": "stdout",
     "output_type": "stream",
     "text": [
      "Moviepy - Done !\n",
      "Moviepy - video ready /home/tamires/projects/rpp-aevans-ab/tamires/data/derived/barbie_subclips_15/15.4_30.3_happy_clip_images.mp4\n",
      "MoviePy - Writing audio in /home/tamires/projects/rpp-aevans-ab/tamires/data/derived/barbie_subclips_15/15.4_30.3_happy_clip_audio.mp3\n"
     ]
    },
    {
     "name": "stderr",
     "output_type": "stream",
     "text": [
      "                                                                                                                                                         \r"
     ]
    },
    {
     "name": "stdout",
     "output_type": "stream",
     "text": [
      "MoviePy - Done.\n",
      "Moviepy - Building video /home/tamires/projects/rpp-aevans-ab/tamires/data/derived/barbie_subclips_15/15.8_30.7_happy_clip_images.mp4.\n",
      "Moviepy - Writing video /home/tamires/projects/rpp-aevans-ab/tamires/data/derived/barbie_subclips_15/15.8_30.7_happy_clip_images.mp4\n",
      "\n"
     ]
    },
    {
     "name": "stderr",
     "output_type": "stream",
     "text": [
      "                                                                                                                                                         \r"
     ]
    },
    {
     "name": "stdout",
     "output_type": "stream",
     "text": [
      "Moviepy - Done !\n",
      "Moviepy - video ready /home/tamires/projects/rpp-aevans-ab/tamires/data/derived/barbie_subclips_15/15.8_30.7_happy_clip_images.mp4\n",
      "MoviePy - Writing audio in /home/tamires/projects/rpp-aevans-ab/tamires/data/derived/barbie_subclips_15/15.8_30.7_happy_clip_audio.mp3\n"
     ]
    },
    {
     "name": "stderr",
     "output_type": "stream",
     "text": [
      "                                                                                                                                                         \r"
     ]
    },
    {
     "name": "stdout",
     "output_type": "stream",
     "text": [
      "MoviePy - Done.\n",
      "Moviepy - Building video /home/tamires/projects/rpp-aevans-ab/tamires/data/derived/barbie_subclips_15/15.9_30.8_happy_clip_images.mp4.\n",
      "Moviepy - Writing video /home/tamires/projects/rpp-aevans-ab/tamires/data/derived/barbie_subclips_15/15.9_30.8_happy_clip_images.mp4\n",
      "\n"
     ]
    },
    {
     "name": "stderr",
     "output_type": "stream",
     "text": [
      "                                                                                                                                                         \r"
     ]
    },
    {
     "name": "stdout",
     "output_type": "stream",
     "text": [
      "Moviepy - Done !\n",
      "Moviepy - video ready /home/tamires/projects/rpp-aevans-ab/tamires/data/derived/barbie_subclips_15/15.9_30.8_happy_clip_images.mp4\n",
      "MoviePy - Writing audio in /home/tamires/projects/rpp-aevans-ab/tamires/data/derived/barbie_subclips_15/15.9_30.8_happy_clip_audio.mp3\n"
     ]
    },
    {
     "name": "stderr",
     "output_type": "stream",
     "text": [
      "                                                                                                                                                         \r"
     ]
    },
    {
     "name": "stdout",
     "output_type": "stream",
     "text": [
      "MoviePy - Done.\n",
      "Moviepy - Building video /home/tamires/projects/rpp-aevans-ab/tamires/data/derived/barbie_subclips_15/16.0_30.9_happy_clip_images.mp4.\n",
      "Moviepy - Writing video /home/tamires/projects/rpp-aevans-ab/tamires/data/derived/barbie_subclips_15/16.0_30.9_happy_clip_images.mp4\n",
      "\n"
     ]
    },
    {
     "name": "stderr",
     "output_type": "stream",
     "text": [
      "                                                                                                                                                         \r"
     ]
    },
    {
     "name": "stdout",
     "output_type": "stream",
     "text": [
      "Moviepy - Done !\n",
      "Moviepy - video ready /home/tamires/projects/rpp-aevans-ab/tamires/data/derived/barbie_subclips_15/16.0_30.9_happy_clip_images.mp4\n",
      "MoviePy - Writing audio in /home/tamires/projects/rpp-aevans-ab/tamires/data/derived/barbie_subclips_15/16.0_30.9_happy_clip_audio.mp3\n"
     ]
    },
    {
     "name": "stderr",
     "output_type": "stream",
     "text": [
      "                                                                                                                                                         \r"
     ]
    },
    {
     "name": "stdout",
     "output_type": "stream",
     "text": [
      "MoviePy - Done.\n",
      "Moviepy - Building video /home/tamires/projects/rpp-aevans-ab/tamires/data/derived/barbie_subclips_15/16.1_31.0_happy_clip_images.mp4.\n",
      "Moviepy - Writing video /home/tamires/projects/rpp-aevans-ab/tamires/data/derived/barbie_subclips_15/16.1_31.0_happy_clip_images.mp4\n",
      "\n"
     ]
    },
    {
     "name": "stderr",
     "output_type": "stream",
     "text": [
      "                                                                                                                                                         \r"
     ]
    },
    {
     "name": "stdout",
     "output_type": "stream",
     "text": [
      "Moviepy - Done !\n",
      "Moviepy - video ready /home/tamires/projects/rpp-aevans-ab/tamires/data/derived/barbie_subclips_15/16.1_31.0_happy_clip_images.mp4\n",
      "MoviePy - Writing audio in /home/tamires/projects/rpp-aevans-ab/tamires/data/derived/barbie_subclips_15/16.1_31.0_happy_clip_audio.mp3\n"
     ]
    },
    {
     "name": "stderr",
     "output_type": "stream",
     "text": [
      "                                                                                                                                                         \r"
     ]
    },
    {
     "name": "stdout",
     "output_type": "stream",
     "text": [
      "MoviePy - Done.\n",
      "Moviepy - Building video /home/tamires/projects/rpp-aevans-ab/tamires/data/derived/barbie_subclips_15/16.2_31.1_happy_clip_images.mp4.\n",
      "Moviepy - Writing video /home/tamires/projects/rpp-aevans-ab/tamires/data/derived/barbie_subclips_15/16.2_31.1_happy_clip_images.mp4\n",
      "\n"
     ]
    },
    {
     "name": "stderr",
     "output_type": "stream",
     "text": [
      "                                                                                                                                                         \r"
     ]
    },
    {
     "name": "stdout",
     "output_type": "stream",
     "text": [
      "Moviepy - Done !\n",
      "Moviepy - video ready /home/tamires/projects/rpp-aevans-ab/tamires/data/derived/barbie_subclips_15/16.2_31.1_happy_clip_images.mp4\n",
      "MoviePy - Writing audio in /home/tamires/projects/rpp-aevans-ab/tamires/data/derived/barbie_subclips_15/16.2_31.1_happy_clip_audio.mp3\n"
     ]
    },
    {
     "name": "stderr",
     "output_type": "stream",
     "text": [
      "                                                                                                                                                         \r"
     ]
    },
    {
     "name": "stdout",
     "output_type": "stream",
     "text": [
      "MoviePy - Done.\n",
      "Moviepy - Building video /home/tamires/projects/rpp-aevans-ab/tamires/data/derived/barbie_subclips_15/16.3_31.2_happy_clip_images.mp4.\n",
      "Moviepy - Writing video /home/tamires/projects/rpp-aevans-ab/tamires/data/derived/barbie_subclips_15/16.3_31.2_happy_clip_images.mp4\n",
      "\n"
     ]
    },
    {
     "name": "stderr",
     "output_type": "stream",
     "text": [
      "                                                                                                                                                         \r"
     ]
    },
    {
     "name": "stdout",
     "output_type": "stream",
     "text": [
      "Moviepy - Done !\n",
      "Moviepy - video ready /home/tamires/projects/rpp-aevans-ab/tamires/data/derived/barbie_subclips_15/16.3_31.2_happy_clip_images.mp4\n",
      "MoviePy - Writing audio in /home/tamires/projects/rpp-aevans-ab/tamires/data/derived/barbie_subclips_15/16.3_31.2_happy_clip_audio.mp3\n"
     ]
    },
    {
     "name": "stderr",
     "output_type": "stream",
     "text": [
      "                                                                                                                                                         \r"
     ]
    },
    {
     "name": "stdout",
     "output_type": "stream",
     "text": [
      "MoviePy - Done.\n",
      "Moviepy - Building video /home/tamires/projects/rpp-aevans-ab/tamires/data/derived/barbie_subclips_15/16.4_31.3_happy_clip_images.mp4.\n",
      "Moviepy - Writing video /home/tamires/projects/rpp-aevans-ab/tamires/data/derived/barbie_subclips_15/16.4_31.3_happy_clip_images.mp4\n",
      "\n"
     ]
    },
    {
     "name": "stderr",
     "output_type": "stream",
     "text": [
      "                                                                                                                                                         \r"
     ]
    },
    {
     "name": "stdout",
     "output_type": "stream",
     "text": [
      "Moviepy - Done !\n",
      "Moviepy - video ready /home/tamires/projects/rpp-aevans-ab/tamires/data/derived/barbie_subclips_15/16.4_31.3_happy_clip_images.mp4\n",
      "MoviePy - Writing audio in /home/tamires/projects/rpp-aevans-ab/tamires/data/derived/barbie_subclips_15/16.4_31.3_happy_clip_audio.mp3\n"
     ]
    },
    {
     "name": "stderr",
     "output_type": "stream",
     "text": [
      "                                                                                                                                                         \r"
     ]
    },
    {
     "name": "stdout",
     "output_type": "stream",
     "text": [
      "MoviePy - Done.\n",
      "Moviepy - Building video /home/tamires/projects/rpp-aevans-ab/tamires/data/derived/barbie_subclips_15/16.5_31.4_happy_clip_images.mp4.\n",
      "Moviepy - Writing video /home/tamires/projects/rpp-aevans-ab/tamires/data/derived/barbie_subclips_15/16.5_31.4_happy_clip_images.mp4\n",
      "\n"
     ]
    },
    {
     "name": "stderr",
     "output_type": "stream",
     "text": [
      "                                                                                                                                                         \r"
     ]
    },
    {
     "name": "stdout",
     "output_type": "stream",
     "text": [
      "Moviepy - Done !\n",
      "Moviepy - video ready /home/tamires/projects/rpp-aevans-ab/tamires/data/derived/barbie_subclips_15/16.5_31.4_happy_clip_images.mp4\n",
      "MoviePy - Writing audio in /home/tamires/projects/rpp-aevans-ab/tamires/data/derived/barbie_subclips_15/16.5_31.4_happy_clip_audio.mp3\n"
     ]
    },
    {
     "name": "stderr",
     "output_type": "stream",
     "text": [
      "                                                                                                                                                         \r"
     ]
    },
    {
     "name": "stdout",
     "output_type": "stream",
     "text": [
      "MoviePy - Done.\n",
      "Moviepy - Building video /home/tamires/projects/rpp-aevans-ab/tamires/data/derived/barbie_subclips_15/16.6_31.5_happy_clip_images.mp4.\n",
      "Moviepy - Writing video /home/tamires/projects/rpp-aevans-ab/tamires/data/derived/barbie_subclips_15/16.6_31.5_happy_clip_images.mp4\n",
      "\n"
     ]
    },
    {
     "name": "stderr",
     "output_type": "stream",
     "text": [
      "                                                                                                                                                         \r"
     ]
    },
    {
     "name": "stdout",
     "output_type": "stream",
     "text": [
      "Moviepy - Done !\n",
      "Moviepy - video ready /home/tamires/projects/rpp-aevans-ab/tamires/data/derived/barbie_subclips_15/16.6_31.5_happy_clip_images.mp4\n",
      "MoviePy - Writing audio in /home/tamires/projects/rpp-aevans-ab/tamires/data/derived/barbie_subclips_15/16.6_31.5_happy_clip_audio.mp3\n"
     ]
    },
    {
     "name": "stderr",
     "output_type": "stream",
     "text": [
      "                                                                                                                                                         \r"
     ]
    },
    {
     "name": "stdout",
     "output_type": "stream",
     "text": [
      "MoviePy - Done.\n",
      "Moviepy - Building video /home/tamires/projects/rpp-aevans-ab/tamires/data/derived/barbie_subclips_15/16.7_31.6_happy_clip_images.mp4.\n",
      "Moviepy - Writing video /home/tamires/projects/rpp-aevans-ab/tamires/data/derived/barbie_subclips_15/16.7_31.6_happy_clip_images.mp4\n",
      "\n"
     ]
    },
    {
     "name": "stderr",
     "output_type": "stream",
     "text": [
      "                                                                                                                                                         \r"
     ]
    },
    {
     "name": "stdout",
     "output_type": "stream",
     "text": [
      "Moviepy - Done !\n",
      "Moviepy - video ready /home/tamires/projects/rpp-aevans-ab/tamires/data/derived/barbie_subclips_15/16.7_31.6_happy_clip_images.mp4\n",
      "MoviePy - Writing audio in /home/tamires/projects/rpp-aevans-ab/tamires/data/derived/barbie_subclips_15/16.7_31.6_happy_clip_audio.mp3\n"
     ]
    },
    {
     "name": "stderr",
     "output_type": "stream",
     "text": [
      "                                                                                                                                                         \r"
     ]
    },
    {
     "name": "stdout",
     "output_type": "stream",
     "text": [
      "MoviePy - Done.\n",
      "Moviepy - Building video /home/tamires/projects/rpp-aevans-ab/tamires/data/derived/barbie_subclips_15/16.8_31.7_happy_clip_images.mp4.\n",
      "Moviepy - Writing video /home/tamires/projects/rpp-aevans-ab/tamires/data/derived/barbie_subclips_15/16.8_31.7_happy_clip_images.mp4\n",
      "\n"
     ]
    },
    {
     "name": "stderr",
     "output_type": "stream",
     "text": [
      "                                                                                                                                                         \r"
     ]
    },
    {
     "name": "stdout",
     "output_type": "stream",
     "text": [
      "Moviepy - Done !\n",
      "Moviepy - video ready /home/tamires/projects/rpp-aevans-ab/tamires/data/derived/barbie_subclips_15/16.8_31.7_happy_clip_images.mp4\n",
      "MoviePy - Writing audio in /home/tamires/projects/rpp-aevans-ab/tamires/data/derived/barbie_subclips_15/16.8_31.7_happy_clip_audio.mp3\n"
     ]
    },
    {
     "name": "stderr",
     "output_type": "stream",
     "text": [
      "                                                                                                                                                         \r"
     ]
    },
    {
     "name": "stdout",
     "output_type": "stream",
     "text": [
      "MoviePy - Done.\n",
      "Moviepy - Building video /home/tamires/projects/rpp-aevans-ab/tamires/data/derived/barbie_subclips_15/17.0_31.9_sad_clip_images.mp4.\n",
      "Moviepy - Writing video /home/tamires/projects/rpp-aevans-ab/tamires/data/derived/barbie_subclips_15/17.0_31.9_sad_clip_images.mp4\n",
      "\n"
     ]
    },
    {
     "name": "stderr",
     "output_type": "stream",
     "text": [
      "                                                                                                                                                         \r"
     ]
    },
    {
     "name": "stdout",
     "output_type": "stream",
     "text": [
      "Moviepy - Done !\n",
      "Moviepy - video ready /home/tamires/projects/rpp-aevans-ab/tamires/data/derived/barbie_subclips_15/17.0_31.9_sad_clip_images.mp4\n",
      "MoviePy - Writing audio in /home/tamires/projects/rpp-aevans-ab/tamires/data/derived/barbie_subclips_15/17.0_31.9_sad_clip_audio.mp3\n"
     ]
    },
    {
     "name": "stderr",
     "output_type": "stream",
     "text": [
      "                                                                                                                                                         \r"
     ]
    },
    {
     "name": "stdout",
     "output_type": "stream",
     "text": [
      "MoviePy - Done.\n",
      "Moviepy - Building video /home/tamires/projects/rpp-aevans-ab/tamires/data/derived/barbie_subclips_15/20.0_34.9_neutral_clip_images.mp4.\n",
      "Moviepy - Writing video /home/tamires/projects/rpp-aevans-ab/tamires/data/derived/barbie_subclips_15/20.0_34.9_neutral_clip_images.mp4\n",
      "\n"
     ]
    },
    {
     "name": "stderr",
     "output_type": "stream",
     "text": [
      "                                                                                                                                                         \r"
     ]
    },
    {
     "name": "stdout",
     "output_type": "stream",
     "text": [
      "Moviepy - Done !\n",
      "Moviepy - video ready /home/tamires/projects/rpp-aevans-ab/tamires/data/derived/barbie_subclips_15/20.0_34.9_neutral_clip_images.mp4\n",
      "MoviePy - Writing audio in /home/tamires/projects/rpp-aevans-ab/tamires/data/derived/barbie_subclips_15/20.0_34.9_neutral_clip_audio.mp3\n"
     ]
    },
    {
     "name": "stderr",
     "output_type": "stream",
     "text": [
      "                                                                                                                                                         \r"
     ]
    },
    {
     "name": "stdout",
     "output_type": "stream",
     "text": [
      "MoviePy - Done.\n",
      "Moviepy - Building video /home/tamires/projects/rpp-aevans-ab/tamires/data/derived/barbie_subclips_15/20.2_35.1_neutral_clip_images.mp4.\n",
      "Moviepy - Writing video /home/tamires/projects/rpp-aevans-ab/tamires/data/derived/barbie_subclips_15/20.2_35.1_neutral_clip_images.mp4\n",
      "\n"
     ]
    },
    {
     "name": "stderr",
     "output_type": "stream",
     "text": [
      "                                                                                                                                                         \r"
     ]
    },
    {
     "name": "stdout",
     "output_type": "stream",
     "text": [
      "Moviepy - Done !\n",
      "Moviepy - video ready /home/tamires/projects/rpp-aevans-ab/tamires/data/derived/barbie_subclips_15/20.2_35.1_neutral_clip_images.mp4\n",
      "MoviePy - Writing audio in /home/tamires/projects/rpp-aevans-ab/tamires/data/derived/barbie_subclips_15/20.2_35.1_neutral_clip_audio.mp3\n"
     ]
    },
    {
     "name": "stderr",
     "output_type": "stream",
     "text": [
      "                                                                                                                                                         \r"
     ]
    },
    {
     "name": "stdout",
     "output_type": "stream",
     "text": [
      "MoviePy - Done.\n",
      "Moviepy - Building video /home/tamires/projects/rpp-aevans-ab/tamires/data/derived/barbie_subclips_15/20.4_35.3_neutral_clip_images.mp4.\n",
      "Moviepy - Writing video /home/tamires/projects/rpp-aevans-ab/tamires/data/derived/barbie_subclips_15/20.4_35.3_neutral_clip_images.mp4\n",
      "\n"
     ]
    },
    {
     "name": "stderr",
     "output_type": "stream",
     "text": [
      "                                                                                                                                                         \r"
     ]
    },
    {
     "name": "stdout",
     "output_type": "stream",
     "text": [
      "Moviepy - Done !\n",
      "Moviepy - video ready /home/tamires/projects/rpp-aevans-ab/tamires/data/derived/barbie_subclips_15/20.4_35.3_neutral_clip_images.mp4\n",
      "MoviePy - Writing audio in /home/tamires/projects/rpp-aevans-ab/tamires/data/derived/barbie_subclips_15/20.4_35.3_neutral_clip_audio.mp3\n"
     ]
    },
    {
     "name": "stderr",
     "output_type": "stream",
     "text": [
      "                                                                                                                                                         \r"
     ]
    },
    {
     "name": "stdout",
     "output_type": "stream",
     "text": [
      "MoviePy - Done.\n",
      "Moviepy - Building video /home/tamires/projects/rpp-aevans-ab/tamires/data/derived/barbie_subclips_15/20.6_35.5_neutral_clip_images.mp4.\n",
      "Moviepy - Writing video /home/tamires/projects/rpp-aevans-ab/tamires/data/derived/barbie_subclips_15/20.6_35.5_neutral_clip_images.mp4\n",
      "\n"
     ]
    },
    {
     "name": "stderr",
     "output_type": "stream",
     "text": [
      "                                                                                                                                                         \r"
     ]
    },
    {
     "name": "stdout",
     "output_type": "stream",
     "text": [
      "Moviepy - Done !\n",
      "Moviepy - video ready /home/tamires/projects/rpp-aevans-ab/tamires/data/derived/barbie_subclips_15/20.6_35.5_neutral_clip_images.mp4\n",
      "MoviePy - Writing audio in /home/tamires/projects/rpp-aevans-ab/tamires/data/derived/barbie_subclips_15/20.6_35.5_neutral_clip_audio.mp3\n"
     ]
    },
    {
     "name": "stderr",
     "output_type": "stream",
     "text": [
      "                                                                                                                                                         \r"
     ]
    },
    {
     "name": "stdout",
     "output_type": "stream",
     "text": [
      "MoviePy - Done.\n",
      "Moviepy - Building video /home/tamires/projects/rpp-aevans-ab/tamires/data/derived/barbie_subclips_15/20.8_35.7_neutral_clip_images.mp4.\n",
      "Moviepy - Writing video /home/tamires/projects/rpp-aevans-ab/tamires/data/derived/barbie_subclips_15/20.8_35.7_neutral_clip_images.mp4\n",
      "\n"
     ]
    },
    {
     "name": "stderr",
     "output_type": "stream",
     "text": [
      "                                                                                                                                                         \r"
     ]
    },
    {
     "name": "stdout",
     "output_type": "stream",
     "text": [
      "Moviepy - Done !\n",
      "Moviepy - video ready /home/tamires/projects/rpp-aevans-ab/tamires/data/derived/barbie_subclips_15/20.8_35.7_neutral_clip_images.mp4\n",
      "MoviePy - Writing audio in /home/tamires/projects/rpp-aevans-ab/tamires/data/derived/barbie_subclips_15/20.8_35.7_neutral_clip_audio.mp3\n"
     ]
    },
    {
     "name": "stderr",
     "output_type": "stream",
     "text": [
      "                                                                                                                                                         \r"
     ]
    },
    {
     "name": "stdout",
     "output_type": "stream",
     "text": [
      "MoviePy - Done.\n",
      "Moviepy - Building video /home/tamires/projects/rpp-aevans-ab/tamires/data/derived/barbie_subclips_15/21.0_35.9_neutral_clip_images.mp4.\n",
      "Moviepy - Writing video /home/tamires/projects/rpp-aevans-ab/tamires/data/derived/barbie_subclips_15/21.0_35.9_neutral_clip_images.mp4\n",
      "\n"
     ]
    },
    {
     "name": "stderr",
     "output_type": "stream",
     "text": [
      "                                                                                                                                                         \r"
     ]
    },
    {
     "name": "stdout",
     "output_type": "stream",
     "text": [
      "Moviepy - Done !\n",
      "Moviepy - video ready /home/tamires/projects/rpp-aevans-ab/tamires/data/derived/barbie_subclips_15/21.0_35.9_neutral_clip_images.mp4\n",
      "MoviePy - Writing audio in /home/tamires/projects/rpp-aevans-ab/tamires/data/derived/barbie_subclips_15/21.0_35.9_neutral_clip_audio.mp3\n"
     ]
    },
    {
     "name": "stderr",
     "output_type": "stream",
     "text": [
      "                                                                                                                                                         \r"
     ]
    },
    {
     "name": "stdout",
     "output_type": "stream",
     "text": [
      "MoviePy - Done.\n",
      "Moviepy - Building video /home/tamires/projects/rpp-aevans-ab/tamires/data/derived/barbie_subclips_15/21.2_36.1_neutral_clip_images.mp4.\n",
      "Moviepy - Writing video /home/tamires/projects/rpp-aevans-ab/tamires/data/derived/barbie_subclips_15/21.2_36.1_neutral_clip_images.mp4\n",
      "\n"
     ]
    },
    {
     "name": "stderr",
     "output_type": "stream",
     "text": [
      "                                                                                                                                                         \r"
     ]
    },
    {
     "name": "stdout",
     "output_type": "stream",
     "text": [
      "Moviepy - Done !\n",
      "Moviepy - video ready /home/tamires/projects/rpp-aevans-ab/tamires/data/derived/barbie_subclips_15/21.2_36.1_neutral_clip_images.mp4\n",
      "MoviePy - Writing audio in /home/tamires/projects/rpp-aevans-ab/tamires/data/derived/barbie_subclips_15/21.2_36.1_neutral_clip_audio.mp3\n"
     ]
    },
    {
     "name": "stderr",
     "output_type": "stream",
     "text": [
      "                                                                                                                                                         \r"
     ]
    },
    {
     "name": "stdout",
     "output_type": "stream",
     "text": [
      "MoviePy - Done.\n",
      "Moviepy - Building video /home/tamires/projects/rpp-aevans-ab/tamires/data/derived/barbie_subclips_15/29.4_44.3_angry_clip_images.mp4.\n",
      "Moviepy - Writing video /home/tamires/projects/rpp-aevans-ab/tamires/data/derived/barbie_subclips_15/29.4_44.3_angry_clip_images.mp4\n",
      "\n"
     ]
    },
    {
     "name": "stderr",
     "output_type": "stream",
     "text": [
      "                                                                                                                                                         \r"
     ]
    },
    {
     "name": "stdout",
     "output_type": "stream",
     "text": [
      "Moviepy - Done !\n",
      "Moviepy - video ready /home/tamires/projects/rpp-aevans-ab/tamires/data/derived/barbie_subclips_15/29.4_44.3_angry_clip_images.mp4\n",
      "MoviePy - Writing audio in /home/tamires/projects/rpp-aevans-ab/tamires/data/derived/barbie_subclips_15/29.4_44.3_angry_clip_audio.mp3\n"
     ]
    },
    {
     "name": "stderr",
     "output_type": "stream",
     "text": [
      "                                                                                                                                                         \r"
     ]
    },
    {
     "name": "stdout",
     "output_type": "stream",
     "text": [
      "MoviePy - Done.\n",
      "Moviepy - Building video /home/tamires/projects/rpp-aevans-ab/tamires/data/derived/barbie_subclips_15/32.6_47.5_fear_clip_images.mp4.\n",
      "Moviepy - Writing video /home/tamires/projects/rpp-aevans-ab/tamires/data/derived/barbie_subclips_15/32.6_47.5_fear_clip_images.mp4\n",
      "\n"
     ]
    },
    {
     "name": "stderr",
     "output_type": "stream",
     "text": [
      "                                                                                                                                                         \r"
     ]
    },
    {
     "name": "stdout",
     "output_type": "stream",
     "text": [
      "Moviepy - Done !\n",
      "Moviepy - video ready /home/tamires/projects/rpp-aevans-ab/tamires/data/derived/barbie_subclips_15/32.6_47.5_fear_clip_images.mp4\n",
      "MoviePy - Writing audio in /home/tamires/projects/rpp-aevans-ab/tamires/data/derived/barbie_subclips_15/32.6_47.5_fear_clip_audio.mp3\n"
     ]
    },
    {
     "name": "stderr",
     "output_type": "stream",
     "text": [
      "                                                                                                                                                         \r"
     ]
    },
    {
     "name": "stdout",
     "output_type": "stream",
     "text": [
      "MoviePy - Done.\n",
      "Moviepy - Building video /home/tamires/projects/rpp-aevans-ab/tamires/data/derived/barbie_subclips_15/32.7_47.6_fear_clip_images.mp4.\n",
      "Moviepy - Writing video /home/tamires/projects/rpp-aevans-ab/tamires/data/derived/barbie_subclips_15/32.7_47.6_fear_clip_images.mp4\n",
      "\n"
     ]
    },
    {
     "name": "stderr",
     "output_type": "stream",
     "text": [
      "                                                                                                                                                         \r"
     ]
    },
    {
     "name": "stdout",
     "output_type": "stream",
     "text": [
      "Moviepy - Done !\n",
      "Moviepy - video ready /home/tamires/projects/rpp-aevans-ab/tamires/data/derived/barbie_subclips_15/32.7_47.6_fear_clip_images.mp4\n",
      "MoviePy - Writing audio in /home/tamires/projects/rpp-aevans-ab/tamires/data/derived/barbie_subclips_15/32.7_47.6_fear_clip_audio.mp3\n"
     ]
    },
    {
     "name": "stderr",
     "output_type": "stream",
     "text": [
      "                                                                                                                                                         \r"
     ]
    },
    {
     "name": "stdout",
     "output_type": "stream",
     "text": [
      "MoviePy - Done.\n",
      "Moviepy - Building video /home/tamires/projects/rpp-aevans-ab/tamires/data/derived/barbie_subclips_15/32.8_47.7_fear_clip_images.mp4.\n",
      "Moviepy - Writing video /home/tamires/projects/rpp-aevans-ab/tamires/data/derived/barbie_subclips_15/32.8_47.7_fear_clip_images.mp4\n",
      "\n"
     ]
    },
    {
     "name": "stderr",
     "output_type": "stream",
     "text": [
      "                                                                                                                                                         \r"
     ]
    },
    {
     "name": "stdout",
     "output_type": "stream",
     "text": [
      "Moviepy - Done !\n",
      "Moviepy - video ready /home/tamires/projects/rpp-aevans-ab/tamires/data/derived/barbie_subclips_15/32.8_47.7_fear_clip_images.mp4\n",
      "MoviePy - Writing audio in /home/tamires/projects/rpp-aevans-ab/tamires/data/derived/barbie_subclips_15/32.8_47.7_fear_clip_audio.mp3\n"
     ]
    },
    {
     "name": "stderr",
     "output_type": "stream",
     "text": [
      "                                                                                                                                                         \r"
     ]
    },
    {
     "name": "stdout",
     "output_type": "stream",
     "text": [
      "MoviePy - Done.\n",
      "Moviepy - Building video /home/tamires/projects/rpp-aevans-ab/tamires/data/derived/barbie_subclips_15/33.2_48.1_fear_clip_images.mp4.\n",
      "Moviepy - Writing video /home/tamires/projects/rpp-aevans-ab/tamires/data/derived/barbie_subclips_15/33.2_48.1_fear_clip_images.mp4\n",
      "\n"
     ]
    },
    {
     "name": "stderr",
     "output_type": "stream",
     "text": [
      "                                                                                                                                                         \r"
     ]
    },
    {
     "name": "stdout",
     "output_type": "stream",
     "text": [
      "Moviepy - Done !\n",
      "Moviepy - video ready /home/tamires/projects/rpp-aevans-ab/tamires/data/derived/barbie_subclips_15/33.2_48.1_fear_clip_images.mp4\n",
      "MoviePy - Writing audio in /home/tamires/projects/rpp-aevans-ab/tamires/data/derived/barbie_subclips_15/33.2_48.1_fear_clip_audio.mp3\n"
     ]
    },
    {
     "name": "stderr",
     "output_type": "stream",
     "text": [
      "                                                                                                                                                         \r"
     ]
    },
    {
     "name": "stdout",
     "output_type": "stream",
     "text": [
      "MoviePy - Done.\n",
      "Moviepy - Building video /home/tamires/projects/rpp-aevans-ab/tamires/data/derived/barbie_subclips_15/33.6_48.5_fear_clip_images.mp4.\n",
      "Moviepy - Writing video /home/tamires/projects/rpp-aevans-ab/tamires/data/derived/barbie_subclips_15/33.6_48.5_fear_clip_images.mp4\n",
      "\n"
     ]
    },
    {
     "name": "stderr",
     "output_type": "stream",
     "text": [
      "                                                                                                                                                         \r"
     ]
    },
    {
     "name": "stdout",
     "output_type": "stream",
     "text": [
      "Moviepy - Done !\n",
      "Moviepy - video ready /home/tamires/projects/rpp-aevans-ab/tamires/data/derived/barbie_subclips_15/33.6_48.5_fear_clip_images.mp4\n",
      "MoviePy - Writing audio in /home/tamires/projects/rpp-aevans-ab/tamires/data/derived/barbie_subclips_15/33.6_48.5_fear_clip_audio.mp3\n"
     ]
    },
    {
     "name": "stderr",
     "output_type": "stream",
     "text": [
      "                                                                                                                                                         \r"
     ]
    },
    {
     "name": "stdout",
     "output_type": "stream",
     "text": [
      "MoviePy - Done.\n",
      "Moviepy - Building video /home/tamires/projects/rpp-aevans-ab/tamires/data/derived/barbie_subclips_15/33.8_48.7_fear_clip_images.mp4.\n",
      "Moviepy - Writing video /home/tamires/projects/rpp-aevans-ab/tamires/data/derived/barbie_subclips_15/33.8_48.7_fear_clip_images.mp4\n",
      "\n"
     ]
    },
    {
     "name": "stderr",
     "output_type": "stream",
     "text": [
      "                                                                                                                                                         \r"
     ]
    },
    {
     "name": "stdout",
     "output_type": "stream",
     "text": [
      "Moviepy - Done !\n",
      "Moviepy - video ready /home/tamires/projects/rpp-aevans-ab/tamires/data/derived/barbie_subclips_15/33.8_48.7_fear_clip_images.mp4\n",
      "MoviePy - Writing audio in /home/tamires/projects/rpp-aevans-ab/tamires/data/derived/barbie_subclips_15/33.8_48.7_fear_clip_audio.mp3\n"
     ]
    },
    {
     "name": "stderr",
     "output_type": "stream",
     "text": [
      "                                                                                                                                                         \r"
     ]
    },
    {
     "name": "stdout",
     "output_type": "stream",
     "text": [
      "MoviePy - Done.\n",
      "Moviepy - Building video /home/tamires/projects/rpp-aevans-ab/tamires/data/derived/barbie_subclips_15/34.0_48.9_fear_clip_images.mp4.\n",
      "Moviepy - Writing video /home/tamires/projects/rpp-aevans-ab/tamires/data/derived/barbie_subclips_15/34.0_48.9_fear_clip_images.mp4\n",
      "\n"
     ]
    },
    {
     "name": "stderr",
     "output_type": "stream",
     "text": [
      "                                                                                                                                                         \r"
     ]
    },
    {
     "name": "stdout",
     "output_type": "stream",
     "text": [
      "Moviepy - Done !\n",
      "Moviepy - video ready /home/tamires/projects/rpp-aevans-ab/tamires/data/derived/barbie_subclips_15/34.0_48.9_fear_clip_images.mp4\n",
      "MoviePy - Writing audio in /home/tamires/projects/rpp-aevans-ab/tamires/data/derived/barbie_subclips_15/34.0_48.9_fear_clip_audio.mp3\n"
     ]
    },
    {
     "name": "stderr",
     "output_type": "stream",
     "text": [
      "                                                                                                                                                         \r"
     ]
    },
    {
     "name": "stdout",
     "output_type": "stream",
     "text": [
      "MoviePy - Done.\n",
      "Moviepy - Building video /home/tamires/projects/rpp-aevans-ab/tamires/data/derived/barbie_subclips_15/34.3_49.2_fear_clip_images.mp4.\n",
      "Moviepy - Writing video /home/tamires/projects/rpp-aevans-ab/tamires/data/derived/barbie_subclips_15/34.3_49.2_fear_clip_images.mp4\n",
      "\n"
     ]
    },
    {
     "name": "stderr",
     "output_type": "stream",
     "text": [
      "                                                                                                                                                         \r"
     ]
    },
    {
     "name": "stdout",
     "output_type": "stream",
     "text": [
      "Moviepy - Done !\n",
      "Moviepy - video ready /home/tamires/projects/rpp-aevans-ab/tamires/data/derived/barbie_subclips_15/34.3_49.2_fear_clip_images.mp4\n",
      "MoviePy - Writing audio in /home/tamires/projects/rpp-aevans-ab/tamires/data/derived/barbie_subclips_15/34.3_49.2_fear_clip_audio.mp3\n"
     ]
    },
    {
     "name": "stderr",
     "output_type": "stream",
     "text": [
      "                                                                                                                                                         \r"
     ]
    },
    {
     "name": "stdout",
     "output_type": "stream",
     "text": [
      "MoviePy - Done.\n",
      "Moviepy - Building video /home/tamires/projects/rpp-aevans-ab/tamires/data/derived/barbie_subclips_15/34.7_49.6_fear_clip_images.mp4.\n",
      "Moviepy - Writing video /home/tamires/projects/rpp-aevans-ab/tamires/data/derived/barbie_subclips_15/34.7_49.6_fear_clip_images.mp4\n",
      "\n"
     ]
    },
    {
     "name": "stderr",
     "output_type": "stream",
     "text": [
      "                                                                                                                                                         \r"
     ]
    },
    {
     "name": "stdout",
     "output_type": "stream",
     "text": [
      "Moviepy - Done !\n",
      "Moviepy - video ready /home/tamires/projects/rpp-aevans-ab/tamires/data/derived/barbie_subclips_15/34.7_49.6_fear_clip_images.mp4\n",
      "MoviePy - Writing audio in /home/tamires/projects/rpp-aevans-ab/tamires/data/derived/barbie_subclips_15/34.7_49.6_fear_clip_audio.mp3\n"
     ]
    },
    {
     "name": "stderr",
     "output_type": "stream",
     "text": [
      "                                                                                                                                                         \r"
     ]
    },
    {
     "name": "stdout",
     "output_type": "stream",
     "text": [
      "MoviePy - Done.\n",
      "Moviepy - Building video /home/tamires/projects/rpp-aevans-ab/tamires/data/derived/barbie_subclips_15/35.0_49.9_neutral_clip_images.mp4.\n",
      "Moviepy - Writing video /home/tamires/projects/rpp-aevans-ab/tamires/data/derived/barbie_subclips_15/35.0_49.9_neutral_clip_images.mp4\n",
      "\n"
     ]
    },
    {
     "name": "stderr",
     "output_type": "stream",
     "text": [
      "                                                                                                                                                         \r"
     ]
    },
    {
     "name": "stdout",
     "output_type": "stream",
     "text": [
      "Moviepy - Done !\n",
      "Moviepy - video ready /home/tamires/projects/rpp-aevans-ab/tamires/data/derived/barbie_subclips_15/35.0_49.9_neutral_clip_images.mp4\n",
      "MoviePy - Writing audio in /home/tamires/projects/rpp-aevans-ab/tamires/data/derived/barbie_subclips_15/35.0_49.9_neutral_clip_audio.mp3\n"
     ]
    },
    {
     "name": "stderr",
     "output_type": "stream",
     "text": [
      "                                                                                                                                                         \r"
     ]
    },
    {
     "name": "stdout",
     "output_type": "stream",
     "text": [
      "MoviePy - Done.\n",
      "Moviepy - Building video /home/tamires/projects/rpp-aevans-ab/tamires/data/derived/barbie_subclips_15/35.2_50.1_neutral_clip_images.mp4.\n",
      "Moviepy - Writing video /home/tamires/projects/rpp-aevans-ab/tamires/data/derived/barbie_subclips_15/35.2_50.1_neutral_clip_images.mp4\n",
      "\n"
     ]
    },
    {
     "name": "stderr",
     "output_type": "stream",
     "text": [
      "                                                                                                                                                         \r"
     ]
    },
    {
     "name": "stdout",
     "output_type": "stream",
     "text": [
      "Moviepy - Done !\n",
      "Moviepy - video ready /home/tamires/projects/rpp-aevans-ab/tamires/data/derived/barbie_subclips_15/35.2_50.1_neutral_clip_images.mp4\n",
      "MoviePy - Writing audio in /home/tamires/projects/rpp-aevans-ab/tamires/data/derived/barbie_subclips_15/35.2_50.1_neutral_clip_audio.mp3\n"
     ]
    },
    {
     "name": "stderr",
     "output_type": "stream",
     "text": [
      "                                                                                                                                                         \r"
     ]
    },
    {
     "name": "stdout",
     "output_type": "stream",
     "text": [
      "MoviePy - Done.\n",
      "Moviepy - Building video /home/tamires/projects/rpp-aevans-ab/tamires/data/derived/barbie_subclips_15/35.3_50.2_neutral_clip_images.mp4.\n",
      "Moviepy - Writing video /home/tamires/projects/rpp-aevans-ab/tamires/data/derived/barbie_subclips_15/35.3_50.2_neutral_clip_images.mp4\n",
      "\n"
     ]
    },
    {
     "name": "stderr",
     "output_type": "stream",
     "text": [
      "                                                                                                                                                         \r"
     ]
    },
    {
     "name": "stdout",
     "output_type": "stream",
     "text": [
      "Moviepy - Done !\n",
      "Moviepy - video ready /home/tamires/projects/rpp-aevans-ab/tamires/data/derived/barbie_subclips_15/35.3_50.2_neutral_clip_images.mp4\n",
      "MoviePy - Writing audio in /home/tamires/projects/rpp-aevans-ab/tamires/data/derived/barbie_subclips_15/35.3_50.2_neutral_clip_audio.mp3\n"
     ]
    },
    {
     "name": "stderr",
     "output_type": "stream",
     "text": [
      "                                                                                                                                                         \r"
     ]
    },
    {
     "name": "stdout",
     "output_type": "stream",
     "text": [
      "MoviePy - Done.\n",
      "Moviepy - Building video /home/tamires/projects/rpp-aevans-ab/tamires/data/derived/barbie_subclips_15/35.5_50.4_fear_clip_images.mp4.\n",
      "Moviepy - Writing video /home/tamires/projects/rpp-aevans-ab/tamires/data/derived/barbie_subclips_15/35.5_50.4_fear_clip_images.mp4\n",
      "\n"
     ]
    },
    {
     "name": "stderr",
     "output_type": "stream",
     "text": [
      "                                                                                                                                                         \r"
     ]
    },
    {
     "name": "stdout",
     "output_type": "stream",
     "text": [
      "Moviepy - Done !\n",
      "Moviepy - video ready /home/tamires/projects/rpp-aevans-ab/tamires/data/derived/barbie_subclips_15/35.5_50.4_fear_clip_images.mp4\n",
      "MoviePy - Writing audio in /home/tamires/projects/rpp-aevans-ab/tamires/data/derived/barbie_subclips_15/35.5_50.4_fear_clip_audio.mp3\n"
     ]
    },
    {
     "name": "stderr",
     "output_type": "stream",
     "text": [
      "                                                                                                                                                         \r"
     ]
    },
    {
     "name": "stdout",
     "output_type": "stream",
     "text": [
      "MoviePy - Done.\n",
      "Moviepy - Building video /home/tamires/projects/rpp-aevans-ab/tamires/data/derived/barbie_subclips_15/35.7_50.6_fear_clip_images.mp4.\n",
      "Moviepy - Writing video /home/tamires/projects/rpp-aevans-ab/tamires/data/derived/barbie_subclips_15/35.7_50.6_fear_clip_images.mp4\n",
      "\n"
     ]
    },
    {
     "name": "stderr",
     "output_type": "stream",
     "text": [
      "                                                                                                                                                         \r"
     ]
    },
    {
     "name": "stdout",
     "output_type": "stream",
     "text": [
      "Moviepy - Done !\n",
      "Moviepy - video ready /home/tamires/projects/rpp-aevans-ab/tamires/data/derived/barbie_subclips_15/35.7_50.6_fear_clip_images.mp4\n",
      "MoviePy - Writing audio in /home/tamires/projects/rpp-aevans-ab/tamires/data/derived/barbie_subclips_15/35.7_50.6_fear_clip_audio.mp3\n"
     ]
    },
    {
     "name": "stderr",
     "output_type": "stream",
     "text": [
      "                                                                                                                                                         \r"
     ]
    },
    {
     "name": "stdout",
     "output_type": "stream",
     "text": [
      "MoviePy - Done.\n",
      "Moviepy - Building video /home/tamires/projects/rpp-aevans-ab/tamires/data/derived/barbie_subclips_15/35.8_50.7_fear_clip_images.mp4.\n",
      "Moviepy - Writing video /home/tamires/projects/rpp-aevans-ab/tamires/data/derived/barbie_subclips_15/35.8_50.7_fear_clip_images.mp4\n",
      "\n"
     ]
    },
    {
     "name": "stderr",
     "output_type": "stream",
     "text": [
      "                                                                                                                                                         \r"
     ]
    },
    {
     "name": "stdout",
     "output_type": "stream",
     "text": [
      "Moviepy - Done !\n",
      "Moviepy - video ready /home/tamires/projects/rpp-aevans-ab/tamires/data/derived/barbie_subclips_15/35.8_50.7_fear_clip_images.mp4\n",
      "MoviePy - Writing audio in /home/tamires/projects/rpp-aevans-ab/tamires/data/derived/barbie_subclips_15/35.8_50.7_fear_clip_audio.mp3\n"
     ]
    },
    {
     "name": "stderr",
     "output_type": "stream",
     "text": [
      "                                                                                                                                                         \r"
     ]
    },
    {
     "name": "stdout",
     "output_type": "stream",
     "text": [
      "MoviePy - Done.\n",
      "Moviepy - Building video /home/tamires/projects/rpp-aevans-ab/tamires/data/derived/barbie_subclips_15/35.9_50.8_neutral_clip_images.mp4.\n",
      "Moviepy - Writing video /home/tamires/projects/rpp-aevans-ab/tamires/data/derived/barbie_subclips_15/35.9_50.8_neutral_clip_images.mp4\n",
      "\n"
     ]
    },
    {
     "name": "stderr",
     "output_type": "stream",
     "text": [
      "                                                                                                                                                         \r"
     ]
    },
    {
     "name": "stdout",
     "output_type": "stream",
     "text": [
      "Moviepy - Done !\n",
      "Moviepy - video ready /home/tamires/projects/rpp-aevans-ab/tamires/data/derived/barbie_subclips_15/35.9_50.8_neutral_clip_images.mp4\n",
      "MoviePy - Writing audio in /home/tamires/projects/rpp-aevans-ab/tamires/data/derived/barbie_subclips_15/35.9_50.8_neutral_clip_audio.mp3\n"
     ]
    },
    {
     "name": "stderr",
     "output_type": "stream",
     "text": [
      "                                                                                                                                                         \r"
     ]
    },
    {
     "name": "stdout",
     "output_type": "stream",
     "text": [
      "MoviePy - Done.\n",
      "Moviepy - Building video /home/tamires/projects/rpp-aevans-ab/tamires/data/derived/barbie_subclips_15/36.0_50.9_neutral_clip_images.mp4.\n",
      "Moviepy - Writing video /home/tamires/projects/rpp-aevans-ab/tamires/data/derived/barbie_subclips_15/36.0_50.9_neutral_clip_images.mp4\n",
      "\n"
     ]
    },
    {
     "name": "stderr",
     "output_type": "stream",
     "text": [
      "                                                                                                                                                         \r"
     ]
    },
    {
     "name": "stdout",
     "output_type": "stream",
     "text": [
      "Moviepy - Done !\n",
      "Moviepy - video ready /home/tamires/projects/rpp-aevans-ab/tamires/data/derived/barbie_subclips_15/36.0_50.9_neutral_clip_images.mp4\n",
      "MoviePy - Writing audio in /home/tamires/projects/rpp-aevans-ab/tamires/data/derived/barbie_subclips_15/36.0_50.9_neutral_clip_audio.mp3\n"
     ]
    },
    {
     "name": "stderr",
     "output_type": "stream",
     "text": [
      "                                                                                                                                                         \r"
     ]
    },
    {
     "name": "stdout",
     "output_type": "stream",
     "text": [
      "MoviePy - Done.\n",
      "Moviepy - Building video /home/tamires/projects/rpp-aevans-ab/tamires/data/derived/barbie_subclips_15/36.1_51.0_neutral_clip_images.mp4.\n",
      "Moviepy - Writing video /home/tamires/projects/rpp-aevans-ab/tamires/data/derived/barbie_subclips_15/36.1_51.0_neutral_clip_images.mp4\n",
      "\n"
     ]
    },
    {
     "name": "stderr",
     "output_type": "stream",
     "text": [
      "                                                                                                                                                         \r"
     ]
    },
    {
     "name": "stdout",
     "output_type": "stream",
     "text": [
      "Moviepy - Done !\n",
      "Moviepy - video ready /home/tamires/projects/rpp-aevans-ab/tamires/data/derived/barbie_subclips_15/36.1_51.0_neutral_clip_images.mp4\n",
      "MoviePy - Writing audio in /home/tamires/projects/rpp-aevans-ab/tamires/data/derived/barbie_subclips_15/36.1_51.0_neutral_clip_audio.mp3\n"
     ]
    },
    {
     "name": "stderr",
     "output_type": "stream",
     "text": [
      "                                                                                                                                                         \r"
     ]
    },
    {
     "name": "stdout",
     "output_type": "stream",
     "text": [
      "MoviePy - Done.\n",
      "Moviepy - Building video /home/tamires/projects/rpp-aevans-ab/tamires/data/derived/barbie_subclips_15/36.2_51.1_neutral_clip_images.mp4.\n",
      "Moviepy - Writing video /home/tamires/projects/rpp-aevans-ab/tamires/data/derived/barbie_subclips_15/36.2_51.1_neutral_clip_images.mp4\n",
      "\n"
     ]
    },
    {
     "name": "stderr",
     "output_type": "stream",
     "text": [
      "                                                                                                                                                         \r"
     ]
    },
    {
     "name": "stdout",
     "output_type": "stream",
     "text": [
      "Moviepy - Done !\n",
      "Moviepy - video ready /home/tamires/projects/rpp-aevans-ab/tamires/data/derived/barbie_subclips_15/36.2_51.1_neutral_clip_images.mp4\n",
      "MoviePy - Writing audio in /home/tamires/projects/rpp-aevans-ab/tamires/data/derived/barbie_subclips_15/36.2_51.1_neutral_clip_audio.mp3\n"
     ]
    },
    {
     "name": "stderr",
     "output_type": "stream",
     "text": [
      "                                                                                                                                                         \r"
     ]
    },
    {
     "name": "stdout",
     "output_type": "stream",
     "text": [
      "MoviePy - Done.\n",
      "Moviepy - Building video /home/tamires/projects/rpp-aevans-ab/tamires/data/derived/barbie_subclips_15/36.3_51.2_neutral_clip_images.mp4.\n",
      "Moviepy - Writing video /home/tamires/projects/rpp-aevans-ab/tamires/data/derived/barbie_subclips_15/36.3_51.2_neutral_clip_images.mp4\n",
      "\n"
     ]
    },
    {
     "name": "stderr",
     "output_type": "stream",
     "text": [
      "                                                                                                                                                         \r"
     ]
    },
    {
     "name": "stdout",
     "output_type": "stream",
     "text": [
      "Moviepy - Done !\n",
      "Moviepy - video ready /home/tamires/projects/rpp-aevans-ab/tamires/data/derived/barbie_subclips_15/36.3_51.2_neutral_clip_images.mp4\n",
      "MoviePy - Writing audio in /home/tamires/projects/rpp-aevans-ab/tamires/data/derived/barbie_subclips_15/36.3_51.2_neutral_clip_audio.mp3\n"
     ]
    },
    {
     "name": "stderr",
     "output_type": "stream",
     "text": [
      "                                                                                                                                                         \r"
     ]
    },
    {
     "name": "stdout",
     "output_type": "stream",
     "text": [
      "MoviePy - Done.\n",
      "Moviepy - Building video /home/tamires/projects/rpp-aevans-ab/tamires/data/derived/barbie_subclips_15/36.5_51.4_neutral_clip_images.mp4.\n",
      "Moviepy - Writing video /home/tamires/projects/rpp-aevans-ab/tamires/data/derived/barbie_subclips_15/36.5_51.4_neutral_clip_images.mp4\n",
      "\n"
     ]
    },
    {
     "name": "stderr",
     "output_type": "stream",
     "text": [
      "                                                                                                                                                         \r"
     ]
    },
    {
     "name": "stdout",
     "output_type": "stream",
     "text": [
      "Moviepy - Done !\n",
      "Moviepy - video ready /home/tamires/projects/rpp-aevans-ab/tamires/data/derived/barbie_subclips_15/36.5_51.4_neutral_clip_images.mp4\n",
      "MoviePy - Writing audio in /home/tamires/projects/rpp-aevans-ab/tamires/data/derived/barbie_subclips_15/36.5_51.4_neutral_clip_audio.mp3\n"
     ]
    },
    {
     "name": "stderr",
     "output_type": "stream",
     "text": [
      "                                                                                                                                                         \r"
     ]
    },
    {
     "name": "stdout",
     "output_type": "stream",
     "text": [
      "MoviePy - Done.\n",
      "Moviepy - Building video /home/tamires/projects/rpp-aevans-ab/tamires/data/derived/barbie_subclips_15/36.7_51.6_angry_clip_images.mp4.\n",
      "Moviepy - Writing video /home/tamires/projects/rpp-aevans-ab/tamires/data/derived/barbie_subclips_15/36.7_51.6_angry_clip_images.mp4\n",
      "\n"
     ]
    },
    {
     "name": "stderr",
     "output_type": "stream",
     "text": [
      "                                                                                                                                                         \r"
     ]
    },
    {
     "name": "stdout",
     "output_type": "stream",
     "text": [
      "Moviepy - Done !\n",
      "Moviepy - video ready /home/tamires/projects/rpp-aevans-ab/tamires/data/derived/barbie_subclips_15/36.7_51.6_angry_clip_images.mp4\n",
      "MoviePy - Writing audio in /home/tamires/projects/rpp-aevans-ab/tamires/data/derived/barbie_subclips_15/36.7_51.6_angry_clip_audio.mp3\n"
     ]
    },
    {
     "name": "stderr",
     "output_type": "stream",
     "text": [
      "                                                                                                                                                         \r"
     ]
    },
    {
     "name": "stdout",
     "output_type": "stream",
     "text": [
      "MoviePy - Done.\n",
      "Moviepy - Building video /home/tamires/projects/rpp-aevans-ab/tamires/data/derived/barbie_subclips_15/37.0_51.9_neutral_clip_images.mp4.\n",
      "Moviepy - Writing video /home/tamires/projects/rpp-aevans-ab/tamires/data/derived/barbie_subclips_15/37.0_51.9_neutral_clip_images.mp4\n",
      "\n"
     ]
    },
    {
     "name": "stderr",
     "output_type": "stream",
     "text": [
      "                                                                                                                                                         \r"
     ]
    },
    {
     "name": "stdout",
     "output_type": "stream",
     "text": [
      "Moviepy - Done !\n",
      "Moviepy - video ready /home/tamires/projects/rpp-aevans-ab/tamires/data/derived/barbie_subclips_15/37.0_51.9_neutral_clip_images.mp4\n",
      "MoviePy - Writing audio in /home/tamires/projects/rpp-aevans-ab/tamires/data/derived/barbie_subclips_15/37.0_51.9_neutral_clip_audio.mp3\n"
     ]
    },
    {
     "name": "stderr",
     "output_type": "stream",
     "text": [
      "                                                                                                                                                         \r"
     ]
    },
    {
     "name": "stdout",
     "output_type": "stream",
     "text": [
      "MoviePy - Done.\n",
      "Moviepy - Building video /home/tamires/projects/rpp-aevans-ab/tamires/data/derived/barbie_subclips_15/38.6_53.5_neutral_clip_images.mp4.\n",
      "Moviepy - Writing video /home/tamires/projects/rpp-aevans-ab/tamires/data/derived/barbie_subclips_15/38.6_53.5_neutral_clip_images.mp4\n",
      "\n"
     ]
    },
    {
     "name": "stderr",
     "output_type": "stream",
     "text": [
      "                                                                                                                                                         \r"
     ]
    },
    {
     "name": "stdout",
     "output_type": "stream",
     "text": [
      "Moviepy - Done !\n",
      "Moviepy - video ready /home/tamires/projects/rpp-aevans-ab/tamires/data/derived/barbie_subclips_15/38.6_53.5_neutral_clip_images.mp4\n",
      "MoviePy - Writing audio in /home/tamires/projects/rpp-aevans-ab/tamires/data/derived/barbie_subclips_15/38.6_53.5_neutral_clip_audio.mp3\n"
     ]
    },
    {
     "name": "stderr",
     "output_type": "stream",
     "text": [
      "                                                                                                                                                         \r"
     ]
    },
    {
     "name": "stdout",
     "output_type": "stream",
     "text": [
      "MoviePy - Done.\n",
      "Moviepy - Building video /home/tamires/projects/rpp-aevans-ab/tamires/data/derived/barbie_subclips_15/39.0_53.9_sad_clip_images.mp4.\n",
      "Moviepy - Writing video /home/tamires/projects/rpp-aevans-ab/tamires/data/derived/barbie_subclips_15/39.0_53.9_sad_clip_images.mp4\n",
      "\n"
     ]
    },
    {
     "name": "stderr",
     "output_type": "stream",
     "text": [
      "                                                                                                                                                         \r"
     ]
    },
    {
     "name": "stdout",
     "output_type": "stream",
     "text": [
      "Moviepy - Done !\n",
      "Moviepy - video ready /home/tamires/projects/rpp-aevans-ab/tamires/data/derived/barbie_subclips_15/39.0_53.9_sad_clip_images.mp4\n",
      "MoviePy - Writing audio in /home/tamires/projects/rpp-aevans-ab/tamires/data/derived/barbie_subclips_15/39.0_53.9_sad_clip_audio.mp3\n"
     ]
    },
    {
     "name": "stderr",
     "output_type": "stream",
     "text": [
      "                                                                                                                                                         \r"
     ]
    },
    {
     "name": "stdout",
     "output_type": "stream",
     "text": [
      "MoviePy - Done.\n",
      "Moviepy - Building video /home/tamires/projects/rpp-aevans-ab/tamires/data/derived/barbie_subclips_15/39.2_54.1_sad_clip_images.mp4.\n",
      "Moviepy - Writing video /home/tamires/projects/rpp-aevans-ab/tamires/data/derived/barbie_subclips_15/39.2_54.1_sad_clip_images.mp4\n",
      "\n"
     ]
    },
    {
     "name": "stderr",
     "output_type": "stream",
     "text": [
      "                                                                                                                                                         \r"
     ]
    },
    {
     "name": "stdout",
     "output_type": "stream",
     "text": [
      "Moviepy - Done !\n",
      "Moviepy - video ready /home/tamires/projects/rpp-aevans-ab/tamires/data/derived/barbie_subclips_15/39.2_54.1_sad_clip_images.mp4\n",
      "MoviePy - Writing audio in /home/tamires/projects/rpp-aevans-ab/tamires/data/derived/barbie_subclips_15/39.2_54.1_sad_clip_audio.mp3\n"
     ]
    },
    {
     "name": "stderr",
     "output_type": "stream",
     "text": [
      "                                                                                                                                                         \r"
     ]
    },
    {
     "name": "stdout",
     "output_type": "stream",
     "text": [
      "MoviePy - Done.\n",
      "Moviepy - Building video /home/tamires/projects/rpp-aevans-ab/tamires/data/derived/barbie_subclips_15/39.6_54.5_neutral_clip_images.mp4.\n",
      "Moviepy - Writing video /home/tamires/projects/rpp-aevans-ab/tamires/data/derived/barbie_subclips_15/39.6_54.5_neutral_clip_images.mp4\n",
      "\n"
     ]
    },
    {
     "name": "stderr",
     "output_type": "stream",
     "text": [
      "                                                                                                                                                         \r"
     ]
    },
    {
     "name": "stdout",
     "output_type": "stream",
     "text": [
      "Moviepy - Done !\n",
      "Moviepy - video ready /home/tamires/projects/rpp-aevans-ab/tamires/data/derived/barbie_subclips_15/39.6_54.5_neutral_clip_images.mp4\n",
      "MoviePy - Writing audio in /home/tamires/projects/rpp-aevans-ab/tamires/data/derived/barbie_subclips_15/39.6_54.5_neutral_clip_audio.mp3\n"
     ]
    },
    {
     "name": "stderr",
     "output_type": "stream",
     "text": [
      "                                                                                                                                                         \r"
     ]
    },
    {
     "name": "stdout",
     "output_type": "stream",
     "text": [
      "MoviePy - Done.\n",
      "Moviepy - Building video /home/tamires/projects/rpp-aevans-ab/tamires/data/derived/barbie_subclips_15/39.8_54.7_neutral_clip_images.mp4.\n",
      "Moviepy - Writing video /home/tamires/projects/rpp-aevans-ab/tamires/data/derived/barbie_subclips_15/39.8_54.7_neutral_clip_images.mp4\n",
      "\n"
     ]
    },
    {
     "name": "stderr",
     "output_type": "stream",
     "text": [
      "                                                                                                                                                         \r"
     ]
    },
    {
     "name": "stdout",
     "output_type": "stream",
     "text": [
      "Moviepy - Done !\n",
      "Moviepy - video ready /home/tamires/projects/rpp-aevans-ab/tamires/data/derived/barbie_subclips_15/39.8_54.7_neutral_clip_images.mp4\n",
      "MoviePy - Writing audio in /home/tamires/projects/rpp-aevans-ab/tamires/data/derived/barbie_subclips_15/39.8_54.7_neutral_clip_audio.mp3\n"
     ]
    },
    {
     "name": "stderr",
     "output_type": "stream",
     "text": [
      "                                                                                                                                                         \r"
     ]
    },
    {
     "name": "stdout",
     "output_type": "stream",
     "text": [
      "MoviePy - Done.\n",
      "Moviepy - Building video /home/tamires/projects/rpp-aevans-ab/tamires/data/derived/barbie_subclips_15/40.0_54.9_neutral_clip_images.mp4.\n",
      "Moviepy - Writing video /home/tamires/projects/rpp-aevans-ab/tamires/data/derived/barbie_subclips_15/40.0_54.9_neutral_clip_images.mp4\n",
      "\n"
     ]
    },
    {
     "name": "stderr",
     "output_type": "stream",
     "text": [
      "                                                                                                                                                         \r"
     ]
    },
    {
     "name": "stdout",
     "output_type": "stream",
     "text": [
      "Moviepy - Done !\n",
      "Moviepy - video ready /home/tamires/projects/rpp-aevans-ab/tamires/data/derived/barbie_subclips_15/40.0_54.9_neutral_clip_images.mp4\n",
      "MoviePy - Writing audio in /home/tamires/projects/rpp-aevans-ab/tamires/data/derived/barbie_subclips_15/40.0_54.9_neutral_clip_audio.mp3\n"
     ]
    },
    {
     "name": "stderr",
     "output_type": "stream",
     "text": [
      "                                                                                                                                                         \r"
     ]
    },
    {
     "name": "stdout",
     "output_type": "stream",
     "text": [
      "MoviePy - Done.\n",
      "Moviepy - Building video /home/tamires/projects/rpp-aevans-ab/tamires/data/derived/barbie_subclips_15/40.4_55.3_neutral_clip_images.mp4.\n",
      "Moviepy - Writing video /home/tamires/projects/rpp-aevans-ab/tamires/data/derived/barbie_subclips_15/40.4_55.3_neutral_clip_images.mp4\n",
      "\n"
     ]
    },
    {
     "name": "stderr",
     "output_type": "stream",
     "text": [
      "                                                                                                                                                         \r"
     ]
    },
    {
     "name": "stdout",
     "output_type": "stream",
     "text": [
      "Moviepy - Done !\n",
      "Moviepy - video ready /home/tamires/projects/rpp-aevans-ab/tamires/data/derived/barbie_subclips_15/40.4_55.3_neutral_clip_images.mp4\n",
      "MoviePy - Writing audio in /home/tamires/projects/rpp-aevans-ab/tamires/data/derived/barbie_subclips_15/40.4_55.3_neutral_clip_audio.mp3\n"
     ]
    },
    {
     "name": "stderr",
     "output_type": "stream",
     "text": [
      "                                                                                                                                                         \r"
     ]
    },
    {
     "name": "stdout",
     "output_type": "stream",
     "text": [
      "MoviePy - Done.\n",
      "Moviepy - Building video /home/tamires/projects/rpp-aevans-ab/tamires/data/derived/barbie_subclips_15/40.6_55.5_neutral_clip_images.mp4.\n",
      "Moviepy - Writing video /home/tamires/projects/rpp-aevans-ab/tamires/data/derived/barbie_subclips_15/40.6_55.5_neutral_clip_images.mp4\n",
      "\n"
     ]
    },
    {
     "name": "stderr",
     "output_type": "stream",
     "text": [
      "                                                                                                                                                         \r"
     ]
    },
    {
     "name": "stdout",
     "output_type": "stream",
     "text": [
      "Moviepy - Done !\n",
      "Moviepy - video ready /home/tamires/projects/rpp-aevans-ab/tamires/data/derived/barbie_subclips_15/40.6_55.5_neutral_clip_images.mp4\n",
      "MoviePy - Writing audio in /home/tamires/projects/rpp-aevans-ab/tamires/data/derived/barbie_subclips_15/40.6_55.5_neutral_clip_audio.mp3\n"
     ]
    },
    {
     "name": "stderr",
     "output_type": "stream",
     "text": [
      "                                                                                                                                                         \r"
     ]
    },
    {
     "name": "stdout",
     "output_type": "stream",
     "text": [
      "MoviePy - Done.\n",
      "Moviepy - Building video /home/tamires/projects/rpp-aevans-ab/tamires/data/derived/barbie_subclips_15/40.8_55.7_sad_clip_images.mp4.\n",
      "Moviepy - Writing video /home/tamires/projects/rpp-aevans-ab/tamires/data/derived/barbie_subclips_15/40.8_55.7_sad_clip_images.mp4\n",
      "\n"
     ]
    },
    {
     "name": "stderr",
     "output_type": "stream",
     "text": [
      "                                                                                                                                                         \r"
     ]
    },
    {
     "name": "stdout",
     "output_type": "stream",
     "text": [
      "Moviepy - Done !\n",
      "Moviepy - video ready /home/tamires/projects/rpp-aevans-ab/tamires/data/derived/barbie_subclips_15/40.8_55.7_sad_clip_images.mp4\n",
      "MoviePy - Writing audio in /home/tamires/projects/rpp-aevans-ab/tamires/data/derived/barbie_subclips_15/40.8_55.7_sad_clip_audio.mp3\n"
     ]
    },
    {
     "name": "stderr",
     "output_type": "stream",
     "text": [
      "                                                                                                                                                         \r"
     ]
    },
    {
     "name": "stdout",
     "output_type": "stream",
     "text": [
      "MoviePy - Done.\n",
      "Moviepy - Building video /home/tamires/projects/rpp-aevans-ab/tamires/data/derived/barbie_subclips_15/41.0_55.9_sad_clip_images.mp4.\n",
      "Moviepy - Writing video /home/tamires/projects/rpp-aevans-ab/tamires/data/derived/barbie_subclips_15/41.0_55.9_sad_clip_images.mp4\n",
      "\n"
     ]
    },
    {
     "name": "stderr",
     "output_type": "stream",
     "text": [
      "                                                                                                                                                         \r"
     ]
    },
    {
     "name": "stdout",
     "output_type": "stream",
     "text": [
      "Moviepy - Done !\n",
      "Moviepy - video ready /home/tamires/projects/rpp-aevans-ab/tamires/data/derived/barbie_subclips_15/41.0_55.9_sad_clip_images.mp4\n",
      "MoviePy - Writing audio in /home/tamires/projects/rpp-aevans-ab/tamires/data/derived/barbie_subclips_15/41.0_55.9_sad_clip_audio.mp3\n"
     ]
    },
    {
     "name": "stderr",
     "output_type": "stream",
     "text": [
      "                                                                                                                                                         \r"
     ]
    },
    {
     "name": "stdout",
     "output_type": "stream",
     "text": [
      "MoviePy - Done.\n",
      "Moviepy - Building video /home/tamires/projects/rpp-aevans-ab/tamires/data/derived/barbie_subclips_15/42.4_57.3_neutral_clip_images.mp4.\n",
      "Moviepy - Writing video /home/tamires/projects/rpp-aevans-ab/tamires/data/derived/barbie_subclips_15/42.4_57.3_neutral_clip_images.mp4\n",
      "\n"
     ]
    },
    {
     "name": "stderr",
     "output_type": "stream",
     "text": [
      "                                                                                                                                                         \r"
     ]
    },
    {
     "name": "stdout",
     "output_type": "stream",
     "text": [
      "Moviepy - Done !\n",
      "Moviepy - video ready /home/tamires/projects/rpp-aevans-ab/tamires/data/derived/barbie_subclips_15/42.4_57.3_neutral_clip_images.mp4\n",
      "MoviePy - Writing audio in /home/tamires/projects/rpp-aevans-ab/tamires/data/derived/barbie_subclips_15/42.4_57.3_neutral_clip_audio.mp3\n"
     ]
    },
    {
     "name": "stderr",
     "output_type": "stream",
     "text": [
      "                                                                                                                                                         \r"
     ]
    },
    {
     "name": "stdout",
     "output_type": "stream",
     "text": [
      "MoviePy - Done.\n",
      "Moviepy - Building video /home/tamires/projects/rpp-aevans-ab/tamires/data/derived/barbie_subclips_15/42.6_57.5_neutral_clip_images.mp4.\n",
      "Moviepy - Writing video /home/tamires/projects/rpp-aevans-ab/tamires/data/derived/barbie_subclips_15/42.6_57.5_neutral_clip_images.mp4\n",
      "\n"
     ]
    },
    {
     "name": "stderr",
     "output_type": "stream",
     "text": [
      "                                                                                                                                                         \r"
     ]
    },
    {
     "name": "stdout",
     "output_type": "stream",
     "text": [
      "Moviepy - Done !\n",
      "Moviepy - video ready /home/tamires/projects/rpp-aevans-ab/tamires/data/derived/barbie_subclips_15/42.6_57.5_neutral_clip_images.mp4\n",
      "MoviePy - Writing audio in /home/tamires/projects/rpp-aevans-ab/tamires/data/derived/barbie_subclips_15/42.6_57.5_neutral_clip_audio.mp3\n"
     ]
    },
    {
     "name": "stderr",
     "output_type": "stream",
     "text": [
      "                                                                                                                                                         \r"
     ]
    },
    {
     "name": "stdout",
     "output_type": "stream",
     "text": [
      "MoviePy - Done.\n",
      "Moviepy - Building video /home/tamires/projects/rpp-aevans-ab/tamires/data/derived/barbie_subclips_15/42.8_57.7_surprise_clip_images.mp4.\n",
      "Moviepy - Writing video /home/tamires/projects/rpp-aevans-ab/tamires/data/derived/barbie_subclips_15/42.8_57.7_surprise_clip_images.mp4\n",
      "\n"
     ]
    },
    {
     "name": "stderr",
     "output_type": "stream",
     "text": [
      "                                                                                                                                                         \r"
     ]
    },
    {
     "name": "stdout",
     "output_type": "stream",
     "text": [
      "Moviepy - Done !\n",
      "Moviepy - video ready /home/tamires/projects/rpp-aevans-ab/tamires/data/derived/barbie_subclips_15/42.8_57.7_surprise_clip_images.mp4\n",
      "MoviePy - Writing audio in /home/tamires/projects/rpp-aevans-ab/tamires/data/derived/barbie_subclips_15/42.8_57.7_surprise_clip_audio.mp3\n"
     ]
    },
    {
     "name": "stderr",
     "output_type": "stream",
     "text": [
      "                                                                                                                                                         \r"
     ]
    },
    {
     "name": "stdout",
     "output_type": "stream",
     "text": [
      "MoviePy - Done.\n",
      "Moviepy - Building video /home/tamires/projects/rpp-aevans-ab/tamires/data/derived/barbie_subclips_15/43.0_57.9_surprise_clip_images.mp4.\n",
      "Moviepy - Writing video /home/tamires/projects/rpp-aevans-ab/tamires/data/derived/barbie_subclips_15/43.0_57.9_surprise_clip_images.mp4\n",
      "\n"
     ]
    },
    {
     "name": "stderr",
     "output_type": "stream",
     "text": [
      "                                                                                                                                                         \r"
     ]
    },
    {
     "name": "stdout",
     "output_type": "stream",
     "text": [
      "Moviepy - Done !\n",
      "Moviepy - video ready /home/tamires/projects/rpp-aevans-ab/tamires/data/derived/barbie_subclips_15/43.0_57.9_surprise_clip_images.mp4\n",
      "MoviePy - Writing audio in /home/tamires/projects/rpp-aevans-ab/tamires/data/derived/barbie_subclips_15/43.0_57.9_surprise_clip_audio.mp3\n"
     ]
    },
    {
     "name": "stderr",
     "output_type": "stream",
     "text": [
      "                                                                                                                                                         \r"
     ]
    },
    {
     "name": "stdout",
     "output_type": "stream",
     "text": [
      "MoviePy - Done.\n",
      "Moviepy - Building video /home/tamires/projects/rpp-aevans-ab/tamires/data/derived/barbie_subclips_15/43.3_58.2_surprise_clip_images.mp4.\n",
      "Moviepy - Writing video /home/tamires/projects/rpp-aevans-ab/tamires/data/derived/barbie_subclips_15/43.3_58.2_surprise_clip_images.mp4\n",
      "\n"
     ]
    },
    {
     "name": "stderr",
     "output_type": "stream",
     "text": [
      "                                                                                                                                                         \r"
     ]
    },
    {
     "name": "stdout",
     "output_type": "stream",
     "text": [
      "Moviepy - Done !\n",
      "Moviepy - video ready /home/tamires/projects/rpp-aevans-ab/tamires/data/derived/barbie_subclips_15/43.3_58.2_surprise_clip_images.mp4\n",
      "MoviePy - Writing audio in /home/tamires/projects/rpp-aevans-ab/tamires/data/derived/barbie_subclips_15/43.3_58.2_surprise_clip_audio.mp3\n"
     ]
    },
    {
     "name": "stderr",
     "output_type": "stream",
     "text": [
      "                                                                                                                                                         \r"
     ]
    },
    {
     "name": "stdout",
     "output_type": "stream",
     "text": [
      "MoviePy - Done.\n",
      "Moviepy - Building video /home/tamires/projects/rpp-aevans-ab/tamires/data/derived/barbie_subclips_15/43.4_58.3_surprise_clip_images.mp4.\n",
      "Moviepy - Writing video /home/tamires/projects/rpp-aevans-ab/tamires/data/derived/barbie_subclips_15/43.4_58.3_surprise_clip_images.mp4\n",
      "\n"
     ]
    },
    {
     "name": "stderr",
     "output_type": "stream",
     "text": [
      "                                                                                                                                                         \r"
     ]
    },
    {
     "name": "stdout",
     "output_type": "stream",
     "text": [
      "Moviepy - Done !\n",
      "Moviepy - video ready /home/tamires/projects/rpp-aevans-ab/tamires/data/derived/barbie_subclips_15/43.4_58.3_surprise_clip_images.mp4\n",
      "MoviePy - Writing audio in /home/tamires/projects/rpp-aevans-ab/tamires/data/derived/barbie_subclips_15/43.4_58.3_surprise_clip_audio.mp3\n"
     ]
    },
    {
     "name": "stderr",
     "output_type": "stream",
     "text": [
      "                                                                                                                                                         \r"
     ]
    },
    {
     "name": "stdout",
     "output_type": "stream",
     "text": [
      "MoviePy - Done.\n",
      "Moviepy - Building video /home/tamires/projects/rpp-aevans-ab/tamires/data/derived/barbie_subclips_15/43.6_58.5_sad_clip_images.mp4.\n",
      "Moviepy - Writing video /home/tamires/projects/rpp-aevans-ab/tamires/data/derived/barbie_subclips_15/43.6_58.5_sad_clip_images.mp4\n",
      "\n"
     ]
    },
    {
     "name": "stderr",
     "output_type": "stream",
     "text": [
      "                                                                                                                                                         \r"
     ]
    },
    {
     "name": "stdout",
     "output_type": "stream",
     "text": [
      "Moviepy - Done !\n",
      "Moviepy - video ready /home/tamires/projects/rpp-aevans-ab/tamires/data/derived/barbie_subclips_15/43.6_58.5_sad_clip_images.mp4\n",
      "MoviePy - Writing audio in /home/tamires/projects/rpp-aevans-ab/tamires/data/derived/barbie_subclips_15/43.6_58.5_sad_clip_audio.mp3\n"
     ]
    },
    {
     "name": "stderr",
     "output_type": "stream",
     "text": [
      "                                                                                                                                                         \r"
     ]
    },
    {
     "name": "stdout",
     "output_type": "stream",
     "text": [
      "MoviePy - Done.\n",
      "Moviepy - Building video /home/tamires/projects/rpp-aevans-ab/tamires/data/derived/barbie_subclips_15/43.7_58.6_neutral_clip_images.mp4.\n",
      "Moviepy - Writing video /home/tamires/projects/rpp-aevans-ab/tamires/data/derived/barbie_subclips_15/43.7_58.6_neutral_clip_images.mp4\n",
      "\n"
     ]
    },
    {
     "name": "stderr",
     "output_type": "stream",
     "text": [
      "                                                                                                                                                         \r"
     ]
    },
    {
     "name": "stdout",
     "output_type": "stream",
     "text": [
      "Moviepy - Done !\n",
      "Moviepy - video ready /home/tamires/projects/rpp-aevans-ab/tamires/data/derived/barbie_subclips_15/43.7_58.6_neutral_clip_images.mp4\n",
      "MoviePy - Writing audio in /home/tamires/projects/rpp-aevans-ab/tamires/data/derived/barbie_subclips_15/43.7_58.6_neutral_clip_audio.mp3\n"
     ]
    },
    {
     "name": "stderr",
     "output_type": "stream",
     "text": [
      "                                                                                                                                                         \r"
     ]
    },
    {
     "name": "stdout",
     "output_type": "stream",
     "text": [
      "MoviePy - Done.\n",
      "Moviepy - Building video /home/tamires/projects/rpp-aevans-ab/tamires/data/derived/barbie_subclips_15/57.1_72.0_neutral_clip_images.mp4.\n",
      "Moviepy - Writing video /home/tamires/projects/rpp-aevans-ab/tamires/data/derived/barbie_subclips_15/57.1_72.0_neutral_clip_images.mp4\n",
      "\n"
     ]
    },
    {
     "name": "stderr",
     "output_type": "stream",
     "text": [
      "                                                                                                                                                         \r"
     ]
    },
    {
     "name": "stdout",
     "output_type": "stream",
     "text": [
      "Moviepy - Done !\n",
      "Moviepy - video ready /home/tamires/projects/rpp-aevans-ab/tamires/data/derived/barbie_subclips_15/57.1_72.0_neutral_clip_images.mp4\n",
      "MoviePy - Writing audio in /home/tamires/projects/rpp-aevans-ab/tamires/data/derived/barbie_subclips_15/57.1_72.0_neutral_clip_audio.mp3\n"
     ]
    },
    {
     "name": "stderr",
     "output_type": "stream",
     "text": [
      "                                                                                                                                                         \r"
     ]
    },
    {
     "name": "stdout",
     "output_type": "stream",
     "text": [
      "MoviePy - Done.\n",
      "Moviepy - Building video /home/tamires/projects/rpp-aevans-ab/tamires/data/derived/barbie_subclips_15/57.2_72.1_neutral_clip_images.mp4.\n",
      "Moviepy - Writing video /home/tamires/projects/rpp-aevans-ab/tamires/data/derived/barbie_subclips_15/57.2_72.1_neutral_clip_images.mp4\n",
      "\n"
     ]
    },
    {
     "name": "stderr",
     "output_type": "stream",
     "text": [
      "                                                                                                                                                         \r"
     ]
    },
    {
     "name": "stdout",
     "output_type": "stream",
     "text": [
      "Moviepy - Done !\n",
      "Moviepy - video ready /home/tamires/projects/rpp-aevans-ab/tamires/data/derived/barbie_subclips_15/57.2_72.1_neutral_clip_images.mp4\n",
      "MoviePy - Writing audio in /home/tamires/projects/rpp-aevans-ab/tamires/data/derived/barbie_subclips_15/57.2_72.1_neutral_clip_audio.mp3\n"
     ]
    },
    {
     "name": "stderr",
     "output_type": "stream",
     "text": [
      "                                                                                                                                                         \r"
     ]
    },
    {
     "name": "stdout",
     "output_type": "stream",
     "text": [
      "MoviePy - Done.\n",
      "Moviepy - Building video /home/tamires/projects/rpp-aevans-ab/tamires/data/derived/barbie_subclips_15/57.3_72.2_neutral_clip_images.mp4.\n",
      "Moviepy - Writing video /home/tamires/projects/rpp-aevans-ab/tamires/data/derived/barbie_subclips_15/57.3_72.2_neutral_clip_images.mp4\n",
      "\n"
     ]
    },
    {
     "name": "stderr",
     "output_type": "stream",
     "text": [
      "                                                                                                                                                         \r"
     ]
    },
    {
     "name": "stdout",
     "output_type": "stream",
     "text": [
      "Moviepy - Done !\n",
      "Moviepy - video ready /home/tamires/projects/rpp-aevans-ab/tamires/data/derived/barbie_subclips_15/57.3_72.2_neutral_clip_images.mp4\n",
      "MoviePy - Writing audio in /home/tamires/projects/rpp-aevans-ab/tamires/data/derived/barbie_subclips_15/57.3_72.2_neutral_clip_audio.mp3\n"
     ]
    },
    {
     "name": "stderr",
     "output_type": "stream",
     "text": [
      "                                                                                                                                                         \r"
     ]
    },
    {
     "name": "stdout",
     "output_type": "stream",
     "text": [
      "MoviePy - Done.\n",
      "Moviepy - Building video /home/tamires/projects/rpp-aevans-ab/tamires/data/derived/barbie_subclips_15/57.4_72.3_neutral_clip_images.mp4.\n",
      "Moviepy - Writing video /home/tamires/projects/rpp-aevans-ab/tamires/data/derived/barbie_subclips_15/57.4_72.3_neutral_clip_images.mp4\n",
      "\n"
     ]
    },
    {
     "name": "stderr",
     "output_type": "stream",
     "text": [
      "                                                                                                                                                         \r"
     ]
    },
    {
     "name": "stdout",
     "output_type": "stream",
     "text": [
      "Moviepy - Done !\n",
      "Moviepy - video ready /home/tamires/projects/rpp-aevans-ab/tamires/data/derived/barbie_subclips_15/57.4_72.3_neutral_clip_images.mp4\n",
      "MoviePy - Writing audio in /home/tamires/projects/rpp-aevans-ab/tamires/data/derived/barbie_subclips_15/57.4_72.3_neutral_clip_audio.mp3\n"
     ]
    },
    {
     "name": "stderr",
     "output_type": "stream",
     "text": [
      "                                                                                                                                                         \r"
     ]
    },
    {
     "name": "stdout",
     "output_type": "stream",
     "text": [
      "MoviePy - Done.\n",
      "Moviepy - Building video /home/tamires/projects/rpp-aevans-ab/tamires/data/derived/barbie_subclips_15/57.5_72.4_neutral_clip_images.mp4.\n",
      "Moviepy - Writing video /home/tamires/projects/rpp-aevans-ab/tamires/data/derived/barbie_subclips_15/57.5_72.4_neutral_clip_images.mp4\n",
      "\n"
     ]
    },
    {
     "name": "stderr",
     "output_type": "stream",
     "text": [
      "                                                                                                                                                         \r"
     ]
    },
    {
     "name": "stdout",
     "output_type": "stream",
     "text": [
      "Moviepy - Done !\n",
      "Moviepy - video ready /home/tamires/projects/rpp-aevans-ab/tamires/data/derived/barbie_subclips_15/57.5_72.4_neutral_clip_images.mp4\n",
      "MoviePy - Writing audio in /home/tamires/projects/rpp-aevans-ab/tamires/data/derived/barbie_subclips_15/57.5_72.4_neutral_clip_audio.mp3\n"
     ]
    },
    {
     "name": "stderr",
     "output_type": "stream",
     "text": [
      "                                                                                                                                                         \r"
     ]
    },
    {
     "name": "stdout",
     "output_type": "stream",
     "text": [
      "MoviePy - Done.\n",
      "Moviepy - Building video /home/tamires/projects/rpp-aevans-ab/tamires/data/derived/barbie_subclips_15/57.6_72.5_neutral_clip_images.mp4.\n",
      "Moviepy - Writing video /home/tamires/projects/rpp-aevans-ab/tamires/data/derived/barbie_subclips_15/57.6_72.5_neutral_clip_images.mp4\n",
      "\n"
     ]
    },
    {
     "name": "stderr",
     "output_type": "stream",
     "text": [
      "                                                                                                                                                         \r"
     ]
    },
    {
     "name": "stdout",
     "output_type": "stream",
     "text": [
      "Moviepy - Done !\n",
      "Moviepy - video ready /home/tamires/projects/rpp-aevans-ab/tamires/data/derived/barbie_subclips_15/57.6_72.5_neutral_clip_images.mp4\n",
      "MoviePy - Writing audio in /home/tamires/projects/rpp-aevans-ab/tamires/data/derived/barbie_subclips_15/57.6_72.5_neutral_clip_audio.mp3\n"
     ]
    },
    {
     "name": "stderr",
     "output_type": "stream",
     "text": [
      "                                                                                                                                                         \r"
     ]
    },
    {
     "name": "stdout",
     "output_type": "stream",
     "text": [
      "MoviePy - Done.\n",
      "Moviepy - Building video /home/tamires/projects/rpp-aevans-ab/tamires/data/derived/barbie_subclips_15/57.7_72.6_neutral_clip_images.mp4.\n",
      "Moviepy - Writing video /home/tamires/projects/rpp-aevans-ab/tamires/data/derived/barbie_subclips_15/57.7_72.6_neutral_clip_images.mp4\n",
      "\n"
     ]
    },
    {
     "name": "stderr",
     "output_type": "stream",
     "text": [
      "                                                                                                                                                         \r"
     ]
    },
    {
     "name": "stdout",
     "output_type": "stream",
     "text": [
      "Moviepy - Done !\n",
      "Moviepy - video ready /home/tamires/projects/rpp-aevans-ab/tamires/data/derived/barbie_subclips_15/57.7_72.6_neutral_clip_images.mp4\n",
      "MoviePy - Writing audio in /home/tamires/projects/rpp-aevans-ab/tamires/data/derived/barbie_subclips_15/57.7_72.6_neutral_clip_audio.mp3\n"
     ]
    },
    {
     "name": "stderr",
     "output_type": "stream",
     "text": [
      "                                                                                                                                                         \r"
     ]
    },
    {
     "name": "stdout",
     "output_type": "stream",
     "text": [
      "MoviePy - Done.\n",
      "Moviepy - Building video /home/tamires/projects/rpp-aevans-ab/tamires/data/derived/barbie_subclips_15/57.8_72.7_sad_clip_images.mp4.\n",
      "Moviepy - Writing video /home/tamires/projects/rpp-aevans-ab/tamires/data/derived/barbie_subclips_15/57.8_72.7_sad_clip_images.mp4\n",
      "\n"
     ]
    },
    {
     "name": "stderr",
     "output_type": "stream",
     "text": [
      "                                                                                                                                                         \r"
     ]
    },
    {
     "name": "stdout",
     "output_type": "stream",
     "text": [
      "Moviepy - Done !\n",
      "Moviepy - video ready /home/tamires/projects/rpp-aevans-ab/tamires/data/derived/barbie_subclips_15/57.8_72.7_sad_clip_images.mp4\n",
      "MoviePy - Writing audio in /home/tamires/projects/rpp-aevans-ab/tamires/data/derived/barbie_subclips_15/57.8_72.7_sad_clip_audio.mp3\n"
     ]
    },
    {
     "name": "stderr",
     "output_type": "stream",
     "text": [
      "                                                                                                                                                         \r"
     ]
    },
    {
     "name": "stdout",
     "output_type": "stream",
     "text": [
      "MoviePy - Done.\n",
      "Moviepy - Building video /home/tamires/projects/rpp-aevans-ab/tamires/data/derived/barbie_subclips_15/62.2_77.1_sad_clip_images.mp4.\n",
      "Moviepy - Writing video /home/tamires/projects/rpp-aevans-ab/tamires/data/derived/barbie_subclips_15/62.2_77.1_sad_clip_images.mp4\n",
      "\n"
     ]
    },
    {
     "name": "stderr",
     "output_type": "stream",
     "text": [
      "                                                                                                                                                         \r"
     ]
    },
    {
     "name": "stdout",
     "output_type": "stream",
     "text": [
      "Moviepy - Done !\n",
      "Moviepy - video ready /home/tamires/projects/rpp-aevans-ab/tamires/data/derived/barbie_subclips_15/62.2_77.1_sad_clip_images.mp4\n",
      "MoviePy - Writing audio in /home/tamires/projects/rpp-aevans-ab/tamires/data/derived/barbie_subclips_15/62.2_77.1_sad_clip_audio.mp3\n"
     ]
    },
    {
     "name": "stderr",
     "output_type": "stream",
     "text": [
      "                                                                                                                                                         \r"
     ]
    },
    {
     "name": "stdout",
     "output_type": "stream",
     "text": [
      "MoviePy - Done.\n",
      "Moviepy - Building video /home/tamires/projects/rpp-aevans-ab/tamires/data/derived/barbie_subclips_15/62.8_77.7_neutral_clip_images.mp4.\n",
      "Moviepy - Writing video /home/tamires/projects/rpp-aevans-ab/tamires/data/derived/barbie_subclips_15/62.8_77.7_neutral_clip_images.mp4\n",
      "\n"
     ]
    },
    {
     "name": "stderr",
     "output_type": "stream",
     "text": [
      "                                                                                                                                                         \r"
     ]
    },
    {
     "name": "stdout",
     "output_type": "stream",
     "text": [
      "Moviepy - Done !\n",
      "Moviepy - video ready /home/tamires/projects/rpp-aevans-ab/tamires/data/derived/barbie_subclips_15/62.8_77.7_neutral_clip_images.mp4\n",
      "MoviePy - Writing audio in /home/tamires/projects/rpp-aevans-ab/tamires/data/derived/barbie_subclips_15/62.8_77.7_neutral_clip_audio.mp3\n"
     ]
    },
    {
     "name": "stderr",
     "output_type": "stream",
     "text": [
      "                                                                                                                                                         \r"
     ]
    },
    {
     "name": "stdout",
     "output_type": "stream",
     "text": [
      "MoviePy - Done.\n",
      "Moviepy - Building video /home/tamires/projects/rpp-aevans-ab/tamires/data/derived/barbie_subclips_15/62.9_77.8_neutral_clip_images.mp4.\n",
      "Moviepy - Writing video /home/tamires/projects/rpp-aevans-ab/tamires/data/derived/barbie_subclips_15/62.9_77.8_neutral_clip_images.mp4\n",
      "\n"
     ]
    },
    {
     "name": "stderr",
     "output_type": "stream",
     "text": [
      "                                                                                                                                                         \r"
     ]
    },
    {
     "name": "stdout",
     "output_type": "stream",
     "text": [
      "Moviepy - Done !\n",
      "Moviepy - video ready /home/tamires/projects/rpp-aevans-ab/tamires/data/derived/barbie_subclips_15/62.9_77.8_neutral_clip_images.mp4\n",
      "MoviePy - Writing audio in /home/tamires/projects/rpp-aevans-ab/tamires/data/derived/barbie_subclips_15/62.9_77.8_neutral_clip_audio.mp3\n"
     ]
    },
    {
     "name": "stderr",
     "output_type": "stream",
     "text": [
      "                                                                                                                                                         \r"
     ]
    },
    {
     "name": "stdout",
     "output_type": "stream",
     "text": [
      "MoviePy - Done.\n",
      "Moviepy - Building video /home/tamires/projects/rpp-aevans-ab/tamires/data/derived/barbie_subclips_15/63.0_77.9_neutral_clip_images.mp4.\n",
      "Moviepy - Writing video /home/tamires/projects/rpp-aevans-ab/tamires/data/derived/barbie_subclips_15/63.0_77.9_neutral_clip_images.mp4\n",
      "\n"
     ]
    },
    {
     "name": "stderr",
     "output_type": "stream",
     "text": [
      "                                                                                                                                                         \r"
     ]
    },
    {
     "name": "stdout",
     "output_type": "stream",
     "text": [
      "Moviepy - Done !\n",
      "Moviepy - video ready /home/tamires/projects/rpp-aevans-ab/tamires/data/derived/barbie_subclips_15/63.0_77.9_neutral_clip_images.mp4\n",
      "MoviePy - Writing audio in /home/tamires/projects/rpp-aevans-ab/tamires/data/derived/barbie_subclips_15/63.0_77.9_neutral_clip_audio.mp3\n"
     ]
    },
    {
     "name": "stderr",
     "output_type": "stream",
     "text": [
      "                                                                                                                                                         \r"
     ]
    },
    {
     "name": "stdout",
     "output_type": "stream",
     "text": [
      "MoviePy - Done.\n",
      "Moviepy - Building video /home/tamires/projects/rpp-aevans-ab/tamires/data/derived/barbie_subclips_15/63.3_78.2_neutral_clip_images.mp4.\n",
      "Moviepy - Writing video /home/tamires/projects/rpp-aevans-ab/tamires/data/derived/barbie_subclips_15/63.3_78.2_neutral_clip_images.mp4\n",
      "\n"
     ]
    },
    {
     "name": "stderr",
     "output_type": "stream",
     "text": [
      "                                                                                                                                                         \r"
     ]
    },
    {
     "name": "stdout",
     "output_type": "stream",
     "text": [
      "Moviepy - Done !\n",
      "Moviepy - video ready /home/tamires/projects/rpp-aevans-ab/tamires/data/derived/barbie_subclips_15/63.3_78.2_neutral_clip_images.mp4\n",
      "MoviePy - Writing audio in /home/tamires/projects/rpp-aevans-ab/tamires/data/derived/barbie_subclips_15/63.3_78.2_neutral_clip_audio.mp3\n"
     ]
    },
    {
     "name": "stderr",
     "output_type": "stream",
     "text": [
      "                                                                                                                                                         \r"
     ]
    },
    {
     "name": "stdout",
     "output_type": "stream",
     "text": [
      "MoviePy - Done.\n",
      "Moviepy - Building video /home/tamires/projects/rpp-aevans-ab/tamires/data/derived/barbie_subclips_15/63.4_78.3_neutral_clip_images.mp4.\n",
      "Moviepy - Writing video /home/tamires/projects/rpp-aevans-ab/tamires/data/derived/barbie_subclips_15/63.4_78.3_neutral_clip_images.mp4\n",
      "\n"
     ]
    },
    {
     "name": "stderr",
     "output_type": "stream",
     "text": [
      "                                                                                                                                                         \r"
     ]
    },
    {
     "name": "stdout",
     "output_type": "stream",
     "text": [
      "Moviepy - Done !\n",
      "Moviepy - video ready /home/tamires/projects/rpp-aevans-ab/tamires/data/derived/barbie_subclips_15/63.4_78.3_neutral_clip_images.mp4\n",
      "MoviePy - Writing audio in /home/tamires/projects/rpp-aevans-ab/tamires/data/derived/barbie_subclips_15/63.4_78.3_neutral_clip_audio.mp3\n"
     ]
    },
    {
     "name": "stderr",
     "output_type": "stream",
     "text": [
      "                                                                                                                                                         \r"
     ]
    },
    {
     "name": "stdout",
     "output_type": "stream",
     "text": [
      "MoviePy - Done.\n",
      "Moviepy - Building video /home/tamires/projects/rpp-aevans-ab/tamires/data/derived/barbie_subclips_15/63.5_78.4_neutral_clip_images.mp4.\n",
      "Moviepy - Writing video /home/tamires/projects/rpp-aevans-ab/tamires/data/derived/barbie_subclips_15/63.5_78.4_neutral_clip_images.mp4\n",
      "\n"
     ]
    },
    {
     "name": "stderr",
     "output_type": "stream",
     "text": [
      "                                                                                                                                                         \r"
     ]
    },
    {
     "name": "stdout",
     "output_type": "stream",
     "text": [
      "Moviepy - Done !\n",
      "Moviepy - video ready /home/tamires/projects/rpp-aevans-ab/tamires/data/derived/barbie_subclips_15/63.5_78.4_neutral_clip_images.mp4\n",
      "MoviePy - Writing audio in /home/tamires/projects/rpp-aevans-ab/tamires/data/derived/barbie_subclips_15/63.5_78.4_neutral_clip_audio.mp3\n"
     ]
    },
    {
     "name": "stderr",
     "output_type": "stream",
     "text": [
      "                                                                                                                                                         \r"
     ]
    },
    {
     "name": "stdout",
     "output_type": "stream",
     "text": [
      "MoviePy - Done.\n",
      "Moviepy - Building video /home/tamires/projects/rpp-aevans-ab/tamires/data/derived/barbie_subclips_15/63.7_78.6_sad_clip_images.mp4.\n",
      "Moviepy - Writing video /home/tamires/projects/rpp-aevans-ab/tamires/data/derived/barbie_subclips_15/63.7_78.6_sad_clip_images.mp4\n",
      "\n"
     ]
    },
    {
     "name": "stderr",
     "output_type": "stream",
     "text": [
      "                                                                                                                                                         \r"
     ]
    },
    {
     "name": "stdout",
     "output_type": "stream",
     "text": [
      "Moviepy - Done !\n",
      "Moviepy - video ready /home/tamires/projects/rpp-aevans-ab/tamires/data/derived/barbie_subclips_15/63.7_78.6_sad_clip_images.mp4\n",
      "MoviePy - Writing audio in /home/tamires/projects/rpp-aevans-ab/tamires/data/derived/barbie_subclips_15/63.7_78.6_sad_clip_audio.mp3\n"
     ]
    },
    {
     "name": "stderr",
     "output_type": "stream",
     "text": [
      "                                                                                                                                                         \r"
     ]
    },
    {
     "name": "stdout",
     "output_type": "stream",
     "text": [
      "MoviePy - Done.\n",
      "Moviepy - Building video /home/tamires/projects/rpp-aevans-ab/tamires/data/derived/barbie_subclips_15/63.8_78.7_neutral_clip_images.mp4.\n",
      "Moviepy - Writing video /home/tamires/projects/rpp-aevans-ab/tamires/data/derived/barbie_subclips_15/63.8_78.7_neutral_clip_images.mp4\n",
      "\n"
     ]
    },
    {
     "name": "stderr",
     "output_type": "stream",
     "text": [
      "                                                                                                                                                         \r"
     ]
    },
    {
     "name": "stdout",
     "output_type": "stream",
     "text": [
      "Moviepy - Done !\n",
      "Moviepy - video ready /home/tamires/projects/rpp-aevans-ab/tamires/data/derived/barbie_subclips_15/63.8_78.7_neutral_clip_images.mp4\n",
      "MoviePy - Writing audio in /home/tamires/projects/rpp-aevans-ab/tamires/data/derived/barbie_subclips_15/63.8_78.7_neutral_clip_audio.mp3\n"
     ]
    },
    {
     "name": "stderr",
     "output_type": "stream",
     "text": [
      "                                                                                                                                                         \r"
     ]
    },
    {
     "name": "stdout",
     "output_type": "stream",
     "text": [
      "MoviePy - Done.\n",
      "Moviepy - Building video /home/tamires/projects/rpp-aevans-ab/tamires/data/derived/barbie_subclips_15/64.1_79.0_neutral_clip_images.mp4.\n",
      "Moviepy - Writing video /home/tamires/projects/rpp-aevans-ab/tamires/data/derived/barbie_subclips_15/64.1_79.0_neutral_clip_images.mp4\n",
      "\n"
     ]
    },
    {
     "name": "stderr",
     "output_type": "stream",
     "text": [
      "                                                                                                                                                         \r"
     ]
    },
    {
     "name": "stdout",
     "output_type": "stream",
     "text": [
      "Moviepy - Done !\n",
      "Moviepy - video ready /home/tamires/projects/rpp-aevans-ab/tamires/data/derived/barbie_subclips_15/64.1_79.0_neutral_clip_images.mp4\n",
      "MoviePy - Writing audio in /home/tamires/projects/rpp-aevans-ab/tamires/data/derived/barbie_subclips_15/64.1_79.0_neutral_clip_audio.mp3\n"
     ]
    },
    {
     "name": "stderr",
     "output_type": "stream",
     "text": [
      "                                                                                                                                                         \r"
     ]
    },
    {
     "name": "stdout",
     "output_type": "stream",
     "text": [
      "MoviePy - Done.\n",
      "Moviepy - Building video /home/tamires/projects/rpp-aevans-ab/tamires/data/derived/barbie_subclips_15/64.5_79.4_neutral_clip_images.mp4.\n",
      "Moviepy - Writing video /home/tamires/projects/rpp-aevans-ab/tamires/data/derived/barbie_subclips_15/64.5_79.4_neutral_clip_images.mp4\n",
      "\n"
     ]
    },
    {
     "name": "stderr",
     "output_type": "stream",
     "text": [
      "                                                                                                                                                         \r"
     ]
    },
    {
     "name": "stdout",
     "output_type": "stream",
     "text": [
      "Moviepy - Done !\n",
      "Moviepy - video ready /home/tamires/projects/rpp-aevans-ab/tamires/data/derived/barbie_subclips_15/64.5_79.4_neutral_clip_images.mp4\n",
      "MoviePy - Writing audio in /home/tamires/projects/rpp-aevans-ab/tamires/data/derived/barbie_subclips_15/64.5_79.4_neutral_clip_audio.mp3\n"
     ]
    },
    {
     "name": "stderr",
     "output_type": "stream",
     "text": [
      "                                                                                                                                                         \r"
     ]
    },
    {
     "name": "stdout",
     "output_type": "stream",
     "text": [
      "MoviePy - Done.\n",
      "Moviepy - Building video /home/tamires/projects/rpp-aevans-ab/tamires/data/derived/barbie_subclips_15/64.6_79.5_happy_clip_images.mp4.\n",
      "Moviepy - Writing video /home/tamires/projects/rpp-aevans-ab/tamires/data/derived/barbie_subclips_15/64.6_79.5_happy_clip_images.mp4\n",
      "\n"
     ]
    },
    {
     "name": "stderr",
     "output_type": "stream",
     "text": [
      "                                                                                                                                                         \r"
     ]
    },
    {
     "name": "stdout",
     "output_type": "stream",
     "text": [
      "Moviepy - Done !\n",
      "Moviepy - video ready /home/tamires/projects/rpp-aevans-ab/tamires/data/derived/barbie_subclips_15/64.6_79.5_happy_clip_images.mp4\n",
      "MoviePy - Writing audio in /home/tamires/projects/rpp-aevans-ab/tamires/data/derived/barbie_subclips_15/64.6_79.5_happy_clip_audio.mp3\n"
     ]
    },
    {
     "name": "stderr",
     "output_type": "stream",
     "text": [
      "                                                                                                                                                         \r"
     ]
    },
    {
     "name": "stdout",
     "output_type": "stream",
     "text": [
      "MoviePy - Done.\n",
      "Moviepy - Building video /home/tamires/projects/rpp-aevans-ab/tamires/data/derived/barbie_subclips_15/64.8_79.7_neutral_clip_images.mp4.\n",
      "Moviepy - Writing video /home/tamires/projects/rpp-aevans-ab/tamires/data/derived/barbie_subclips_15/64.8_79.7_neutral_clip_images.mp4\n",
      "\n"
     ]
    },
    {
     "name": "stderr",
     "output_type": "stream",
     "text": [
      "                                                                                                                                                         \r"
     ]
    },
    {
     "name": "stdout",
     "output_type": "stream",
     "text": [
      "Moviepy - Done !\n",
      "Moviepy - video ready /home/tamires/projects/rpp-aevans-ab/tamires/data/derived/barbie_subclips_15/64.8_79.7_neutral_clip_images.mp4\n",
      "MoviePy - Writing audio in /home/tamires/projects/rpp-aevans-ab/tamires/data/derived/barbie_subclips_15/64.8_79.7_neutral_clip_audio.mp3\n"
     ]
    },
    {
     "name": "stderr",
     "output_type": "stream",
     "text": [
      "                                                                                                                                                         \r"
     ]
    },
    {
     "name": "stdout",
     "output_type": "stream",
     "text": [
      "MoviePy - Done.\n",
      "Moviepy - Building video /home/tamires/projects/rpp-aevans-ab/tamires/data/derived/barbie_subclips_15/64.9_79.8_neutral_clip_images.mp4.\n",
      "Moviepy - Writing video /home/tamires/projects/rpp-aevans-ab/tamires/data/derived/barbie_subclips_15/64.9_79.8_neutral_clip_images.mp4\n",
      "\n"
     ]
    },
    {
     "name": "stderr",
     "output_type": "stream",
     "text": [
      "                                                                                                                                                         \r"
     ]
    },
    {
     "name": "stdout",
     "output_type": "stream",
     "text": [
      "Moviepy - Done !\n",
      "Moviepy - video ready /home/tamires/projects/rpp-aevans-ab/tamires/data/derived/barbie_subclips_15/64.9_79.8_neutral_clip_images.mp4\n",
      "MoviePy - Writing audio in /home/tamires/projects/rpp-aevans-ab/tamires/data/derived/barbie_subclips_15/64.9_79.8_neutral_clip_audio.mp3\n"
     ]
    },
    {
     "name": "stderr",
     "output_type": "stream",
     "text": [
      "                                                                                                                                                         \r"
     ]
    },
    {
     "name": "stdout",
     "output_type": "stream",
     "text": [
      "MoviePy - Done.\n",
      "Moviepy - Building video /home/tamires/projects/rpp-aevans-ab/tamires/data/derived/barbie_subclips_15/65.0_79.9_neutral_clip_images.mp4.\n",
      "Moviepy - Writing video /home/tamires/projects/rpp-aevans-ab/tamires/data/derived/barbie_subclips_15/65.0_79.9_neutral_clip_images.mp4\n",
      "\n"
     ]
    },
    {
     "name": "stderr",
     "output_type": "stream",
     "text": [
      "                                                                                                                                                         \r"
     ]
    },
    {
     "name": "stdout",
     "output_type": "stream",
     "text": [
      "Moviepy - Done !\n",
      "Moviepy - video ready /home/tamires/projects/rpp-aevans-ab/tamires/data/derived/barbie_subclips_15/65.0_79.9_neutral_clip_images.mp4\n",
      "MoviePy - Writing audio in /home/tamires/projects/rpp-aevans-ab/tamires/data/derived/barbie_subclips_15/65.0_79.9_neutral_clip_audio.mp3\n"
     ]
    },
    {
     "name": "stderr",
     "output_type": "stream",
     "text": [
      "                                                                                                                                                         \r"
     ]
    },
    {
     "name": "stdout",
     "output_type": "stream",
     "text": [
      "MoviePy - Done.\n",
      "Moviepy - Building video /home/tamires/projects/rpp-aevans-ab/tamires/data/derived/barbie_subclips_15/65.1_80.0_neutral_clip_images.mp4.\n",
      "Moviepy - Writing video /home/tamires/projects/rpp-aevans-ab/tamires/data/derived/barbie_subclips_15/65.1_80.0_neutral_clip_images.mp4\n",
      "\n"
     ]
    },
    {
     "name": "stderr",
     "output_type": "stream",
     "text": [
      "                                                                                                                                                         \r"
     ]
    },
    {
     "name": "stdout",
     "output_type": "stream",
     "text": [
      "Moviepy - Done !\n",
      "Moviepy - video ready /home/tamires/projects/rpp-aevans-ab/tamires/data/derived/barbie_subclips_15/65.1_80.0_neutral_clip_images.mp4\n",
      "MoviePy - Writing audio in /home/tamires/projects/rpp-aevans-ab/tamires/data/derived/barbie_subclips_15/65.1_80.0_neutral_clip_audio.mp3\n"
     ]
    },
    {
     "name": "stderr",
     "output_type": "stream",
     "text": [
      "                                                                                                                                                         \r"
     ]
    },
    {
     "name": "stdout",
     "output_type": "stream",
     "text": [
      "MoviePy - Done.\n",
      "Moviepy - Building video /home/tamires/projects/rpp-aevans-ab/tamires/data/derived/barbie_subclips_15/65.2_80.1_neutral_clip_images.mp4.\n",
      "Moviepy - Writing video /home/tamires/projects/rpp-aevans-ab/tamires/data/derived/barbie_subclips_15/65.2_80.1_neutral_clip_images.mp4\n",
      "\n"
     ]
    },
    {
     "name": "stderr",
     "output_type": "stream",
     "text": [
      "                                                                                                                                                         \r"
     ]
    },
    {
     "name": "stdout",
     "output_type": "stream",
     "text": [
      "Moviepy - Done !\n",
      "Moviepy - video ready /home/tamires/projects/rpp-aevans-ab/tamires/data/derived/barbie_subclips_15/65.2_80.1_neutral_clip_images.mp4\n",
      "MoviePy - Writing audio in /home/tamires/projects/rpp-aevans-ab/tamires/data/derived/barbie_subclips_15/65.2_80.1_neutral_clip_audio.mp3\n"
     ]
    },
    {
     "name": "stderr",
     "output_type": "stream",
     "text": [
      "                                                                                                                                                         \r"
     ]
    },
    {
     "name": "stdout",
     "output_type": "stream",
     "text": [
      "MoviePy - Done.\n",
      "Moviepy - Building video /home/tamires/projects/rpp-aevans-ab/tamires/data/derived/barbie_subclips_15/65.3_80.2_neutral_clip_images.mp4.\n",
      "Moviepy - Writing video /home/tamires/projects/rpp-aevans-ab/tamires/data/derived/barbie_subclips_15/65.3_80.2_neutral_clip_images.mp4\n",
      "\n"
     ]
    },
    {
     "name": "stderr",
     "output_type": "stream",
     "text": [
      "                                                                                                                                                         \r"
     ]
    },
    {
     "name": "stdout",
     "output_type": "stream",
     "text": [
      "Moviepy - Done !\n",
      "Moviepy - video ready /home/tamires/projects/rpp-aevans-ab/tamires/data/derived/barbie_subclips_15/65.3_80.2_neutral_clip_images.mp4\n",
      "MoviePy - Writing audio in /home/tamires/projects/rpp-aevans-ab/tamires/data/derived/barbie_subclips_15/65.3_80.2_neutral_clip_audio.mp3\n"
     ]
    },
    {
     "name": "stderr",
     "output_type": "stream",
     "text": [
      "                                                                                                                                                         \r"
     ]
    },
    {
     "name": "stdout",
     "output_type": "stream",
     "text": [
      "MoviePy - Done.\n",
      "Moviepy - Building video /home/tamires/projects/rpp-aevans-ab/tamires/data/derived/barbie_subclips_15/65.5_80.4_neutral_clip_images.mp4.\n",
      "Moviepy - Writing video /home/tamires/projects/rpp-aevans-ab/tamires/data/derived/barbie_subclips_15/65.5_80.4_neutral_clip_images.mp4\n",
      "\n"
     ]
    },
    {
     "name": "stderr",
     "output_type": "stream",
     "text": [
      "                                                                                                                                                         \r"
     ]
    },
    {
     "name": "stdout",
     "output_type": "stream",
     "text": [
      "Moviepy - Done !\n",
      "Moviepy - video ready /home/tamires/projects/rpp-aevans-ab/tamires/data/derived/barbie_subclips_15/65.5_80.4_neutral_clip_images.mp4\n",
      "MoviePy - Writing audio in /home/tamires/projects/rpp-aevans-ab/tamires/data/derived/barbie_subclips_15/65.5_80.4_neutral_clip_audio.mp3\n"
     ]
    },
    {
     "name": "stderr",
     "output_type": "stream",
     "text": [
      "                                                                                                                                                         \r"
     ]
    },
    {
     "name": "stdout",
     "output_type": "stream",
     "text": [
      "MoviePy - Done.\n",
      "Moviepy - Building video /home/tamires/projects/rpp-aevans-ab/tamires/data/derived/barbie_subclips_15/65.6_80.5_neutral_clip_images.mp4.\n",
      "Moviepy - Writing video /home/tamires/projects/rpp-aevans-ab/tamires/data/derived/barbie_subclips_15/65.6_80.5_neutral_clip_images.mp4\n",
      "\n"
     ]
    },
    {
     "name": "stderr",
     "output_type": "stream",
     "text": [
      "                                                                                                                                                         \r"
     ]
    },
    {
     "name": "stdout",
     "output_type": "stream",
     "text": [
      "Moviepy - Done !\n",
      "Moviepy - video ready /home/tamires/projects/rpp-aevans-ab/tamires/data/derived/barbie_subclips_15/65.6_80.5_neutral_clip_images.mp4\n",
      "MoviePy - Writing audio in /home/tamires/projects/rpp-aevans-ab/tamires/data/derived/barbie_subclips_15/65.6_80.5_neutral_clip_audio.mp3\n"
     ]
    },
    {
     "name": "stderr",
     "output_type": "stream",
     "text": [
      "                                                                                                                                                         \r"
     ]
    },
    {
     "name": "stdout",
     "output_type": "stream",
     "text": [
      "MoviePy - Done.\n",
      "Moviepy - Building video /home/tamires/projects/rpp-aevans-ab/tamires/data/derived/barbie_subclips_15/65.7_80.6_neutral_clip_images.mp4.\n",
      "Moviepy - Writing video /home/tamires/projects/rpp-aevans-ab/tamires/data/derived/barbie_subclips_15/65.7_80.6_neutral_clip_images.mp4\n",
      "\n"
     ]
    },
    {
     "name": "stderr",
     "output_type": "stream",
     "text": [
      "                                                                                                                                                         \r"
     ]
    },
    {
     "name": "stdout",
     "output_type": "stream",
     "text": [
      "Moviepy - Done !\n",
      "Moviepy - video ready /home/tamires/projects/rpp-aevans-ab/tamires/data/derived/barbie_subclips_15/65.7_80.6_neutral_clip_images.mp4\n",
      "MoviePy - Writing audio in /home/tamires/projects/rpp-aevans-ab/tamires/data/derived/barbie_subclips_15/65.7_80.6_neutral_clip_audio.mp3\n"
     ]
    },
    {
     "name": "stderr",
     "output_type": "stream",
     "text": [
      "                                                                                                                                                         \r"
     ]
    },
    {
     "name": "stdout",
     "output_type": "stream",
     "text": [
      "MoviePy - Done.\n",
      "Moviepy - Building video /home/tamires/projects/rpp-aevans-ab/tamires/data/derived/barbie_subclips_15/65.8_80.7_neutral_clip_images.mp4.\n",
      "Moviepy - Writing video /home/tamires/projects/rpp-aevans-ab/tamires/data/derived/barbie_subclips_15/65.8_80.7_neutral_clip_images.mp4\n",
      "\n"
     ]
    },
    {
     "name": "stderr",
     "output_type": "stream",
     "text": [
      "                                                                                                                                                         \r"
     ]
    },
    {
     "name": "stdout",
     "output_type": "stream",
     "text": [
      "Moviepy - Done !\n",
      "Moviepy - video ready /home/tamires/projects/rpp-aevans-ab/tamires/data/derived/barbie_subclips_15/65.8_80.7_neutral_clip_images.mp4\n",
      "MoviePy - Writing audio in /home/tamires/projects/rpp-aevans-ab/tamires/data/derived/barbie_subclips_15/65.8_80.7_neutral_clip_audio.mp3\n"
     ]
    },
    {
     "name": "stderr",
     "output_type": "stream",
     "text": [
      "                                                                                                                                                         \r"
     ]
    },
    {
     "name": "stdout",
     "output_type": "stream",
     "text": [
      "MoviePy - Done.\n",
      "Moviepy - Building video /home/tamires/projects/rpp-aevans-ab/tamires/data/derived/barbie_subclips_15/66.0_80.9_angry_clip_images.mp4.\n",
      "Moviepy - Writing video /home/tamires/projects/rpp-aevans-ab/tamires/data/derived/barbie_subclips_15/66.0_80.9_angry_clip_images.mp4\n",
      "\n"
     ]
    },
    {
     "name": "stderr",
     "output_type": "stream",
     "text": [
      "                                                                                                                                                         \r"
     ]
    },
    {
     "name": "stdout",
     "output_type": "stream",
     "text": [
      "Moviepy - Done !\n",
      "Moviepy - video ready /home/tamires/projects/rpp-aevans-ab/tamires/data/derived/barbie_subclips_15/66.0_80.9_angry_clip_images.mp4\n",
      "MoviePy - Writing audio in /home/tamires/projects/rpp-aevans-ab/tamires/data/derived/barbie_subclips_15/66.0_80.9_angry_clip_audio.mp3\n"
     ]
    },
    {
     "name": "stderr",
     "output_type": "stream",
     "text": [
      "                                                                                                                                                         \r"
     ]
    },
    {
     "name": "stdout",
     "output_type": "stream",
     "text": [
      "MoviePy - Done.\n",
      "Moviepy - Building video /home/tamires/projects/rpp-aevans-ab/tamires/data/derived/barbie_subclips_15/66.3_81.2_neutral_clip_images.mp4.\n",
      "Moviepy - Writing video /home/tamires/projects/rpp-aevans-ab/tamires/data/derived/barbie_subclips_15/66.3_81.2_neutral_clip_images.mp4\n",
      "\n"
     ]
    },
    {
     "name": "stderr",
     "output_type": "stream",
     "text": [
      "                                                                                                                                                         \r"
     ]
    },
    {
     "name": "stdout",
     "output_type": "stream",
     "text": [
      "Moviepy - Done !\n",
      "Moviepy - video ready /home/tamires/projects/rpp-aevans-ab/tamires/data/derived/barbie_subclips_15/66.3_81.2_neutral_clip_images.mp4\n",
      "MoviePy - Writing audio in /home/tamires/projects/rpp-aevans-ab/tamires/data/derived/barbie_subclips_15/66.3_81.2_neutral_clip_audio.mp3\n"
     ]
    },
    {
     "name": "stderr",
     "output_type": "stream",
     "text": [
      "                                                                                                                                                         \r"
     ]
    },
    {
     "name": "stdout",
     "output_type": "stream",
     "text": [
      "MoviePy - Done.\n",
      "Moviepy - Building video /home/tamires/projects/rpp-aevans-ab/tamires/data/derived/barbie_subclips_15/66.5_81.4_sad_clip_images.mp4.\n",
      "Moviepy - Writing video /home/tamires/projects/rpp-aevans-ab/tamires/data/derived/barbie_subclips_15/66.5_81.4_sad_clip_images.mp4\n",
      "\n"
     ]
    },
    {
     "name": "stderr",
     "output_type": "stream",
     "text": [
      "                                                                                                                                                         \r"
     ]
    },
    {
     "name": "stdout",
     "output_type": "stream",
     "text": [
      "Moviepy - Done !\n",
      "Moviepy - video ready /home/tamires/projects/rpp-aevans-ab/tamires/data/derived/barbie_subclips_15/66.5_81.4_sad_clip_images.mp4\n",
      "MoviePy - Writing audio in /home/tamires/projects/rpp-aevans-ab/tamires/data/derived/barbie_subclips_15/66.5_81.4_sad_clip_audio.mp3\n"
     ]
    },
    {
     "name": "stderr",
     "output_type": "stream",
     "text": [
      "                                                                                                                                                         \r"
     ]
    },
    {
     "name": "stdout",
     "output_type": "stream",
     "text": [
      "MoviePy - Done.\n",
      "Moviepy - Building video /home/tamires/projects/rpp-aevans-ab/tamires/data/derived/barbie_subclips_15/66.7_81.6_neutral_clip_images.mp4.\n",
      "Moviepy - Writing video /home/tamires/projects/rpp-aevans-ab/tamires/data/derived/barbie_subclips_15/66.7_81.6_neutral_clip_images.mp4\n",
      "\n"
     ]
    },
    {
     "name": "stderr",
     "output_type": "stream",
     "text": [
      "                                                                                                                                                         \r"
     ]
    },
    {
     "name": "stdout",
     "output_type": "stream",
     "text": [
      "Moviepy - Done !\n",
      "Moviepy - video ready /home/tamires/projects/rpp-aevans-ab/tamires/data/derived/barbie_subclips_15/66.7_81.6_neutral_clip_images.mp4\n",
      "MoviePy - Writing audio in /home/tamires/projects/rpp-aevans-ab/tamires/data/derived/barbie_subclips_15/66.7_81.6_neutral_clip_audio.mp3\n"
     ]
    },
    {
     "name": "stderr",
     "output_type": "stream",
     "text": [
      "                                                                                                                                                         \r"
     ]
    },
    {
     "name": "stdout",
     "output_type": "stream",
     "text": [
      "MoviePy - Done.\n",
      "Moviepy - Building video /home/tamires/projects/rpp-aevans-ab/tamires/data/derived/barbie_subclips_15/66.9_81.8_neutral_clip_images.mp4.\n",
      "Moviepy - Writing video /home/tamires/projects/rpp-aevans-ab/tamires/data/derived/barbie_subclips_15/66.9_81.8_neutral_clip_images.mp4\n",
      "\n"
     ]
    },
    {
     "name": "stderr",
     "output_type": "stream",
     "text": [
      "                                                                                                                                                         \r"
     ]
    },
    {
     "name": "stdout",
     "output_type": "stream",
     "text": [
      "Moviepy - Done !\n",
      "Moviepy - video ready /home/tamires/projects/rpp-aevans-ab/tamires/data/derived/barbie_subclips_15/66.9_81.8_neutral_clip_images.mp4\n",
      "MoviePy - Writing audio in /home/tamires/projects/rpp-aevans-ab/tamires/data/derived/barbie_subclips_15/66.9_81.8_neutral_clip_audio.mp3\n"
     ]
    },
    {
     "name": "stderr",
     "output_type": "stream",
     "text": [
      "                                                                                                                                                         \r"
     ]
    },
    {
     "name": "stdout",
     "output_type": "stream",
     "text": [
      "MoviePy - Done.\n",
      "Moviepy - Building video /home/tamires/projects/rpp-aevans-ab/tamires/data/derived/barbie_subclips_15/67.5_82.4_neutral_clip_images.mp4.\n",
      "Moviepy - Writing video /home/tamires/projects/rpp-aevans-ab/tamires/data/derived/barbie_subclips_15/67.5_82.4_neutral_clip_images.mp4\n",
      "\n"
     ]
    },
    {
     "name": "stderr",
     "output_type": "stream",
     "text": [
      "                                                                                                                                                         \r"
     ]
    },
    {
     "name": "stdout",
     "output_type": "stream",
     "text": [
      "Moviepy - Done !\n",
      "Moviepy - video ready /home/tamires/projects/rpp-aevans-ab/tamires/data/derived/barbie_subclips_15/67.5_82.4_neutral_clip_images.mp4\n",
      "MoviePy - Writing audio in /home/tamires/projects/rpp-aevans-ab/tamires/data/derived/barbie_subclips_15/67.5_82.4_neutral_clip_audio.mp3\n"
     ]
    },
    {
     "name": "stderr",
     "output_type": "stream",
     "text": [
      "                                                                                                                                                         \r"
     ]
    },
    {
     "name": "stdout",
     "output_type": "stream",
     "text": [
      "MoviePy - Done.\n",
      "Moviepy - Building video /home/tamires/projects/rpp-aevans-ab/tamires/data/derived/barbie_subclips_15/67.6_82.5_neutral_clip_images.mp4.\n",
      "Moviepy - Writing video /home/tamires/projects/rpp-aevans-ab/tamires/data/derived/barbie_subclips_15/67.6_82.5_neutral_clip_images.mp4\n",
      "\n"
     ]
    },
    {
     "name": "stderr",
     "output_type": "stream",
     "text": [
      "                                                                                                                                                         \r"
     ]
    },
    {
     "name": "stdout",
     "output_type": "stream",
     "text": [
      "Moviepy - Done !\n",
      "Moviepy - video ready /home/tamires/projects/rpp-aevans-ab/tamires/data/derived/barbie_subclips_15/67.6_82.5_neutral_clip_images.mp4\n",
      "MoviePy - Writing audio in /home/tamires/projects/rpp-aevans-ab/tamires/data/derived/barbie_subclips_15/67.6_82.5_neutral_clip_audio.mp3\n"
     ]
    },
    {
     "name": "stderr",
     "output_type": "stream",
     "text": [
      "                                                                                                                                                         \r"
     ]
    },
    {
     "name": "stdout",
     "output_type": "stream",
     "text": [
      "MoviePy - Done.\n",
      "Moviepy - Building video /home/tamires/projects/rpp-aevans-ab/tamires/data/derived/barbie_subclips_15/67.7_82.6_angry_clip_images.mp4.\n",
      "Moviepy - Writing video /home/tamires/projects/rpp-aevans-ab/tamires/data/derived/barbie_subclips_15/67.7_82.6_angry_clip_images.mp4\n",
      "\n"
     ]
    },
    {
     "name": "stderr",
     "output_type": "stream",
     "text": [
      "                                                                                                                                                         \r"
     ]
    },
    {
     "name": "stdout",
     "output_type": "stream",
     "text": [
      "Moviepy - Done !\n",
      "Moviepy - video ready /home/tamires/projects/rpp-aevans-ab/tamires/data/derived/barbie_subclips_15/67.7_82.6_angry_clip_images.mp4\n",
      "MoviePy - Writing audio in /home/tamires/projects/rpp-aevans-ab/tamires/data/derived/barbie_subclips_15/67.7_82.6_angry_clip_audio.mp3\n"
     ]
    },
    {
     "name": "stderr",
     "output_type": "stream",
     "text": [
      "                                                                                                                                                         \r"
     ]
    },
    {
     "name": "stdout",
     "output_type": "stream",
     "text": [
      "MoviePy - Done.\n",
      "Moviepy - Building video /home/tamires/projects/rpp-aevans-ab/tamires/data/derived/barbie_subclips_15/67.9_82.8_neutral_clip_images.mp4.\n",
      "Moviepy - Writing video /home/tamires/projects/rpp-aevans-ab/tamires/data/derived/barbie_subclips_15/67.9_82.8_neutral_clip_images.mp4\n",
      "\n"
     ]
    },
    {
     "name": "stderr",
     "output_type": "stream",
     "text": [
      "                                                                                                                                                         \r"
     ]
    },
    {
     "name": "stdout",
     "output_type": "stream",
     "text": [
      "Moviepy - Done !\n",
      "Moviepy - video ready /home/tamires/projects/rpp-aevans-ab/tamires/data/derived/barbie_subclips_15/67.9_82.8_neutral_clip_images.mp4\n",
      "MoviePy - Writing audio in /home/tamires/projects/rpp-aevans-ab/tamires/data/derived/barbie_subclips_15/67.9_82.8_neutral_clip_audio.mp3\n"
     ]
    },
    {
     "name": "stderr",
     "output_type": "stream",
     "text": [
      "                                                                                                                                                         \r"
     ]
    },
    {
     "name": "stdout",
     "output_type": "stream",
     "text": [
      "MoviePy - Done.\n",
      "Moviepy - Building video /home/tamires/projects/rpp-aevans-ab/tamires/data/derived/barbie_subclips_15/68.2_83.1_neutral_clip_images.mp4.\n",
      "Moviepy - Writing video /home/tamires/projects/rpp-aevans-ab/tamires/data/derived/barbie_subclips_15/68.2_83.1_neutral_clip_images.mp4\n",
      "\n"
     ]
    },
    {
     "name": "stderr",
     "output_type": "stream",
     "text": [
      "                                                                                                                                                         \r"
     ]
    },
    {
     "name": "stdout",
     "output_type": "stream",
     "text": [
      "Moviepy - Done !\n",
      "Moviepy - video ready /home/tamires/projects/rpp-aevans-ab/tamires/data/derived/barbie_subclips_15/68.2_83.1_neutral_clip_images.mp4\n",
      "MoviePy - Writing audio in /home/tamires/projects/rpp-aevans-ab/tamires/data/derived/barbie_subclips_15/68.2_83.1_neutral_clip_audio.mp3\n"
     ]
    },
    {
     "name": "stderr",
     "output_type": "stream",
     "text": [
      "                                                                                                                                                         \r"
     ]
    },
    {
     "name": "stdout",
     "output_type": "stream",
     "text": [
      "MoviePy - Done.\n",
      "Moviepy - Building video /home/tamires/projects/rpp-aevans-ab/tamires/data/derived/barbie_subclips_15/79.7_94.6_fear_clip_images.mp4.\n",
      "Moviepy - Writing video /home/tamires/projects/rpp-aevans-ab/tamires/data/derived/barbie_subclips_15/79.7_94.6_fear_clip_images.mp4\n",
      "\n"
     ]
    },
    {
     "name": "stderr",
     "output_type": "stream",
     "text": [
      "                                                                                                                                                         \r"
     ]
    },
    {
     "name": "stdout",
     "output_type": "stream",
     "text": [
      "Moviepy - Done !\n",
      "Moviepy - video ready /home/tamires/projects/rpp-aevans-ab/tamires/data/derived/barbie_subclips_15/79.7_94.6_fear_clip_images.mp4\n",
      "MoviePy - Writing audio in /home/tamires/projects/rpp-aevans-ab/tamires/data/derived/barbie_subclips_15/79.7_94.6_fear_clip_audio.mp3\n"
     ]
    },
    {
     "name": "stderr",
     "output_type": "stream",
     "text": [
      "                                                                                                                                                         \r"
     ]
    },
    {
     "name": "stdout",
     "output_type": "stream",
     "text": [
      "MoviePy - Done.\n",
      "Moviepy - Building video /home/tamires/projects/rpp-aevans-ab/tamires/data/derived/barbie_subclips_15/79.8_94.7_fear_clip_images.mp4.\n",
      "Moviepy - Writing video /home/tamires/projects/rpp-aevans-ab/tamires/data/derived/barbie_subclips_15/79.8_94.7_fear_clip_images.mp4\n",
      "\n"
     ]
    },
    {
     "name": "stderr",
     "output_type": "stream",
     "text": [
      "                                                                                                                                                         \r"
     ]
    },
    {
     "name": "stdout",
     "output_type": "stream",
     "text": [
      "Moviepy - Done !\n",
      "Moviepy - video ready /home/tamires/projects/rpp-aevans-ab/tamires/data/derived/barbie_subclips_15/79.8_94.7_fear_clip_images.mp4\n",
      "MoviePy - Writing audio in /home/tamires/projects/rpp-aevans-ab/tamires/data/derived/barbie_subclips_15/79.8_94.7_fear_clip_audio.mp3\n"
     ]
    },
    {
     "name": "stderr",
     "output_type": "stream",
     "text": [
      "                                                                                                                                                         \r"
     ]
    },
    {
     "name": "stdout",
     "output_type": "stream",
     "text": [
      "MoviePy - Done.\n",
      "Moviepy - Building video /home/tamires/projects/rpp-aevans-ab/tamires/data/derived/barbie_subclips_15/79.9_94.8_fear_clip_images.mp4.\n",
      "Moviepy - Writing video /home/tamires/projects/rpp-aevans-ab/tamires/data/derived/barbie_subclips_15/79.9_94.8_fear_clip_images.mp4\n",
      "\n"
     ]
    },
    {
     "name": "stderr",
     "output_type": "stream",
     "text": [
      "                                                                                                                                                         \r"
     ]
    },
    {
     "name": "stdout",
     "output_type": "stream",
     "text": [
      "Moviepy - Done !\n",
      "Moviepy - video ready /home/tamires/projects/rpp-aevans-ab/tamires/data/derived/barbie_subclips_15/79.9_94.8_fear_clip_images.mp4\n",
      "MoviePy - Writing audio in /home/tamires/projects/rpp-aevans-ab/tamires/data/derived/barbie_subclips_15/79.9_94.8_fear_clip_audio.mp3\n"
     ]
    },
    {
     "name": "stderr",
     "output_type": "stream",
     "text": [
      "                                                                                                                                                         \r"
     ]
    },
    {
     "name": "stdout",
     "output_type": "stream",
     "text": [
      "MoviePy - Done.\n",
      "Moviepy - Building video /home/tamires/projects/rpp-aevans-ab/tamires/data/derived/barbie_subclips_15/80.0_94.9_fear_clip_images.mp4.\n",
      "Moviepy - Writing video /home/tamires/projects/rpp-aevans-ab/tamires/data/derived/barbie_subclips_15/80.0_94.9_fear_clip_images.mp4\n",
      "\n"
     ]
    },
    {
     "name": "stderr",
     "output_type": "stream",
     "text": [
      "                                                                                                                                                         \r"
     ]
    },
    {
     "name": "stdout",
     "output_type": "stream",
     "text": [
      "Moviepy - Done !\n",
      "Moviepy - video ready /home/tamires/projects/rpp-aevans-ab/tamires/data/derived/barbie_subclips_15/80.0_94.9_fear_clip_images.mp4\n",
      "MoviePy - Writing audio in /home/tamires/projects/rpp-aevans-ab/tamires/data/derived/barbie_subclips_15/80.0_94.9_fear_clip_audio.mp3\n"
     ]
    },
    {
     "name": "stderr",
     "output_type": "stream",
     "text": [
      "                                                                                                                                                         \r"
     ]
    },
    {
     "name": "stdout",
     "output_type": "stream",
     "text": [
      "MoviePy - Done.\n",
      "Moviepy - Building video /home/tamires/projects/rpp-aevans-ab/tamires/data/derived/barbie_subclips_15/80.3_95.2_fear_clip_images.mp4.\n",
      "Moviepy - Writing video /home/tamires/projects/rpp-aevans-ab/tamires/data/derived/barbie_subclips_15/80.3_95.2_fear_clip_images.mp4\n",
      "\n"
     ]
    },
    {
     "name": "stderr",
     "output_type": "stream",
     "text": [
      "                                                                                                                                                         \r"
     ]
    },
    {
     "name": "stdout",
     "output_type": "stream",
     "text": [
      "Moviepy - Done !\n",
      "Moviepy - video ready /home/tamires/projects/rpp-aevans-ab/tamires/data/derived/barbie_subclips_15/80.3_95.2_fear_clip_images.mp4\n",
      "MoviePy - Writing audio in /home/tamires/projects/rpp-aevans-ab/tamires/data/derived/barbie_subclips_15/80.3_95.2_fear_clip_audio.mp3\n"
     ]
    },
    {
     "name": "stderr",
     "output_type": "stream",
     "text": [
      "                                                                                                                                                         \r"
     ]
    },
    {
     "name": "stdout",
     "output_type": "stream",
     "text": [
      "MoviePy - Done.\n",
      "Moviepy - Building video /home/tamires/projects/rpp-aevans-ab/tamires/data/derived/barbie_subclips_15/80.4_95.3_fear_clip_images.mp4.\n",
      "Moviepy - Writing video /home/tamires/projects/rpp-aevans-ab/tamires/data/derived/barbie_subclips_15/80.4_95.3_fear_clip_images.mp4\n",
      "\n"
     ]
    },
    {
     "name": "stderr",
     "output_type": "stream",
     "text": [
      "                                                                                                                                                         \r"
     ]
    },
    {
     "name": "stdout",
     "output_type": "stream",
     "text": [
      "Moviepy - Done !\n",
      "Moviepy - video ready /home/tamires/projects/rpp-aevans-ab/tamires/data/derived/barbie_subclips_15/80.4_95.3_fear_clip_images.mp4\n",
      "MoviePy - Writing audio in /home/tamires/projects/rpp-aevans-ab/tamires/data/derived/barbie_subclips_15/80.4_95.3_fear_clip_audio.mp3\n"
     ]
    },
    {
     "name": "stderr",
     "output_type": "stream",
     "text": [
      "                                                                                                                                                         \r"
     ]
    },
    {
     "name": "stdout",
     "output_type": "stream",
     "text": [
      "MoviePy - Done.\n",
      "Moviepy - Building video /home/tamires/projects/rpp-aevans-ab/tamires/data/derived/barbie_subclips_15/80.5_95.4_fear_clip_images.mp4.\n",
      "Moviepy - Writing video /home/tamires/projects/rpp-aevans-ab/tamires/data/derived/barbie_subclips_15/80.5_95.4_fear_clip_images.mp4\n",
      "\n"
     ]
    },
    {
     "name": "stderr",
     "output_type": "stream",
     "text": [
      "                                                                                                                                                         \r"
     ]
    },
    {
     "name": "stdout",
     "output_type": "stream",
     "text": [
      "Moviepy - Done !\n",
      "Moviepy - video ready /home/tamires/projects/rpp-aevans-ab/tamires/data/derived/barbie_subclips_15/80.5_95.4_fear_clip_images.mp4\n",
      "MoviePy - Writing audio in /home/tamires/projects/rpp-aevans-ab/tamires/data/derived/barbie_subclips_15/80.5_95.4_fear_clip_audio.mp3\n"
     ]
    },
    {
     "name": "stderr",
     "output_type": "stream",
     "text": [
      "                                                                                                                                                         \r"
     ]
    },
    {
     "name": "stdout",
     "output_type": "stream",
     "text": [
      "MoviePy - Done.\n",
      "Moviepy - Building video /home/tamires/projects/rpp-aevans-ab/tamires/data/derived/barbie_subclips_15/80.6_95.5_fear_clip_images.mp4.\n",
      "Moviepy - Writing video /home/tamires/projects/rpp-aevans-ab/tamires/data/derived/barbie_subclips_15/80.6_95.5_fear_clip_images.mp4\n",
      "\n"
     ]
    },
    {
     "name": "stderr",
     "output_type": "stream",
     "text": [
      "                                                                                                                                                         \r"
     ]
    },
    {
     "name": "stdout",
     "output_type": "stream",
     "text": [
      "Moviepy - Done !\n",
      "Moviepy - video ready /home/tamires/projects/rpp-aevans-ab/tamires/data/derived/barbie_subclips_15/80.6_95.5_fear_clip_images.mp4\n",
      "MoviePy - Writing audio in /home/tamires/projects/rpp-aevans-ab/tamires/data/derived/barbie_subclips_15/80.6_95.5_fear_clip_audio.mp3\n"
     ]
    },
    {
     "name": "stderr",
     "output_type": "stream",
     "text": [
      "                                                                                                                                                         \r"
     ]
    },
    {
     "name": "stdout",
     "output_type": "stream",
     "text": [
      "MoviePy - Done.\n",
      "Moviepy - Building video /home/tamires/projects/rpp-aevans-ab/tamires/data/derived/barbie_subclips_15/80.7_95.6_fear_clip_images.mp4.\n",
      "Moviepy - Writing video /home/tamires/projects/rpp-aevans-ab/tamires/data/derived/barbie_subclips_15/80.7_95.6_fear_clip_images.mp4\n",
      "\n"
     ]
    },
    {
     "name": "stderr",
     "output_type": "stream",
     "text": [
      "                                                                                                                                                         \r"
     ]
    },
    {
     "name": "stdout",
     "output_type": "stream",
     "text": [
      "Moviepy - Done !\n",
      "Moviepy - video ready /home/tamires/projects/rpp-aevans-ab/tamires/data/derived/barbie_subclips_15/80.7_95.6_fear_clip_images.mp4\n",
      "MoviePy - Writing audio in /home/tamires/projects/rpp-aevans-ab/tamires/data/derived/barbie_subclips_15/80.7_95.6_fear_clip_audio.mp3\n"
     ]
    },
    {
     "name": "stderr",
     "output_type": "stream",
     "text": [
      "                                                                                                                                                         \r"
     ]
    },
    {
     "name": "stdout",
     "output_type": "stream",
     "text": [
      "MoviePy - Done.\n",
      "Moviepy - Building video /home/tamires/projects/rpp-aevans-ab/tamires/data/derived/barbie_subclips_15/80.8_95.7_fear_clip_images.mp4.\n",
      "Moviepy - Writing video /home/tamires/projects/rpp-aevans-ab/tamires/data/derived/barbie_subclips_15/80.8_95.7_fear_clip_images.mp4\n",
      "\n"
     ]
    },
    {
     "name": "stderr",
     "output_type": "stream",
     "text": [
      "                                                                                                                                                         \r"
     ]
    },
    {
     "name": "stdout",
     "output_type": "stream",
     "text": [
      "Moviepy - Done !\n",
      "Moviepy - video ready /home/tamires/projects/rpp-aevans-ab/tamires/data/derived/barbie_subclips_15/80.8_95.7_fear_clip_images.mp4\n",
      "MoviePy - Writing audio in /home/tamires/projects/rpp-aevans-ab/tamires/data/derived/barbie_subclips_15/80.8_95.7_fear_clip_audio.mp3\n"
     ]
    },
    {
     "name": "stderr",
     "output_type": "stream",
     "text": [
      "                                                                                                                                                         \r"
     ]
    },
    {
     "name": "stdout",
     "output_type": "stream",
     "text": [
      "MoviePy - Done.\n",
      "Moviepy - Building video /home/tamires/projects/rpp-aevans-ab/tamires/data/derived/barbie_subclips_15/80.9_95.8_fear_clip_images.mp4.\n",
      "Moviepy - Writing video /home/tamires/projects/rpp-aevans-ab/tamires/data/derived/barbie_subclips_15/80.9_95.8_fear_clip_images.mp4\n",
      "\n"
     ]
    },
    {
     "name": "stderr",
     "output_type": "stream",
     "text": [
      "                                                                                                                                                         \r"
     ]
    },
    {
     "name": "stdout",
     "output_type": "stream",
     "text": [
      "Moviepy - Done !\n",
      "Moviepy - video ready /home/tamires/projects/rpp-aevans-ab/tamires/data/derived/barbie_subclips_15/80.9_95.8_fear_clip_images.mp4\n",
      "MoviePy - Writing audio in /home/tamires/projects/rpp-aevans-ab/tamires/data/derived/barbie_subclips_15/80.9_95.8_fear_clip_audio.mp3\n"
     ]
    },
    {
     "name": "stderr",
     "output_type": "stream",
     "text": [
      "                                                                                                                                                         \r"
     ]
    },
    {
     "name": "stdout",
     "output_type": "stream",
     "text": [
      "MoviePy - Done.\n",
      "Moviepy - Building video /home/tamires/projects/rpp-aevans-ab/tamires/data/derived/barbie_subclips_15/81.4_96.3_sad_clip_images.mp4.\n",
      "Moviepy - Writing video /home/tamires/projects/rpp-aevans-ab/tamires/data/derived/barbie_subclips_15/81.4_96.3_sad_clip_images.mp4\n",
      "\n"
     ]
    },
    {
     "name": "stderr",
     "output_type": "stream",
     "text": [
      "                                                                                                                                                         \r"
     ]
    },
    {
     "name": "stdout",
     "output_type": "stream",
     "text": [
      "Moviepy - Done !\n",
      "Moviepy - video ready /home/tamires/projects/rpp-aevans-ab/tamires/data/derived/barbie_subclips_15/81.4_96.3_sad_clip_images.mp4\n",
      "MoviePy - Writing audio in /home/tamires/projects/rpp-aevans-ab/tamires/data/derived/barbie_subclips_15/81.4_96.3_sad_clip_audio.mp3\n"
     ]
    },
    {
     "name": "stderr",
     "output_type": "stream",
     "text": [
      "                                                                                                                                                         \r"
     ]
    },
    {
     "name": "stdout",
     "output_type": "stream",
     "text": [
      "MoviePy - Done.\n",
      "Moviepy - Building video /home/tamires/projects/rpp-aevans-ab/tamires/data/derived/barbie_subclips_15/81.5_96.4_sad_clip_images.mp4.\n",
      "Moviepy - Writing video /home/tamires/projects/rpp-aevans-ab/tamires/data/derived/barbie_subclips_15/81.5_96.4_sad_clip_images.mp4\n",
      "\n"
     ]
    },
    {
     "name": "stderr",
     "output_type": "stream",
     "text": [
      "                                                                                                                                                         \r"
     ]
    },
    {
     "name": "stdout",
     "output_type": "stream",
     "text": [
      "Moviepy - Done !\n",
      "Moviepy - video ready /home/tamires/projects/rpp-aevans-ab/tamires/data/derived/barbie_subclips_15/81.5_96.4_sad_clip_images.mp4\n",
      "MoviePy - Writing audio in /home/tamires/projects/rpp-aevans-ab/tamires/data/derived/barbie_subclips_15/81.5_96.4_sad_clip_audio.mp3\n"
     ]
    },
    {
     "name": "stderr",
     "output_type": "stream",
     "text": [
      "                                                                                                                                                         \r"
     ]
    },
    {
     "name": "stdout",
     "output_type": "stream",
     "text": [
      "MoviePy - Done.\n",
      "Moviepy - Building video /home/tamires/projects/rpp-aevans-ab/tamires/data/derived/barbie_subclips_15/81.7_96.6_fear_clip_images.mp4.\n",
      "Moviepy - Writing video /home/tamires/projects/rpp-aevans-ab/tamires/data/derived/barbie_subclips_15/81.7_96.6_fear_clip_images.mp4\n",
      "\n"
     ]
    },
    {
     "name": "stderr",
     "output_type": "stream",
     "text": [
      "                                                                                                                                                         \r"
     ]
    },
    {
     "name": "stdout",
     "output_type": "stream",
     "text": [
      "Moviepy - Done !\n",
      "Moviepy - video ready /home/tamires/projects/rpp-aevans-ab/tamires/data/derived/barbie_subclips_15/81.7_96.6_fear_clip_images.mp4\n",
      "MoviePy - Writing audio in /home/tamires/projects/rpp-aevans-ab/tamires/data/derived/barbie_subclips_15/81.7_96.6_fear_clip_audio.mp3\n"
     ]
    },
    {
     "name": "stderr",
     "output_type": "stream",
     "text": [
      "                                                                                                                                                         \r"
     ]
    },
    {
     "name": "stdout",
     "output_type": "stream",
     "text": [
      "MoviePy - Done.\n",
      "Moviepy - Building video /home/tamires/projects/rpp-aevans-ab/tamires/data/derived/barbie_subclips_15/81.9_96.8_sad_clip_images.mp4.\n",
      "Moviepy - Writing video /home/tamires/projects/rpp-aevans-ab/tamires/data/derived/barbie_subclips_15/81.9_96.8_sad_clip_images.mp4\n",
      "\n"
     ]
    },
    {
     "name": "stderr",
     "output_type": "stream",
     "text": [
      "                                                                                                                                                         \r"
     ]
    },
    {
     "name": "stdout",
     "output_type": "stream",
     "text": [
      "Moviepy - Done !\n",
      "Moviepy - video ready /home/tamires/projects/rpp-aevans-ab/tamires/data/derived/barbie_subclips_15/81.9_96.8_sad_clip_images.mp4\n",
      "MoviePy - Writing audio in /home/tamires/projects/rpp-aevans-ab/tamires/data/derived/barbie_subclips_15/81.9_96.8_sad_clip_audio.mp3\n"
     ]
    },
    {
     "name": "stderr",
     "output_type": "stream",
     "text": [
      "                                                                                                                                                         \r"
     ]
    },
    {
     "name": "stdout",
     "output_type": "stream",
     "text": [
      "MoviePy - Done.\n",
      "Moviepy - Building video /home/tamires/projects/rpp-aevans-ab/tamires/data/derived/barbie_subclips_15/82.0_96.9_sad_clip_images.mp4.\n",
      "Moviepy - Writing video /home/tamires/projects/rpp-aevans-ab/tamires/data/derived/barbie_subclips_15/82.0_96.9_sad_clip_images.mp4\n",
      "\n"
     ]
    },
    {
     "name": "stderr",
     "output_type": "stream",
     "text": [
      "                                                                                                                                                         \r"
     ]
    },
    {
     "name": "stdout",
     "output_type": "stream",
     "text": [
      "Moviepy - Done !\n",
      "Moviepy - video ready /home/tamires/projects/rpp-aevans-ab/tamires/data/derived/barbie_subclips_15/82.0_96.9_sad_clip_images.mp4\n",
      "MoviePy - Writing audio in /home/tamires/projects/rpp-aevans-ab/tamires/data/derived/barbie_subclips_15/82.0_96.9_sad_clip_audio.mp3\n"
     ]
    },
    {
     "name": "stderr",
     "output_type": "stream",
     "text": [
      "                                                                                                                                                         \r"
     ]
    },
    {
     "name": "stdout",
     "output_type": "stream",
     "text": [
      "MoviePy - Done.\n",
      "Moviepy - Building video /home/tamires/projects/rpp-aevans-ab/tamires/data/derived/barbie_subclips_15/82.2_97.1_fear_clip_images.mp4.\n",
      "Moviepy - Writing video /home/tamires/projects/rpp-aevans-ab/tamires/data/derived/barbie_subclips_15/82.2_97.1_fear_clip_images.mp4\n",
      "\n"
     ]
    },
    {
     "name": "stderr",
     "output_type": "stream",
     "text": [
      "                                                                                                                                                         \r"
     ]
    },
    {
     "name": "stdout",
     "output_type": "stream",
     "text": [
      "Moviepy - Done !\n",
      "Moviepy - video ready /home/tamires/projects/rpp-aevans-ab/tamires/data/derived/barbie_subclips_15/82.2_97.1_fear_clip_images.mp4\n",
      "MoviePy - Writing audio in /home/tamires/projects/rpp-aevans-ab/tamires/data/derived/barbie_subclips_15/82.2_97.1_fear_clip_audio.mp3\n"
     ]
    },
    {
     "name": "stderr",
     "output_type": "stream",
     "text": [
      "                                                                                                                                                         \r"
     ]
    },
    {
     "name": "stdout",
     "output_type": "stream",
     "text": [
      "MoviePy - Done.\n",
      "Moviepy - Building video /home/tamires/projects/rpp-aevans-ab/tamires/data/derived/barbie_subclips_15/82.4_97.3_fear_clip_images.mp4.\n",
      "Moviepy - Writing video /home/tamires/projects/rpp-aevans-ab/tamires/data/derived/barbie_subclips_15/82.4_97.3_fear_clip_images.mp4\n",
      "\n"
     ]
    },
    {
     "name": "stderr",
     "output_type": "stream",
     "text": [
      "                                                                                                                                                         \r"
     ]
    },
    {
     "name": "stdout",
     "output_type": "stream",
     "text": [
      "Moviepy - Done !\n",
      "Moviepy - video ready /home/tamires/projects/rpp-aevans-ab/tamires/data/derived/barbie_subclips_15/82.4_97.3_fear_clip_images.mp4\n",
      "MoviePy - Writing audio in /home/tamires/projects/rpp-aevans-ab/tamires/data/derived/barbie_subclips_15/82.4_97.3_fear_clip_audio.mp3\n"
     ]
    },
    {
     "name": "stderr",
     "output_type": "stream",
     "text": [
      "                                                                                                                                                         \r"
     ]
    },
    {
     "name": "stdout",
     "output_type": "stream",
     "text": [
      "MoviePy - Done.\n",
      "Moviepy - Building video /home/tamires/projects/rpp-aevans-ab/tamires/data/derived/barbie_subclips_15/82.7_97.6_fear_clip_images.mp4.\n",
      "Moviepy - Writing video /home/tamires/projects/rpp-aevans-ab/tamires/data/derived/barbie_subclips_15/82.7_97.6_fear_clip_images.mp4\n",
      "\n"
     ]
    },
    {
     "name": "stderr",
     "output_type": "stream",
     "text": [
      "                                                                                                                                                         \r"
     ]
    },
    {
     "name": "stdout",
     "output_type": "stream",
     "text": [
      "Moviepy - Done !\n",
      "Moviepy - video ready /home/tamires/projects/rpp-aevans-ab/tamires/data/derived/barbie_subclips_15/82.7_97.6_fear_clip_images.mp4\n",
      "MoviePy - Writing audio in /home/tamires/projects/rpp-aevans-ab/tamires/data/derived/barbie_subclips_15/82.7_97.6_fear_clip_audio.mp3\n"
     ]
    },
    {
     "name": "stderr",
     "output_type": "stream",
     "text": [
      "                                                                                                                                                         \r"
     ]
    },
    {
     "name": "stdout",
     "output_type": "stream",
     "text": [
      "MoviePy - Done.\n",
      "Moviepy - Building video /home/tamires/projects/rpp-aevans-ab/tamires/data/derived/barbie_subclips_15/83.0_97.9_sad_clip_images.mp4.\n",
      "Moviepy - Writing video /home/tamires/projects/rpp-aevans-ab/tamires/data/derived/barbie_subclips_15/83.0_97.9_sad_clip_images.mp4\n",
      "\n"
     ]
    },
    {
     "name": "stderr",
     "output_type": "stream",
     "text": [
      "                                                                                                                                                         \r"
     ]
    },
    {
     "name": "stdout",
     "output_type": "stream",
     "text": [
      "Moviepy - Done !\n",
      "Moviepy - video ready /home/tamires/projects/rpp-aevans-ab/tamires/data/derived/barbie_subclips_15/83.0_97.9_sad_clip_images.mp4\n",
      "MoviePy - Writing audio in /home/tamires/projects/rpp-aevans-ab/tamires/data/derived/barbie_subclips_15/83.0_97.9_sad_clip_audio.mp3\n"
     ]
    },
    {
     "name": "stderr",
     "output_type": "stream",
     "text": [
      "                                                                                                                                                         \r"
     ]
    },
    {
     "name": "stdout",
     "output_type": "stream",
     "text": [
      "MoviePy - Done.\n",
      "Moviepy - Building video /home/tamires/projects/rpp-aevans-ab/tamires/data/derived/barbie_subclips_15/83.1_98.0_sad_clip_images.mp4.\n",
      "Moviepy - Writing video /home/tamires/projects/rpp-aevans-ab/tamires/data/derived/barbie_subclips_15/83.1_98.0_sad_clip_images.mp4\n",
      "\n"
     ]
    },
    {
     "name": "stderr",
     "output_type": "stream",
     "text": [
      "                                                                                                                                                         \r"
     ]
    },
    {
     "name": "stdout",
     "output_type": "stream",
     "text": [
      "Moviepy - Done !\n",
      "Moviepy - video ready /home/tamires/projects/rpp-aevans-ab/tamires/data/derived/barbie_subclips_15/83.1_98.0_sad_clip_images.mp4\n",
      "MoviePy - Writing audio in /home/tamires/projects/rpp-aevans-ab/tamires/data/derived/barbie_subclips_15/83.1_98.0_sad_clip_audio.mp3\n"
     ]
    },
    {
     "name": "stderr",
     "output_type": "stream",
     "text": [
      "                                                                                                                                                         \r"
     ]
    },
    {
     "name": "stdout",
     "output_type": "stream",
     "text": [
      "MoviePy - Done.\n",
      "Moviepy - Building video /home/tamires/projects/rpp-aevans-ab/tamires/data/derived/barbie_subclips_15/83.2_98.1_sad_clip_images.mp4.\n",
      "Moviepy - Writing video /home/tamires/projects/rpp-aevans-ab/tamires/data/derived/barbie_subclips_15/83.2_98.1_sad_clip_images.mp4\n",
      "\n"
     ]
    },
    {
     "name": "stderr",
     "output_type": "stream",
     "text": [
      "                                                                                                                                                         \r"
     ]
    },
    {
     "name": "stdout",
     "output_type": "stream",
     "text": [
      "Moviepy - Done !\n",
      "Moviepy - video ready /home/tamires/projects/rpp-aevans-ab/tamires/data/derived/barbie_subclips_15/83.2_98.1_sad_clip_images.mp4\n",
      "MoviePy - Writing audio in /home/tamires/projects/rpp-aevans-ab/tamires/data/derived/barbie_subclips_15/83.2_98.1_sad_clip_audio.mp3\n"
     ]
    },
    {
     "name": "stderr",
     "output_type": "stream",
     "text": [
      "                                                                                                                                                         \r"
     ]
    },
    {
     "name": "stdout",
     "output_type": "stream",
     "text": [
      "MoviePy - Done.\n",
      "Moviepy - Building video /home/tamires/projects/rpp-aevans-ab/tamires/data/derived/barbie_subclips_15/83.4_98.3_sad_clip_images.mp4.\n",
      "Moviepy - Writing video /home/tamires/projects/rpp-aevans-ab/tamires/data/derived/barbie_subclips_15/83.4_98.3_sad_clip_images.mp4\n",
      "\n"
     ]
    },
    {
     "name": "stderr",
     "output_type": "stream",
     "text": [
      "                                                                                                                                                         \r"
     ]
    },
    {
     "name": "stdout",
     "output_type": "stream",
     "text": [
      "Moviepy - Done !\n",
      "Moviepy - video ready /home/tamires/projects/rpp-aevans-ab/tamires/data/derived/barbie_subclips_15/83.4_98.3_sad_clip_images.mp4\n",
      "MoviePy - Writing audio in /home/tamires/projects/rpp-aevans-ab/tamires/data/derived/barbie_subclips_15/83.4_98.3_sad_clip_audio.mp3\n"
     ]
    },
    {
     "name": "stderr",
     "output_type": "stream",
     "text": [
      "                                                                                                                                                         \r"
     ]
    },
    {
     "name": "stdout",
     "output_type": "stream",
     "text": [
      "MoviePy - Done.\n",
      "Moviepy - Building video /home/tamires/projects/rpp-aevans-ab/tamires/data/derived/barbie_subclips_15/83.5_98.4_happy_clip_images.mp4.\n",
      "Moviepy - Writing video /home/tamires/projects/rpp-aevans-ab/tamires/data/derived/barbie_subclips_15/83.5_98.4_happy_clip_images.mp4\n",
      "\n"
     ]
    },
    {
     "name": "stderr",
     "output_type": "stream",
     "text": [
      "                                                                                                                                                         \r"
     ]
    },
    {
     "name": "stdout",
     "output_type": "stream",
     "text": [
      "Moviepy - Done !\n",
      "Moviepy - video ready /home/tamires/projects/rpp-aevans-ab/tamires/data/derived/barbie_subclips_15/83.5_98.4_happy_clip_images.mp4\n",
      "MoviePy - Writing audio in /home/tamires/projects/rpp-aevans-ab/tamires/data/derived/barbie_subclips_15/83.5_98.4_happy_clip_audio.mp3\n"
     ]
    },
    {
     "name": "stderr",
     "output_type": "stream",
     "text": [
      "                                                                                                                                                         \r"
     ]
    },
    {
     "name": "stdout",
     "output_type": "stream",
     "text": [
      "MoviePy - Done.\n",
      "Moviepy - Building video /home/tamires/projects/rpp-aevans-ab/tamires/data/derived/barbie_subclips_15/83.6_98.5_happy_clip_images.mp4.\n",
      "Moviepy - Writing video /home/tamires/projects/rpp-aevans-ab/tamires/data/derived/barbie_subclips_15/83.6_98.5_happy_clip_images.mp4\n",
      "\n"
     ]
    },
    {
     "name": "stderr",
     "output_type": "stream",
     "text": [
      "                                                                                                                                                         \r"
     ]
    },
    {
     "name": "stdout",
     "output_type": "stream",
     "text": [
      "Moviepy - Done !\n",
      "Moviepy - video ready /home/tamires/projects/rpp-aevans-ab/tamires/data/derived/barbie_subclips_15/83.6_98.5_happy_clip_images.mp4\n",
      "MoviePy - Writing audio in /home/tamires/projects/rpp-aevans-ab/tamires/data/derived/barbie_subclips_15/83.6_98.5_happy_clip_audio.mp3\n"
     ]
    },
    {
     "name": "stderr",
     "output_type": "stream",
     "text": [
      "                                                                                                                                                         \r"
     ]
    },
    {
     "name": "stdout",
     "output_type": "stream",
     "text": [
      "MoviePy - Done.\n",
      "Moviepy - Building video /home/tamires/projects/rpp-aevans-ab/tamires/data/derived/barbie_subclips_15/83.7_98.6_happy_clip_images.mp4.\n",
      "Moviepy - Writing video /home/tamires/projects/rpp-aevans-ab/tamires/data/derived/barbie_subclips_15/83.7_98.6_happy_clip_images.mp4\n",
      "\n"
     ]
    },
    {
     "name": "stderr",
     "output_type": "stream",
     "text": [
      "                                                                                                                                                         \r"
     ]
    },
    {
     "name": "stdout",
     "output_type": "stream",
     "text": [
      "Moviepy - Done !\n",
      "Moviepy - video ready /home/tamires/projects/rpp-aevans-ab/tamires/data/derived/barbie_subclips_15/83.7_98.6_happy_clip_images.mp4\n",
      "MoviePy - Writing audio in /home/tamires/projects/rpp-aevans-ab/tamires/data/derived/barbie_subclips_15/83.7_98.6_happy_clip_audio.mp3\n"
     ]
    },
    {
     "name": "stderr",
     "output_type": "stream",
     "text": [
      "                                                                                                                                                         \r"
     ]
    },
    {
     "name": "stdout",
     "output_type": "stream",
     "text": [
      "MoviePy - Done.\n",
      "Moviepy - Building video /home/tamires/projects/rpp-aevans-ab/tamires/data/derived/barbie_subclips_15/83.9_98.8_happy_clip_images.mp4.\n",
      "Moviepy - Writing video /home/tamires/projects/rpp-aevans-ab/tamires/data/derived/barbie_subclips_15/83.9_98.8_happy_clip_images.mp4\n",
      "\n"
     ]
    },
    {
     "name": "stderr",
     "output_type": "stream",
     "text": [
      "                                                                                                                                                         \r"
     ]
    },
    {
     "name": "stdout",
     "output_type": "stream",
     "text": [
      "Moviepy - Done !\n",
      "Moviepy - video ready /home/tamires/projects/rpp-aevans-ab/tamires/data/derived/barbie_subclips_15/83.9_98.8_happy_clip_images.mp4\n",
      "MoviePy - Writing audio in /home/tamires/projects/rpp-aevans-ab/tamires/data/derived/barbie_subclips_15/83.9_98.8_happy_clip_audio.mp3\n"
     ]
    },
    {
     "name": "stderr",
     "output_type": "stream",
     "text": [
      "                                                                                                                                                         \r"
     ]
    },
    {
     "name": "stdout",
     "output_type": "stream",
     "text": [
      "MoviePy - Done.\n",
      "Moviepy - Building video /home/tamires/projects/rpp-aevans-ab/tamires/data/derived/barbie_subclips_15/84.0_98.9_happy_clip_images.mp4.\n",
      "Moviepy - Writing video /home/tamires/projects/rpp-aevans-ab/tamires/data/derived/barbie_subclips_15/84.0_98.9_happy_clip_images.mp4\n",
      "\n"
     ]
    },
    {
     "name": "stderr",
     "output_type": "stream",
     "text": [
      "                                                                                                                                                         \r"
     ]
    },
    {
     "name": "stdout",
     "output_type": "stream",
     "text": [
      "Moviepy - Done !\n",
      "Moviepy - video ready /home/tamires/projects/rpp-aevans-ab/tamires/data/derived/barbie_subclips_15/84.0_98.9_happy_clip_images.mp4\n",
      "MoviePy - Writing audio in /home/tamires/projects/rpp-aevans-ab/tamires/data/derived/barbie_subclips_15/84.0_98.9_happy_clip_audio.mp3\n"
     ]
    },
    {
     "name": "stderr",
     "output_type": "stream",
     "text": [
      "                                                                                                                                                         \r"
     ]
    },
    {
     "name": "stdout",
     "output_type": "stream",
     "text": [
      "MoviePy - Done.\n",
      "Moviepy - Building video /home/tamires/projects/rpp-aevans-ab/tamires/data/derived/barbie_subclips_15/84.2_99.1_happy_clip_images.mp4.\n",
      "Moviepy - Writing video /home/tamires/projects/rpp-aevans-ab/tamires/data/derived/barbie_subclips_15/84.2_99.1_happy_clip_images.mp4\n",
      "\n"
     ]
    },
    {
     "name": "stderr",
     "output_type": "stream",
     "text": [
      "                                                                                                                                                         \r"
     ]
    },
    {
     "name": "stdout",
     "output_type": "stream",
     "text": [
      "Moviepy - Done !\n",
      "Moviepy - video ready /home/tamires/projects/rpp-aevans-ab/tamires/data/derived/barbie_subclips_15/84.2_99.1_happy_clip_images.mp4\n",
      "MoviePy - Writing audio in /home/tamires/projects/rpp-aevans-ab/tamires/data/derived/barbie_subclips_15/84.2_99.1_happy_clip_audio.mp3\n"
     ]
    },
    {
     "name": "stderr",
     "output_type": "stream",
     "text": [
      "                                                                                                                                                         \r"
     ]
    },
    {
     "name": "stdout",
     "output_type": "stream",
     "text": [
      "MoviePy - Done.\n",
      "Moviepy - Building video /home/tamires/projects/rpp-aevans-ab/tamires/data/derived/barbie_subclips_15/85.0_99.9_happy_clip_images.mp4.\n",
      "Moviepy - Writing video /home/tamires/projects/rpp-aevans-ab/tamires/data/derived/barbie_subclips_15/85.0_99.9_happy_clip_images.mp4\n",
      "\n"
     ]
    },
    {
     "name": "stderr",
     "output_type": "stream",
     "text": [
      "                                                                                                                                                         \r"
     ]
    },
    {
     "name": "stdout",
     "output_type": "stream",
     "text": [
      "Moviepy - Done !\n",
      "Moviepy - video ready /home/tamires/projects/rpp-aevans-ab/tamires/data/derived/barbie_subclips_15/85.0_99.9_happy_clip_images.mp4\n",
      "MoviePy - Writing audio in /home/tamires/projects/rpp-aevans-ab/tamires/data/derived/barbie_subclips_15/85.0_99.9_happy_clip_audio.mp3\n"
     ]
    },
    {
     "name": "stderr",
     "output_type": "stream",
     "text": [
      "                                                                                                                                                         \r"
     ]
    },
    {
     "name": "stdout",
     "output_type": "stream",
     "text": [
      "MoviePy - Done.\n",
      "Moviepy - Building video /home/tamires/projects/rpp-aevans-ab/tamires/data/derived/barbie_subclips_15/85.2_100.1_fear_clip_images.mp4.\n",
      "Moviepy - Writing video /home/tamires/projects/rpp-aevans-ab/tamires/data/derived/barbie_subclips_15/85.2_100.1_fear_clip_images.mp4\n",
      "\n"
     ]
    },
    {
     "name": "stderr",
     "output_type": "stream",
     "text": [
      "                                                                                                                                                         \r"
     ]
    },
    {
     "name": "stdout",
     "output_type": "stream",
     "text": [
      "Moviepy - Done !\n",
      "Moviepy - video ready /home/tamires/projects/rpp-aevans-ab/tamires/data/derived/barbie_subclips_15/85.2_100.1_fear_clip_images.mp4\n",
      "MoviePy - Writing audio in /home/tamires/projects/rpp-aevans-ab/tamires/data/derived/barbie_subclips_15/85.2_100.1_fear_clip_audio.mp3\n"
     ]
    },
    {
     "name": "stderr",
     "output_type": "stream",
     "text": [
      "                                                                                                                                                         \r"
     ]
    },
    {
     "name": "stdout",
     "output_type": "stream",
     "text": [
      "MoviePy - Done.\n",
      "Moviepy - Building video /home/tamires/projects/rpp-aevans-ab/tamires/data/derived/barbie_subclips_15/85.8_100.7_happy_clip_images.mp4.\n",
      "Moviepy - Writing video /home/tamires/projects/rpp-aevans-ab/tamires/data/derived/barbie_subclips_15/85.8_100.7_happy_clip_images.mp4\n",
      "\n"
     ]
    },
    {
     "name": "stderr",
     "output_type": "stream",
     "text": [
      "                                                                                                                                                         \r"
     ]
    },
    {
     "name": "stdout",
     "output_type": "stream",
     "text": [
      "Moviepy - Done !\n",
      "Moviepy - video ready /home/tamires/projects/rpp-aevans-ab/tamires/data/derived/barbie_subclips_15/85.8_100.7_happy_clip_images.mp4\n",
      "MoviePy - Writing audio in /home/tamires/projects/rpp-aevans-ab/tamires/data/derived/barbie_subclips_15/85.8_100.7_happy_clip_audio.mp3\n"
     ]
    },
    {
     "name": "stderr",
     "output_type": "stream",
     "text": [
      "                                                                                                                                                         \r"
     ]
    },
    {
     "name": "stdout",
     "output_type": "stream",
     "text": [
      "MoviePy - Done.\n",
      "Moviepy - Building video /home/tamires/projects/rpp-aevans-ab/tamires/data/derived/barbie_subclips_15/85.9_100.8_happy_clip_images.mp4.\n",
      "Moviepy - Writing video /home/tamires/projects/rpp-aevans-ab/tamires/data/derived/barbie_subclips_15/85.9_100.8_happy_clip_images.mp4\n",
      "\n"
     ]
    },
    {
     "name": "stderr",
     "output_type": "stream",
     "text": [
      "                                                                                                                                                         \r"
     ]
    },
    {
     "name": "stdout",
     "output_type": "stream",
     "text": [
      "Moviepy - Done !\n",
      "Moviepy - video ready /home/tamires/projects/rpp-aevans-ab/tamires/data/derived/barbie_subclips_15/85.9_100.8_happy_clip_images.mp4\n",
      "MoviePy - Writing audio in /home/tamires/projects/rpp-aevans-ab/tamires/data/derived/barbie_subclips_15/85.9_100.8_happy_clip_audio.mp3\n"
     ]
    },
    {
     "name": "stderr",
     "output_type": "stream",
     "text": [
      "                                                                                                                                                         \r"
     ]
    },
    {
     "name": "stdout",
     "output_type": "stream",
     "text": [
      "MoviePy - Done.\n",
      "Moviepy - Building video /home/tamires/projects/rpp-aevans-ab/tamires/data/derived/barbie_subclips_15/86.1_101.0_happy_clip_images.mp4.\n",
      "Moviepy - Writing video /home/tamires/projects/rpp-aevans-ab/tamires/data/derived/barbie_subclips_15/86.1_101.0_happy_clip_images.mp4\n",
      "\n"
     ]
    },
    {
     "name": "stderr",
     "output_type": "stream",
     "text": [
      "                                                                                                                                                         \r"
     ]
    },
    {
     "name": "stdout",
     "output_type": "stream",
     "text": [
      "Moviepy - Done !\n",
      "Moviepy - video ready /home/tamires/projects/rpp-aevans-ab/tamires/data/derived/barbie_subclips_15/86.1_101.0_happy_clip_images.mp4\n",
      "MoviePy - Writing audio in /home/tamires/projects/rpp-aevans-ab/tamires/data/derived/barbie_subclips_15/86.1_101.0_happy_clip_audio.mp3\n"
     ]
    },
    {
     "name": "stderr",
     "output_type": "stream",
     "text": [
      "                                                                                                                                                         \r"
     ]
    },
    {
     "name": "stdout",
     "output_type": "stream",
     "text": [
      "MoviePy - Done.\n",
      "Moviepy - Building video /home/tamires/projects/rpp-aevans-ab/tamires/data/derived/barbie_subclips_15/86.3_101.2_happy_clip_images.mp4.\n",
      "Moviepy - Writing video /home/tamires/projects/rpp-aevans-ab/tamires/data/derived/barbie_subclips_15/86.3_101.2_happy_clip_images.mp4\n",
      "\n"
     ]
    },
    {
     "name": "stderr",
     "output_type": "stream",
     "text": [
      "                                                                                                                                                         \r"
     ]
    },
    {
     "name": "stdout",
     "output_type": "stream",
     "text": [
      "Moviepy - Done !\n",
      "Moviepy - video ready /home/tamires/projects/rpp-aevans-ab/tamires/data/derived/barbie_subclips_15/86.3_101.2_happy_clip_images.mp4\n",
      "MoviePy - Writing audio in /home/tamires/projects/rpp-aevans-ab/tamires/data/derived/barbie_subclips_15/86.3_101.2_happy_clip_audio.mp3\n"
     ]
    },
    {
     "name": "stderr",
     "output_type": "stream",
     "text": [
      "                                                                                                                                                         \r"
     ]
    },
    {
     "name": "stdout",
     "output_type": "stream",
     "text": [
      "MoviePy - Done.\n",
      "Moviepy - Building video /home/tamires/projects/rpp-aevans-ab/tamires/data/derived/barbie_subclips_15/88.8_103.7_neutral_clip_images.mp4.\n",
      "Moviepy - Writing video /home/tamires/projects/rpp-aevans-ab/tamires/data/derived/barbie_subclips_15/88.8_103.7_neutral_clip_images.mp4\n",
      "\n"
     ]
    },
    {
     "name": "stderr",
     "output_type": "stream",
     "text": [
      "                                                                                                                                                         \r"
     ]
    },
    {
     "name": "stdout",
     "output_type": "stream",
     "text": [
      "Moviepy - Done !\n",
      "Moviepy - video ready /home/tamires/projects/rpp-aevans-ab/tamires/data/derived/barbie_subclips_15/88.8_103.7_neutral_clip_images.mp4\n",
      "MoviePy - Writing audio in /home/tamires/projects/rpp-aevans-ab/tamires/data/derived/barbie_subclips_15/88.8_103.7_neutral_clip_audio.mp3\n"
     ]
    },
    {
     "name": "stderr",
     "output_type": "stream",
     "text": [
      "                                                                                                                                                         \r"
     ]
    },
    {
     "name": "stdout",
     "output_type": "stream",
     "text": [
      "MoviePy - Done.\n",
      "Moviepy - Building video /home/tamires/projects/rpp-aevans-ab/tamires/data/derived/barbie_subclips_15/89.0_103.9_angry_clip_images.mp4.\n",
      "Moviepy - Writing video /home/tamires/projects/rpp-aevans-ab/tamires/data/derived/barbie_subclips_15/89.0_103.9_angry_clip_images.mp4\n",
      "\n"
     ]
    },
    {
     "name": "stderr",
     "output_type": "stream",
     "text": [
      "                                                                                                                                                         \r"
     ]
    },
    {
     "name": "stdout",
     "output_type": "stream",
     "text": [
      "Moviepy - Done !\n",
      "Moviepy - video ready /home/tamires/projects/rpp-aevans-ab/tamires/data/derived/barbie_subclips_15/89.0_103.9_angry_clip_images.mp4\n",
      "MoviePy - Writing audio in /home/tamires/projects/rpp-aevans-ab/tamires/data/derived/barbie_subclips_15/89.0_103.9_angry_clip_audio.mp3\n"
     ]
    },
    {
     "name": "stderr",
     "output_type": "stream",
     "text": [
      "                                                                                                                                                         \r"
     ]
    },
    {
     "name": "stdout",
     "output_type": "stream",
     "text": [
      "MoviePy - Done.\n",
      "Moviepy - Building video /home/tamires/projects/rpp-aevans-ab/tamires/data/derived/barbie_subclips_15/89.1_104.0_angry_clip_images.mp4.\n",
      "Moviepy - Writing video /home/tamires/projects/rpp-aevans-ab/tamires/data/derived/barbie_subclips_15/89.1_104.0_angry_clip_images.mp4\n",
      "\n"
     ]
    },
    {
     "name": "stderr",
     "output_type": "stream",
     "text": [
      "                                                                                                                                                         \r"
     ]
    },
    {
     "name": "stdout",
     "output_type": "stream",
     "text": [
      "Moviepy - Done !\n",
      "Moviepy - video ready /home/tamires/projects/rpp-aevans-ab/tamires/data/derived/barbie_subclips_15/89.1_104.0_angry_clip_images.mp4\n",
      "MoviePy - Writing audio in /home/tamires/projects/rpp-aevans-ab/tamires/data/derived/barbie_subclips_15/89.1_104.0_angry_clip_audio.mp3\n"
     ]
    },
    {
     "name": "stderr",
     "output_type": "stream",
     "text": [
      "                                                                                                                                                         \r"
     ]
    },
    {
     "name": "stdout",
     "output_type": "stream",
     "text": [
      "MoviePy - Done.\n",
      "Moviepy - Building video /home/tamires/projects/rpp-aevans-ab/tamires/data/derived/barbie_subclips_15/89.3_104.2_neutral_clip_images.mp4.\n",
      "Moviepy - Writing video /home/tamires/projects/rpp-aevans-ab/tamires/data/derived/barbie_subclips_15/89.3_104.2_neutral_clip_images.mp4\n",
      "\n"
     ]
    },
    {
     "name": "stderr",
     "output_type": "stream",
     "text": [
      "                                                                                                                                                         \r"
     ]
    },
    {
     "name": "stdout",
     "output_type": "stream",
     "text": [
      "Moviepy - Done !\n",
      "Moviepy - video ready /home/tamires/projects/rpp-aevans-ab/tamires/data/derived/barbie_subclips_15/89.3_104.2_neutral_clip_images.mp4\n",
      "MoviePy - Writing audio in /home/tamires/projects/rpp-aevans-ab/tamires/data/derived/barbie_subclips_15/89.3_104.2_neutral_clip_audio.mp3\n"
     ]
    },
    {
     "name": "stderr",
     "output_type": "stream",
     "text": [
      "                                                                                                                                                         \r"
     ]
    },
    {
     "name": "stdout",
     "output_type": "stream",
     "text": [
      "MoviePy - Done.\n",
      "Moviepy - Building video /home/tamires/projects/rpp-aevans-ab/tamires/data/derived/barbie_subclips_15/89.7_104.6_happy_clip_images.mp4.\n",
      "Moviepy - Writing video /home/tamires/projects/rpp-aevans-ab/tamires/data/derived/barbie_subclips_15/89.7_104.6_happy_clip_images.mp4\n",
      "\n"
     ]
    },
    {
     "name": "stderr",
     "output_type": "stream",
     "text": [
      "                                                                                                                                                         \r"
     ]
    },
    {
     "name": "stdout",
     "output_type": "stream",
     "text": [
      "Moviepy - Done !\n",
      "Moviepy - video ready /home/tamires/projects/rpp-aevans-ab/tamires/data/derived/barbie_subclips_15/89.7_104.6_happy_clip_images.mp4\n",
      "MoviePy - Writing audio in /home/tamires/projects/rpp-aevans-ab/tamires/data/derived/barbie_subclips_15/89.7_104.6_happy_clip_audio.mp3\n"
     ]
    },
    {
     "name": "stderr",
     "output_type": "stream",
     "text": [
      "                                                                                                                                                         \r"
     ]
    },
    {
     "name": "stdout",
     "output_type": "stream",
     "text": [
      "MoviePy - Done.\n",
      "Moviepy - Building video /home/tamires/projects/rpp-aevans-ab/tamires/data/derived/barbie_subclips_15/89.9_104.8_happy_clip_images.mp4.\n",
      "Moviepy - Writing video /home/tamires/projects/rpp-aevans-ab/tamires/data/derived/barbie_subclips_15/89.9_104.8_happy_clip_images.mp4\n",
      "\n"
     ]
    },
    {
     "name": "stderr",
     "output_type": "stream",
     "text": [
      "                                                                                                                                                         \r"
     ]
    },
    {
     "name": "stdout",
     "output_type": "stream",
     "text": [
      "Moviepy - Done !\n",
      "Moviepy - video ready /home/tamires/projects/rpp-aevans-ab/tamires/data/derived/barbie_subclips_15/89.9_104.8_happy_clip_images.mp4\n",
      "MoviePy - Writing audio in /home/tamires/projects/rpp-aevans-ab/tamires/data/derived/barbie_subclips_15/89.9_104.8_happy_clip_audio.mp3\n"
     ]
    },
    {
     "name": "stderr",
     "output_type": "stream",
     "text": [
      "                                                                                                                                                         \r"
     ]
    },
    {
     "name": "stdout",
     "output_type": "stream",
     "text": [
      "MoviePy - Done.\n",
      "Moviepy - Building video /home/tamires/projects/rpp-aevans-ab/tamires/data/derived/barbie_subclips_15/90.1_105.0_happy_clip_images.mp4.\n",
      "Moviepy - Writing video /home/tamires/projects/rpp-aevans-ab/tamires/data/derived/barbie_subclips_15/90.1_105.0_happy_clip_images.mp4\n",
      "\n"
     ]
    },
    {
     "name": "stderr",
     "output_type": "stream",
     "text": [
      "                                                                                                                                                         \r"
     ]
    },
    {
     "name": "stdout",
     "output_type": "stream",
     "text": [
      "Moviepy - Done !\n",
      "Moviepy - video ready /home/tamires/projects/rpp-aevans-ab/tamires/data/derived/barbie_subclips_15/90.1_105.0_happy_clip_images.mp4\n",
      "MoviePy - Writing audio in /home/tamires/projects/rpp-aevans-ab/tamires/data/derived/barbie_subclips_15/90.1_105.0_happy_clip_audio.mp3\n"
     ]
    },
    {
     "name": "stderr",
     "output_type": "stream",
     "text": [
      "                                                                                                                                                         \r"
     ]
    },
    {
     "name": "stdout",
     "output_type": "stream",
     "text": [
      "MoviePy - Done.\n"
     ]
    }
   ],
   "source": [
    "def cut_subclips(row, video_clip, output_dir, lag=60):\n",
    "    start_time = round(row['second'] - lag, 1)\n",
    "    end_time = round(row['second'] - 0.1, 1) \n",
    "    emotion = row['emotion']\n",
    "    \n",
    "    # Write the images file\n",
    "    images_clip = video_clip.subclip(start_time, end_time).without_audio()\n",
    "    images_path = os.path.join(output_dir, f\"{start_time}_{end_time}_{emotion}_clip_images.mp4\")\n",
    "    images_clip.write_videofile(images_path, fps=10)\n",
    "    \n",
    "    # Write the audio file\n",
    "    audio_clip = video_clip.audio.subclip(start_time, end_time)\n",
    "    audio_path = os.path.join(output_dir, f\"{start_time}_{end_time}_{emotion}_clip_audio.mp3\")\n",
    "    audio_clip.write_audiofile(audio_path)\n",
    "\n",
    "# Load Movie\n",
    "video_clip = VideoFileClip(data_raw_dir+movie)\n",
    "\n",
    "# Set a standard resolution (width, height)\n",
    "video_clip = video_clip.resize((640, 360)) \n",
    "\n",
    "# Create several subclips and mel images\n",
    "results = df_filter.apply(lambda row: cut_subclips(row, video_clip, data_raw_dir+output_dir, lag=15), axis=1)\n",
    "video_clip.close()"
   ]
  },
  {
   "cell_type": "markdown",
   "id": "12ddd607-1817-4225-8110-c9c8114c7d50",
   "metadata": {},
   "source": [
    "#### Converting audio: audio.mp3 to mel.png"
   ]
  },
  {
   "cell_type": "code",
   "execution_count": 3,
   "id": "923d3738-fd19-4795-8877-c0f30a6325ca",
   "metadata": {
    "scrolled": true
   },
   "outputs": [
    {
     "name": "stderr",
     "output_type": "stream",
     "text": [
      "Processing MP3 files: 100%|████████████████████████████████████████████████████████████████████████████████████████████| 169/169 [00:22<00:00,  7.59it/s]\n"
     ]
    }
   ],
   "source": [
    "# List all mp3 files in the directory\n",
    "files = os.listdir(data_raw_dir+output_dir)\n",
    "mp3_files = [file for file in files if file.endswith('.mp3')]\n",
    "\n",
    "for audio_path in tqdm(mp3_files, desc=\"Processing MP3 files\"):\n",
    "    output_path = data_raw_dir+output_dir+audio_path.replace('.mp3', '.png')\n",
    "    #print(output_path)\n",
    "\n",
    "    # Check if file already exist\n",
    "    if os.path.isfile(output_path):\n",
    "        #print(output_path)\n",
    "        continue\n",
    "        \n",
    "    else:\n",
    "        try:\n",
    "            # Audio to Mel Spectrogram\n",
    "            y, sr = librosa.load(data_raw_dir+output_dir+audio_path, sr=None)  # Load audio file: y is the audio time series, sr is the sampling rate\n",
    "            S = librosa.feature.melspectrogram(y=y, sr=sr, n_mels=128, fmax=8000) # Compute Mel spectrogram\n",
    "            S_dB = librosa.power_to_db(S, ref=np.max) # Convert to decibels\n",
    "           \n",
    "            # Plot Mel spectrogram\n",
    "            plt.figure(figsize=(30, 12)) \n",
    "            librosa.display.specshow(S_dB, sr=sr)\n",
    "            plt.savefig(output_path)\n",
    "            plt.close()\n",
    "        except Exception as e:\n",
    "            print(f\"Error processing {audio_path}: {e}\")\n",
    "            continue"
   ]
  },
  {
   "cell_type": "code",
   "execution_count": null,
   "id": "bb739121-37d1-44ae-abb4-89b4c74a14ae",
   "metadata": {},
   "outputs": [],
   "source": []
  }
 ],
 "metadata": {
  "kernelspec": {
   "display_name": "Python 3 (ipykernel)",
   "language": "python",
   "name": "python3"
  },
  "language_info": {
   "codemirror_mode": {
    "name": "ipython",
    "version": 3
   },
   "file_extension": ".py",
   "mimetype": "text/x-python",
   "name": "python",
   "nbconvert_exporter": "python",
   "pygments_lexer": "ipython3",
   "version": "3.12.4"
  }
 },
 "nbformat": 4,
 "nbformat_minor": 5
}
