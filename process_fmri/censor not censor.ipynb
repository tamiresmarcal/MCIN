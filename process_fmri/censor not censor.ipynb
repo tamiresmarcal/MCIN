{
 "cells": [
  {
   "cell_type": "code",
   "execution_count": 3,
   "id": "bd77380a-81f6-48e2-a3e7-af732d01d223",
   "metadata": {},
   "outputs": [],
   "source": [
    "import nibabel as nib\n",
    "import os"
   ]
  },
  {
   "cell_type": "code",
   "execution_count": 7,
   "id": "cdcfaec2-fb8c-4436-8c7c-ae643abe300f",
   "metadata": {},
   "outputs": [],
   "source": [
    "path = os.path.join(f'/home/tamires/projects/rpp-aevans-ab/tamires/data/fmri_datasets/ds002837/derivatives/sub-1/func/sub-1_task-500daysofsummer_bold_blur_no_censor_ica.nii.gz')\n",
    "no_censor = nib.load(path, mmap=True)"
   ]
  },
  {
   "cell_type": "code",
   "execution_count": 8,
   "id": "07004cd6-5149-4259-a6ec-3a39910a7be1",
   "metadata": {},
   "outputs": [],
   "source": [
    "path = os.path.join(f'/home/tamires/projects/rpp-aevans-ab/tamires/data/fmri_datasets/ds002837/derivatives/sub-1/func/sub-1_task-500daysofsummer_bold_blur_censor_ica.nii.gz')\n",
    "censor = nib.load(path, mmap=True)"
   ]
  },
  {
   "cell_type": "code",
   "execution_count": null,
   "id": "8a09a05a-df33-4395-b155-28326bf14fba",
   "metadata": {},
   "outputs": [],
   "source": []
  }
 ],
 "metadata": {
  "kernelspec": {
   "display_name": "Python 3 (ipykernel)",
   "language": "python",
   "name": "python3"
  },
  "language_info": {
   "codemirror_mode": {
    "name": "ipython",
    "version": 3
   },
   "file_extension": ".py",
   "mimetype": "text/x-python",
   "name": "python",
   "nbconvert_exporter": "python",
   "pygments_lexer": "ipython3",
   "version": "3.12.4"
  }
 },
 "nbformat": 4,
 "nbformat_minor": 5
}
