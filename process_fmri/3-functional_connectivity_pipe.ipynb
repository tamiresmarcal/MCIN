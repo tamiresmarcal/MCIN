{
 "cells": [
  {
   "cell_type": "markdown",
   "metadata": {},
   "source": [
    "## Replicate the study \"Inter‐ and intra‐subject similarity in network functional connectivity across a full narrative movie\" for 5 subjects wacthing \"500 days of summer\"\n",
    "\n",
    "- 1 - Load all data and pre process\n",
    "- 2 - Concat and segment by 60 seconds\n",
    "- 3 - Load csv mni networks and extract timeseries of each ROI\n",
    "- 4 - Create the connectome of each segment in each subject each network and storage\n",
    "- 5 - Avg of pearson correlation for each conectome with Fisher Z-transformation and plot\n",
    "    "
   ]
  },
  {
   "cell_type": "code",
   "execution_count": 1,
   "metadata": {},
   "outputs": [],
   "source": [
    "import numpy as np\n",
    "import pandas as pd\n",
    "import matplotlib.pyplot as plt\n",
    "import seaborn as sns\n",
    "from scipy.spatial.distance import cdist\n",
    "from scipy.stats import pearsonr, zscore\n",
    "import nibabel as nib\n",
    "from nilearn import datasets, input_data, plotting, connectome, image\n",
    "import os\n",
    "import subprocess\n",
    "from pathlib import Path"
   ]
  },
  {
   "cell_type": "markdown",
   "metadata": {},
   "source": [
    "#### 1. Load all data and pre process"
   ]
  },
  {
   "cell_type": "code",
   "execution_count": 13,
   "metadata": {},
   "outputs": [
    {
     "name": "stdout",
     "output_type": "stream",
     "text": [
      "ds000113: 1578\n",
      "ds002837: 287\n",
      "ds003017: 125\n",
      "ds003216: 64\n",
      "ds003524: 26\n",
      "ds004359: 121\n",
      "ds004798: 60\n",
      "ds004848: 145\n"
     ]
    }
   ],
   "source": [
    "# Define the path\n",
    "path = Path(\"/home/tamires/projects/rpp-aevans-ab/tamires/data/fmri_datasets/\")\n",
    "folders = [p.name for p in path.iterdir() if p.is_dir()]\n",
    "folders.sort() \n",
    "\n",
    "# Use glob to list all files inside the path\n",
    "for folder in folders:\n",
    "    all_files = list(path.glob(f\"{folder}/sub*/func/*.nii.gz\"))\n",
    "    if len(all_files) == 0:\n",
    "        all_files = list(path.glob(f\"{folder}/sub*/ses*/func/*.nii.gz\"))\n",
    "    print(f\"{folder}: {len(all_files)}\")"
   ]
  },
  {
   "cell_type": "code",
   "execution_count": 29,
   "metadata": {},
   "outputs": [
    {
     "data": {
      "text/plain": [
       "[PosixPath('/home/tamires/projects/rpp-aevans-ab/tamires/data/fmri_datasets/ds002837/sub-1/func/sub-1_task-500daysofsummer_run-01_bold.nii.gz'),\n",
       " PosixPath('/home/tamires/projects/rpp-aevans-ab/tamires/data/fmri_datasets/ds002837/sub-1/func/sub-1_task-500daysofsummer_run-02_bold.nii.gz'),\n",
       " PosixPath('/home/tamires/projects/rpp-aevans-ab/tamires/data/fmri_datasets/ds002837/sub-1/func/sub-1_task-500daysofsummer_run-03_bold.nii.gz'),\n",
       " PosixPath('/home/tamires/projects/rpp-aevans-ab/tamires/data/fmri_datasets/ds002837/sub-10/func/sub-10_task-500daysofsummer_run-01_bold.nii.gz'),\n",
       " PosixPath('/home/tamires/projects/rpp-aevans-ab/tamires/data/fmri_datasets/ds002837/sub-10/func/sub-10_task-500daysofsummer_run-02_bold.nii.gz'),\n",
       " PosixPath('/home/tamires/projects/rpp-aevans-ab/tamires/data/fmri_datasets/ds002837/sub-10/func/sub-10_task-500daysofsummer_run-03_bold.nii.gz'),\n",
       " PosixPath('/home/tamires/projects/rpp-aevans-ab/tamires/data/fmri_datasets/ds002837/sub-11/func/sub-11_task-500daysofsummer_run-01_bold.nii.gz'),\n",
       " PosixPath('/home/tamires/projects/rpp-aevans-ab/tamires/data/fmri_datasets/ds002837/sub-11/func/sub-11_task-500daysofsummer_run-02_bold.nii.gz'),\n",
       " PosixPath('/home/tamires/projects/rpp-aevans-ab/tamires/data/fmri_datasets/ds002837/sub-11/func/sub-11_task-500daysofsummer_run-03_bold.nii.gz'),\n",
       " PosixPath('/home/tamires/projects/rpp-aevans-ab/tamires/data/fmri_datasets/ds002837/sub-12/func/sub-12_task-500daysofsummer_run-01_bold.nii.gz'),\n",
       " PosixPath('/home/tamires/projects/rpp-aevans-ab/tamires/data/fmri_datasets/ds002837/sub-12/func/sub-12_task-500daysofsummer_run-02_bold.nii.gz'),\n",
       " PosixPath('/home/tamires/projects/rpp-aevans-ab/tamires/data/fmri_datasets/ds002837/sub-13/func/sub-13_task-500daysofsummer_run-01_bold.nii.gz'),\n",
       " PosixPath('/home/tamires/projects/rpp-aevans-ab/tamires/data/fmri_datasets/ds002837/sub-13/func/sub-13_task-500daysofsummer_run-02_bold.nii.gz'),\n",
       " PosixPath('/home/tamires/projects/rpp-aevans-ab/tamires/data/fmri_datasets/ds002837/sub-14/func/sub-14_task-500daysofsummer_run-01_bold.nii.gz'),\n",
       " PosixPath('/home/tamires/projects/rpp-aevans-ab/tamires/data/fmri_datasets/ds002837/sub-14/func/sub-14_task-500daysofsummer_run-02_bold.nii.gz'),\n",
       " PosixPath('/home/tamires/projects/rpp-aevans-ab/tamires/data/fmri_datasets/ds002837/sub-15/func/sub-15_task-500daysofsummer_run-01_bold.nii.gz'),\n",
       " PosixPath('/home/tamires/projects/rpp-aevans-ab/tamires/data/fmri_datasets/ds002837/sub-15/func/sub-15_task-500daysofsummer_run-02_bold.nii.gz'),\n",
       " PosixPath('/home/tamires/projects/rpp-aevans-ab/tamires/data/fmri_datasets/ds002837/sub-16/func/sub-16_task-500daysofsummer_run-01_bold.nii.gz'),\n",
       " PosixPath('/home/tamires/projects/rpp-aevans-ab/tamires/data/fmri_datasets/ds002837/sub-16/func/sub-16_task-500daysofsummer_run-02_bold.nii.gz'),\n",
       " PosixPath('/home/tamires/projects/rpp-aevans-ab/tamires/data/fmri_datasets/ds002837/sub-16/func/sub-16_task-500daysofsummer_run-03_bold.nii.gz'),\n",
       " PosixPath('/home/tamires/projects/rpp-aevans-ab/tamires/data/fmri_datasets/ds002837/sub-17/func/sub-17_task-500daysofsummer_run-01_bold.nii.gz'),\n",
       " PosixPath('/home/tamires/projects/rpp-aevans-ab/tamires/data/fmri_datasets/ds002837/sub-17/func/sub-17_task-500daysofsummer_run-02_bold.nii.gz'),\n",
       " PosixPath('/home/tamires/projects/rpp-aevans-ab/tamires/data/fmri_datasets/ds002837/sub-18/func/sub-18_task-500daysofsummer_run-01_bold.nii.gz'),\n",
       " PosixPath('/home/tamires/projects/rpp-aevans-ab/tamires/data/fmri_datasets/ds002837/sub-18/func/sub-18_task-500daysofsummer_run-02_bold.nii.gz'),\n",
       " PosixPath('/home/tamires/projects/rpp-aevans-ab/tamires/data/fmri_datasets/ds002837/sub-19/func/sub-19_task-500daysofsummer_run-01_bold.nii.gz'),\n",
       " PosixPath('/home/tamires/projects/rpp-aevans-ab/tamires/data/fmri_datasets/ds002837/sub-19/func/sub-19_task-500daysofsummer_run-02_bold.nii.gz'),\n",
       " PosixPath('/home/tamires/projects/rpp-aevans-ab/tamires/data/fmri_datasets/ds002837/sub-2/func/sub-2_task-500daysofsummer_run-01_bold.nii.gz'),\n",
       " PosixPath('/home/tamires/projects/rpp-aevans-ab/tamires/data/fmri_datasets/ds002837/sub-2/func/sub-2_task-500daysofsummer_run-02_bold.nii.gz'),\n",
       " PosixPath('/home/tamires/projects/rpp-aevans-ab/tamires/data/fmri_datasets/ds002837/sub-2/func/sub-2_task-500daysofsummer_run-03_bold.nii.gz'),\n",
       " PosixPath('/home/tamires/projects/rpp-aevans-ab/tamires/data/fmri_datasets/ds002837/sub-20/func/sub-20_task-500daysofsummer_run-01_bold.nii.gz'),\n",
       " PosixPath('/home/tamires/projects/rpp-aevans-ab/tamires/data/fmri_datasets/ds002837/sub-20/func/sub-20_task-500daysofsummer_run-02_bold.nii.gz'),\n",
       " PosixPath('/home/tamires/projects/rpp-aevans-ab/tamires/data/fmri_datasets/ds002837/sub-3/func/sub-3_task-500daysofsummer_run-01_bold.nii.gz'),\n",
       " PosixPath('/home/tamires/projects/rpp-aevans-ab/tamires/data/fmri_datasets/ds002837/sub-3/func/sub-3_task-500daysofsummer_run-02_bold.nii.gz'),\n",
       " PosixPath('/home/tamires/projects/rpp-aevans-ab/tamires/data/fmri_datasets/ds002837/sub-4/func/sub-4_task-500daysofsummer_run-01_bold.nii.gz'),\n",
       " PosixPath('/home/tamires/projects/rpp-aevans-ab/tamires/data/fmri_datasets/ds002837/sub-4/func/sub-4_task-500daysofsummer_run-02_bold.nii.gz'),\n",
       " PosixPath('/home/tamires/projects/rpp-aevans-ab/tamires/data/fmri_datasets/ds002837/sub-4/func/sub-4_task-500daysofsummer_run-03_bold.nii.gz'),\n",
       " PosixPath('/home/tamires/projects/rpp-aevans-ab/tamires/data/fmri_datasets/ds002837/sub-5/func/sub-5_task-500daysofsummer_run-01_bold.nii.gz'),\n",
       " PosixPath('/home/tamires/projects/rpp-aevans-ab/tamires/data/fmri_datasets/ds002837/sub-5/func/sub-5_task-500daysofsummer_run-02_bold.nii.gz'),\n",
       " PosixPath('/home/tamires/projects/rpp-aevans-ab/tamires/data/fmri_datasets/ds002837/sub-6/func/sub-6_task-500daysofsummer_run-01_bold.nii.gz'),\n",
       " PosixPath('/home/tamires/projects/rpp-aevans-ab/tamires/data/fmri_datasets/ds002837/sub-6/func/sub-6_task-500daysofsummer_run-02_bold.nii.gz'),\n",
       " PosixPath('/home/tamires/projects/rpp-aevans-ab/tamires/data/fmri_datasets/ds002837/sub-7/func/sub-7_task-500daysofsummer_run-01_bold.nii.gz'),\n",
       " PosixPath('/home/tamires/projects/rpp-aevans-ab/tamires/data/fmri_datasets/ds002837/sub-7/func/sub-7_task-500daysofsummer_run-02_bold.nii.gz'),\n",
       " PosixPath('/home/tamires/projects/rpp-aevans-ab/tamires/data/fmri_datasets/ds002837/sub-8/func/sub-8_task-500daysofsummer_run-01_bold.nii.gz'),\n",
       " PosixPath('/home/tamires/projects/rpp-aevans-ab/tamires/data/fmri_datasets/ds002837/sub-8/func/sub-8_task-500daysofsummer_run-02_bold.nii.gz'),\n",
       " PosixPath('/home/tamires/projects/rpp-aevans-ab/tamires/data/fmri_datasets/ds002837/sub-9/func/sub-9_task-500daysofsummer_run-01_bold.nii.gz'),\n",
       " PosixPath('/home/tamires/projects/rpp-aevans-ab/tamires/data/fmri_datasets/ds002837/sub-9/func/sub-9_task-500daysofsummer_run-02_bold.nii.gz')]"
      ]
     },
     "execution_count": 29,
     "metadata": {},
     "output_type": "execute_result"
    }
   ],
   "source": [
    "# Define the base path\n",
    "base_path = Path(\"/home/tamires/projects/rpp-aevans-ab/tamires/data/fmri_datasets/ds002837\")\n",
    "\n",
    "# Generate the patterns for sub-1 to sub-20\n",
    "patterns = [f\"sub-{i}/func/*task-500daysofsummer*.nii.gz\" for i in range(1, 21)]\n",
    "\n",
    "# Use glob to list all matching files\n",
    "matching_files = []\n",
    "for pattern in patterns:\n",
    "    matching_files.extend(base_path.glob(pattern))\n",
    "\n",
    "# Sort the matching files\n",
    "matching_files_sorted = sorted(matching_files)\n",
    "matching_files_sorted\n"
   ]
  },
  {
   "cell_type": "code",
   "execution_count": 37,
   "metadata": {},
   "outputs": [
    {
     "data": {
      "text/plain": [
       "[PosixPath('/home/tamires/projects/rpp-aevans-ab/tamires/data/fmri_datasets/ds002837/sub-1/func/sub-1_task-500daysofsummer_run-02_bold.nii.gz'),\n",
       " PosixPath('/home/tamires/projects/rpp-aevans-ab/tamires/data/fmri_datasets/ds002837/sub-1/func/sub-1_task-500daysofsummer_run-03_bold.nii.gz'),\n",
       " PosixPath('/home/tamires/projects/rpp-aevans-ab/tamires/data/fmri_datasets/ds002837/sub-1/func/sub-1_task-500daysofsummer_run-01_bold.nii.gz')]"
      ]
     },
     "execution_count": 37,
     "metadata": {},
     "output_type": "execute_result"
    }
   ],
   "source": [
    "list(matching_files)"
   ]
  },
  {
   "cell_type": "code",
   "execution_count": 2,
   "metadata": {},
   "outputs": [
    {
     "name": "stdout",
     "output_type": "stream",
     "text": [
      "sub-1: 3\n",
      "[PosixPath('/home/tamires/projects/rpp-aevans-ab/tamires/data/fmri_datasets/ds002837/sub-1/func/sub-1_task-500daysofsummer_run-02_bold.nii.gz'), PosixPath('/home/tamires/projects/rpp-aevans-ab/tamires/data/fmri_datasets/ds002837/sub-1/func/sub-1_task-500daysofsummer_run-03_bold.nii.gz'), PosixPath('/home/tamires/projects/rpp-aevans-ab/tamires/data/fmri_datasets/ds002837/sub-1/func/sub-1_task-500daysofsummer_run-01_bold.nii.gz')]\n",
      "sub-2: 3\n",
      "[PosixPath('/home/tamires/projects/rpp-aevans-ab/tamires/data/fmri_datasets/ds002837/sub-2/func/sub-2_task-500daysofsummer_run-01_bold.nii.gz'), PosixPath('/home/tamires/projects/rpp-aevans-ab/tamires/data/fmri_datasets/ds002837/sub-2/func/sub-2_task-500daysofsummer_run-02_bold.nii.gz'), PosixPath('/home/tamires/projects/rpp-aevans-ab/tamires/data/fmri_datasets/ds002837/sub-2/func/sub-2_task-500daysofsummer_run-03_bold.nii.gz')]\n"
     ]
    },
    {
     "ename": "MemoryError",
     "evalue": "Unable to allocate 3.35 GiB for an array with shape (64, 64, 40, 5494) and data type float32",
     "output_type": "error",
     "traceback": [
      "\u001b[0;31m---------------------------------------------------------------------------\u001b[0m",
      "\u001b[0;31mMemoryError\u001b[0m                               Traceback (most recent call last)",
      "Cell \u001b[0;32mIn[2], line 12\u001b[0m\n\u001b[1;32m     10\u001b[0m \u001b[38;5;28mprint\u001b[39m(\u001b[38;5;124mf\u001b[39m\u001b[38;5;124m\"\u001b[39m\u001b[38;5;124msub-\u001b[39m\u001b[38;5;132;01m{\u001b[39;00mi\u001b[38;5;132;01m}\u001b[39;00m\u001b[38;5;124m: \u001b[39m\u001b[38;5;132;01m{\u001b[39;00m\u001b[38;5;28mlen\u001b[39m(matching_files)\u001b[38;5;132;01m}\u001b[39;00m\u001b[38;5;124m\"\u001b[39m)\n\u001b[1;32m     11\u001b[0m \u001b[38;5;28mprint\u001b[39m(matching_files)\n\u001b[0;32m---> 12\u001b[0m combined_image\u001b[38;5;241m.\u001b[39mappend(image\u001b[38;5;241m.\u001b[39mconcat_imgs(matching_files))\n",
      "File \u001b[0;32m~/.local/lib/python3.12/site-packages/nilearn/image/image.py:1498\u001b[0m, in \u001b[0;36mconcat_imgs\u001b[0;34m(niimgs, dtype, ensure_ndim, memory, memory_level, auto_resample, verbose)\u001b[0m\n\u001b[1;32m   1496\u001b[0m \u001b[38;5;28;01mif\u001b[39;00m dtype \u001b[38;5;129;01mis\u001b[39;00m \u001b[38;5;28;01mNone\u001b[39;00m:\n\u001b[1;32m   1497\u001b[0m     dtype \u001b[38;5;241m=\u001b[39m _get_data(first_niimg)\u001b[38;5;241m.\u001b[39mdtype\n\u001b[0;32m-> 1498\u001b[0m data \u001b[38;5;241m=\u001b[39m np\u001b[38;5;241m.\u001b[39mndarray(target_shape \u001b[38;5;241m+\u001b[39m (\u001b[38;5;28msum\u001b[39m(lengths),), order\u001b[38;5;241m=\u001b[39m\u001b[38;5;124m\"\u001b[39m\u001b[38;5;124mF\u001b[39m\u001b[38;5;124m\"\u001b[39m, dtype\u001b[38;5;241m=\u001b[39mdtype)\n\u001b[1;32m   1499\u001b[0m cur_4d_index \u001b[38;5;241m=\u001b[39m \u001b[38;5;241m0\u001b[39m\n\u001b[1;32m   1500\u001b[0m \u001b[38;5;28;01mfor\u001b[39;00m index, (size, niimg) \u001b[38;5;129;01min\u001b[39;00m \u001b[38;5;28menumerate\u001b[39m(\n\u001b[1;32m   1501\u001b[0m     \u001b[38;5;28mzip\u001b[39m(\n\u001b[1;32m   1502\u001b[0m         lengths,\n\u001b[0;32m   (...)\u001b[0m\n\u001b[1;32m   1510\u001b[0m     )\n\u001b[1;32m   1511\u001b[0m ):\n",
      "\u001b[0;31mMemoryError\u001b[0m: Unable to allocate 3.35 GiB for an array with shape (64, 64, 40, 5494) and data type float32"
     ]
    }
   ],
   "source": [
    "# Define the base path\n",
    "base_path = Path(\"/home/tamires/projects/rpp-aevans-ab/tamires/data/fmri_datasets/ds002837\")\n",
    "\n",
    "combined_image = []\n",
    "for i in range(1, 21):\n",
    "    # Generate the patterns for sub-1 to sub-20 and use glob to list all matching files\n",
    "    matching_files = list(base_path.glob(f\"sub-{i}/func/*task-500daysofsummer*.nii.gz\"))\n",
    "\n",
    "    # Concat images and save in vector\n",
    "    print(f\"sub-{i}: {len(matching_files)}\")\n",
    "    print(matching_files)\n",
    "    combined_image.append(image.concat_imgs(matching_files))\n"
   ]
  },
  {
   "cell_type": "code",
   "execution_count": 43,
   "metadata": {},
   "outputs": [
    {
     "name": "stdout",
     "output_type": "stream",
     "text": [
      "sub-1: 3\n",
      "['/home/tamires/projects/rpp-aevans-ab/tamires/data/fmri_datasets/ds002837/sub-1/func/sub-1_task-500daysofsummer_run-02_bold.nii.gz', '/home/tamires/projects/rpp-aevans-ab/tamires/data/fmri_datasets/ds002837/sub-1/func/sub-1_task-500daysofsummer_run-03_bold.nii.gz', '/home/tamires/projects/rpp-aevans-ab/tamires/data/fmri_datasets/ds002837/sub-1/func/sub-1_task-500daysofsummer_run-01_bold.nii.gz']\n"
     ]
    },
    {
     "ename": "MemoryError",
     "evalue": "",
     "output_type": "error",
     "traceback": [
      "\u001b[0;31m---------------------------------------------------------------------------\u001b[0m",
      "\u001b[0;31mMemoryError\u001b[0m                               Traceback (most recent call last)",
      "Cell \u001b[0;32mIn[43], line 13\u001b[0m\n\u001b[1;32m     11\u001b[0m \u001b[38;5;28mprint\u001b[39m(\u001b[38;5;124mf\u001b[39m\u001b[38;5;124m\"\u001b[39m\u001b[38;5;124msub-\u001b[39m\u001b[38;5;132;01m{\u001b[39;00mi\u001b[38;5;132;01m}\u001b[39;00m\u001b[38;5;124m: \u001b[39m\u001b[38;5;132;01m{\u001b[39;00m\u001b[38;5;28mlen\u001b[39m(matching_files)\u001b[38;5;132;01m}\u001b[39;00m\u001b[38;5;124m\"\u001b[39m)\n\u001b[1;32m     12\u001b[0m \u001b[38;5;28mprint\u001b[39m(matching_files)\n\u001b[0;32m---> 13\u001b[0m image\u001b[38;5;241m.\u001b[39mconcat_imgs(matching_files)\n",
      "File \u001b[0;32m~/.local/lib/python3.12/site-packages/nilearn/image/image.py:1465\u001b[0m, in \u001b[0;36mconcat_imgs\u001b[0;34m(niimgs, dtype, ensure_ndim, memory, memory_level, auto_resample, verbose)\u001b[0m\n\u001b[1;32m   1463\u001b[0m iterator, literator \u001b[38;5;241m=\u001b[39m itertools\u001b[38;5;241m.\u001b[39mtee(\u001b[38;5;28miter\u001b[39m(niimgs))\n\u001b[1;32m   1464\u001b[0m \u001b[38;5;28;01mtry\u001b[39;00m:\n\u001b[0;32m-> 1465\u001b[0m     first_niimg \u001b[38;5;241m=\u001b[39m check_niimg(\u001b[38;5;28mnext\u001b[39m(literator), ensure_ndim\u001b[38;5;241m=\u001b[39mndim)\n\u001b[1;32m   1466\u001b[0m \u001b[38;5;28;01mexcept\u001b[39;00m \u001b[38;5;167;01mStopIteration\u001b[39;00m:\n\u001b[1;32m   1467\u001b[0m     \u001b[38;5;28;01mraise\u001b[39;00m \u001b[38;5;167;01mTypeError\u001b[39;00m(\u001b[38;5;124m\"\u001b[39m\u001b[38;5;124mCannot concatenate empty objects\u001b[39m\u001b[38;5;124m\"\u001b[39m)\n",
      "File \u001b[0;32m~/.local/lib/python3.12/site-packages/nilearn/_utils/niimg_conversions.py:315\u001b[0m, in \u001b[0;36mcheck_niimg\u001b[0;34m(niimg, ensure_ndim, atleast_4d, dtype, return_iterator, wildcards)\u001b[0m\n\u001b[1;32m    310\u001b[0m     \u001b[38;5;28;01mreturn\u001b[39;00m ni\u001b[38;5;241m.\u001b[39mimage\u001b[38;5;241m.\u001b[39mconcat_imgs(\n\u001b[1;32m    311\u001b[0m         niimg, ensure_ndim\u001b[38;5;241m=\u001b[39mensure_ndim, dtype\u001b[38;5;241m=\u001b[39mdtype\n\u001b[1;32m    312\u001b[0m     )\n\u001b[1;32m    314\u001b[0m \u001b[38;5;66;03m# Otherwise, it should be a filename or a SpatialImage, we load it\u001b[39;00m\n\u001b[0;32m--> 315\u001b[0m niimg \u001b[38;5;241m=\u001b[39m load_niimg(niimg, dtype\u001b[38;5;241m=\u001b[39mdtype)\n\u001b[1;32m    317\u001b[0m \u001b[38;5;28;01mif\u001b[39;00m ensure_ndim \u001b[38;5;241m==\u001b[39m \u001b[38;5;241m3\u001b[39m \u001b[38;5;129;01mand\u001b[39;00m \u001b[38;5;28mlen\u001b[39m(niimg\u001b[38;5;241m.\u001b[39mshape) \u001b[38;5;241m==\u001b[39m \u001b[38;5;241m4\u001b[39m \u001b[38;5;129;01mand\u001b[39;00m niimg\u001b[38;5;241m.\u001b[39mshape[\u001b[38;5;241m3\u001b[39m] \u001b[38;5;241m==\u001b[39m \u001b[38;5;241m1\u001b[39m:\n\u001b[1;32m    318\u001b[0m     \u001b[38;5;66;03m# \"squeeze\" the image.\u001b[39;00m\n\u001b[1;32m    319\u001b[0m     data \u001b[38;5;241m=\u001b[39m safe_get_data(niimg)\n",
      "File \u001b[0;32m~/.local/lib/python3.12/site-packages/nilearn/_utils/niimg.py:135\u001b[0m, in \u001b[0;36mload_niimg\u001b[0;34m(niimg, dtype)\u001b[0m\n\u001b[1;32m    128\u001b[0m \u001b[38;5;28;01melif\u001b[39;00m \u001b[38;5;129;01mnot\u001b[39;00m \u001b[38;5;28misinstance\u001b[39m(niimg, nibabel\u001b[38;5;241m.\u001b[39mspatialimages\u001b[38;5;241m.\u001b[39mSpatialImage):\n\u001b[1;32m    129\u001b[0m     \u001b[38;5;28;01mraise\u001b[39;00m \u001b[38;5;167;01mTypeError\u001b[39;00m(\n\u001b[1;32m    130\u001b[0m         \u001b[38;5;124m\"\u001b[39m\u001b[38;5;124mData given cannot be loaded because it is\u001b[39m\u001b[38;5;124m\"\u001b[39m\n\u001b[1;32m    131\u001b[0m         \u001b[38;5;124m\"\u001b[39m\u001b[38;5;124m not compatible with nibabel format:\u001b[39m\u001b[38;5;130;01m\\n\u001b[39;00m\u001b[38;5;124m\"\u001b[39m\n\u001b[1;32m    132\u001b[0m         \u001b[38;5;241m+\u001b[39m _repr_niimgs(niimg, shorten\u001b[38;5;241m=\u001b[39m\u001b[38;5;28;01mTrue\u001b[39;00m)\n\u001b[1;32m    133\u001b[0m     )\n\u001b[0;32m--> 135\u001b[0m dtype \u001b[38;5;241m=\u001b[39m _get_target_dtype(_get_data(niimg)\u001b[38;5;241m.\u001b[39mdtype, dtype)\n\u001b[1;32m    137\u001b[0m \u001b[38;5;28;01mif\u001b[39;00m dtype \u001b[38;5;129;01mis\u001b[39;00m \u001b[38;5;129;01mnot\u001b[39;00m \u001b[38;5;28;01mNone\u001b[39;00m:\n\u001b[1;32m    138\u001b[0m     \u001b[38;5;66;03m# Copyheader and set dtype in header if header exists\u001b[39;00m\n\u001b[1;32m    139\u001b[0m     \u001b[38;5;28;01mif\u001b[39;00m niimg\u001b[38;5;241m.\u001b[39mheader \u001b[38;5;129;01mis\u001b[39;00m \u001b[38;5;129;01mnot\u001b[39;00m \u001b[38;5;28;01mNone\u001b[39;00m:\n",
      "File \u001b[0;32m~/.local/lib/python3.12/site-packages/nilearn/_utils/niimg.py:25\u001b[0m, in \u001b[0;36m_get_data\u001b[0;34m(img)\u001b[0m\n\u001b[1;32m     23\u001b[0m \u001b[38;5;28;01mif\u001b[39;00m img\u001b[38;5;241m.\u001b[39m_data_cache \u001b[38;5;129;01mis\u001b[39;00m \u001b[38;5;129;01mnot\u001b[39;00m \u001b[38;5;28;01mNone\u001b[39;00m:\n\u001b[1;32m     24\u001b[0m     \u001b[38;5;28;01mreturn\u001b[39;00m img\u001b[38;5;241m.\u001b[39m_data_cache\n\u001b[0;32m---> 25\u001b[0m data \u001b[38;5;241m=\u001b[39m np\u001b[38;5;241m.\u001b[39masanyarray(img\u001b[38;5;241m.\u001b[39m_dataobj)\n\u001b[1;32m     26\u001b[0m img\u001b[38;5;241m.\u001b[39m_data_cache \u001b[38;5;241m=\u001b[39m data\n\u001b[1;32m     27\u001b[0m \u001b[38;5;28;01mreturn\u001b[39;00m data\n",
      "File \u001b[0;32m~/.local/lib/python3.12/site-packages/nibabel/arrayproxy.py:457\u001b[0m, in \u001b[0;36mArrayProxy.__array__\u001b[0;34m(self, dtype)\u001b[0m\n\u001b[1;32m    436\u001b[0m \u001b[38;5;28;01mdef\u001b[39;00m \u001b[38;5;21m__array__\u001b[39m(\u001b[38;5;28mself\u001b[39m, dtype\u001b[38;5;241m=\u001b[39m\u001b[38;5;28;01mNone\u001b[39;00m):\n\u001b[1;32m    437\u001b[0m \u001b[38;5;250m    \u001b[39m\u001b[38;5;124;03m\"\"\"Read data from file and apply scaling, casting to ``dtype``\u001b[39;00m\n\u001b[1;32m    438\u001b[0m \n\u001b[1;32m    439\u001b[0m \u001b[38;5;124;03m    If ``dtype`` is unspecified, the dtype of the returned array is the\u001b[39;00m\n\u001b[0;32m   (...)\u001b[0m\n\u001b[1;32m    455\u001b[0m \u001b[38;5;124;03m        Scaled image data with type `dtype`.\u001b[39;00m\n\u001b[1;32m    456\u001b[0m \u001b[38;5;124;03m    \"\"\"\u001b[39;00m\n\u001b[0;32m--> 457\u001b[0m     arr \u001b[38;5;241m=\u001b[39m \u001b[38;5;28mself\u001b[39m\u001b[38;5;241m.\u001b[39m_get_scaled(dtype\u001b[38;5;241m=\u001b[39mdtype, slicer\u001b[38;5;241m=\u001b[39m())\n\u001b[1;32m    458\u001b[0m     \u001b[38;5;28;01mif\u001b[39;00m dtype \u001b[38;5;129;01mis\u001b[39;00m \u001b[38;5;129;01mnot\u001b[39;00m \u001b[38;5;28;01mNone\u001b[39;00m:\n\u001b[1;32m    459\u001b[0m         arr \u001b[38;5;241m=\u001b[39m arr\u001b[38;5;241m.\u001b[39mastype(dtype, copy\u001b[38;5;241m=\u001b[39m\u001b[38;5;28;01mFalse\u001b[39;00m)\n",
      "File \u001b[0;32m~/.local/lib/python3.12/site-packages/nibabel/arrayproxy.py:424\u001b[0m, in \u001b[0;36mArrayProxy._get_scaled\u001b[0;34m(self, dtype, slicer)\u001b[0m\n\u001b[1;32m    422\u001b[0m     scl_inter \u001b[38;5;241m=\u001b[39m scl_inter\u001b[38;5;241m.\u001b[39mastype(use_dtype)\n\u001b[1;32m    423\u001b[0m \u001b[38;5;66;03m# Read array and upcast as necessary for big slopes, intercepts\u001b[39;00m\n\u001b[0;32m--> 424\u001b[0m scaled \u001b[38;5;241m=\u001b[39m apply_read_scaling(\u001b[38;5;28mself\u001b[39m\u001b[38;5;241m.\u001b[39m_get_unscaled(slicer\u001b[38;5;241m=\u001b[39mslicer), scl_slope, scl_inter)\n\u001b[1;32m    425\u001b[0m \u001b[38;5;28;01mif\u001b[39;00m dtype \u001b[38;5;129;01mis\u001b[39;00m \u001b[38;5;129;01mnot\u001b[39;00m \u001b[38;5;28;01mNone\u001b[39;00m:\n\u001b[1;32m    426\u001b[0m     scaled \u001b[38;5;241m=\u001b[39m scaled\u001b[38;5;241m.\u001b[39mastype(np\u001b[38;5;241m.\u001b[39mpromote_types(scaled\u001b[38;5;241m.\u001b[39mdtype, dtype), copy\u001b[38;5;241m=\u001b[39m\u001b[38;5;28;01mFalse\u001b[39;00m)\n",
      "File \u001b[0;32m~/.local/lib/python3.12/site-packages/nibabel/arrayproxy.py:394\u001b[0m, in \u001b[0;36mArrayProxy._get_unscaled\u001b[0;34m(self, slicer)\u001b[0m\n\u001b[1;32m    390\u001b[0m \u001b[38;5;28;01mif\u001b[39;00m canonical_slicers(slicer, \u001b[38;5;28mself\u001b[39m\u001b[38;5;241m.\u001b[39m_shape, \u001b[38;5;28;01mFalse\u001b[39;00m) \u001b[38;5;241m==\u001b[39m canonical_slicers(\n\u001b[1;32m    391\u001b[0m     (), \u001b[38;5;28mself\u001b[39m\u001b[38;5;241m.\u001b[39m_shape, \u001b[38;5;28;01mFalse\u001b[39;00m\n\u001b[1;32m    392\u001b[0m ):\n\u001b[1;32m    393\u001b[0m     \u001b[38;5;28;01mwith\u001b[39;00m \u001b[38;5;28mself\u001b[39m\u001b[38;5;241m.\u001b[39m_get_fileobj() \u001b[38;5;28;01mas\u001b[39;00m fileobj, \u001b[38;5;28mself\u001b[39m\u001b[38;5;241m.\u001b[39m_lock:\n\u001b[0;32m--> 394\u001b[0m         \u001b[38;5;28;01mreturn\u001b[39;00m array_from_file(\n\u001b[1;32m    395\u001b[0m             \u001b[38;5;28mself\u001b[39m\u001b[38;5;241m.\u001b[39m_shape,\n\u001b[1;32m    396\u001b[0m             \u001b[38;5;28mself\u001b[39m\u001b[38;5;241m.\u001b[39m_dtype,\n\u001b[1;32m    397\u001b[0m             fileobj,\n\u001b[1;32m    398\u001b[0m             offset\u001b[38;5;241m=\u001b[39m\u001b[38;5;28mself\u001b[39m\u001b[38;5;241m.\u001b[39m_offset,\n\u001b[1;32m    399\u001b[0m             order\u001b[38;5;241m=\u001b[39m\u001b[38;5;28mself\u001b[39m\u001b[38;5;241m.\u001b[39morder,\n\u001b[1;32m    400\u001b[0m             mmap\u001b[38;5;241m=\u001b[39m\u001b[38;5;28mself\u001b[39m\u001b[38;5;241m.\u001b[39m_mmap,\n\u001b[1;32m    401\u001b[0m         )\n\u001b[1;32m    402\u001b[0m \u001b[38;5;28;01mwith\u001b[39;00m \u001b[38;5;28mself\u001b[39m\u001b[38;5;241m.\u001b[39m_get_fileobj() \u001b[38;5;28;01mas\u001b[39;00m fileobj:\n\u001b[1;32m    403\u001b[0m     \u001b[38;5;28;01mreturn\u001b[39;00m fileslice(\n\u001b[1;32m    404\u001b[0m         fileobj,\n\u001b[1;32m    405\u001b[0m         slicer,\n\u001b[0;32m   (...)\u001b[0m\n\u001b[1;32m    410\u001b[0m         lock\u001b[38;5;241m=\u001b[39m\u001b[38;5;28mself\u001b[39m\u001b[38;5;241m.\u001b[39m_lock,\n\u001b[1;32m    411\u001b[0m     )\n",
      "File \u001b[0;32m~/.local/lib/python3.12/site-packages/nibabel/volumeutils.py:464\u001b[0m, in \u001b[0;36marray_from_file\u001b[0;34m(shape, in_dtype, infile, offset, order, mmap)\u001b[0m\n\u001b[1;32m    462\u001b[0m infile\u001b[38;5;241m.\u001b[39mseek(offset)\n\u001b[1;32m    463\u001b[0m \u001b[38;5;28;01mif\u001b[39;00m \u001b[38;5;28mhasattr\u001b[39m(infile, \u001b[38;5;124m'\u001b[39m\u001b[38;5;124mreadinto\u001b[39m\u001b[38;5;124m'\u001b[39m):\n\u001b[0;32m--> 464\u001b[0m     data_bytes \u001b[38;5;241m=\u001b[39m \u001b[38;5;28mbytearray\u001b[39m(n_bytes)\n\u001b[1;32m    465\u001b[0m     n_read \u001b[38;5;241m=\u001b[39m infile\u001b[38;5;241m.\u001b[39mreadinto(data_bytes)\n\u001b[1;32m    466\u001b[0m     needs_copy \u001b[38;5;241m=\u001b[39m \u001b[38;5;28;01mFalse\u001b[39;00m\n",
      "\u001b[0;31mMemoryError\u001b[0m: "
     ]
    }
   ],
   "source": [
    "# Define the base path\n",
    "base_path = \"/home/tamires/projects/rpp-aevans-ab/tamires/data/fmri_datasets/ds002837/\"\n",
    "\n",
    "combined_image = []\n",
    "for i in range(1, 21):\n",
    "    # Generate the patterns for sub-1 to sub-20 and use glob to list all matching files\n",
    "    pattern = base_path+f\"sub-{i}/func/*task-500daysofsummer*.nii.gz\"\n",
    "    matching_files = glob.glob(pattern)\n",
    "\n",
    "    # Concat images and save in vector\n",
    "    print(f\"sub-{i}: {len(matching_files)}\")\n",
    "    print(matching_files)\n",
    "    image.concat_imgs(matching_files)"
   ]
  },
  {
   "cell_type": "code",
   "execution_count": 3,
   "metadata": {},
   "outputs": [
    {
     "name": "stdout",
     "output_type": "stream",
     "text": [
      "Unexpected exception formatting exception. Falling back to standard exception\n"
     ]
    },
    {
     "name": "stderr",
     "output_type": "stream",
     "text": [
      "Traceback (most recent call last):\n",
      "  File \"/opt/conda/lib/python3.12/site-packages/IPython/core/interactiveshell.py\", line 3577, in run_code\n",
      "  File \"/tmp/ipykernel_18607/3844848627.py\", line 4, in <module>\n",
      "    combined_image = image.concat_imgs([fmri_path1, fmri_path2, fmri_path3])\n",
      "                     ^^^^^^^^^^^^^^^^^^^^^^^^^^^^^^^^^^^^^^^^^^^^^^^^^^^^^^^\n",
      "  File \"/home/tamires/.local/lib/python3.12/site-packages/nilearn/image/image.py\", line 1488, in concat_imgs\n",
      "    niimg = check_niimg(niimg, ensure_ndim=ndim)\n",
      "            ^^^^^^^^^^^^^^^^^^^^^^^^^^^^^^^^^^^^\n",
      "  File \"/home/tamires/.local/lib/python3.12/site-packages/nilearn/_utils/niimg_conversions.py\", line 315, in check_niimg\n",
      "    niimg = load_niimg(niimg, dtype=dtype)\n",
      "            ^^^^^^^^^^^^^^^^^^^^^^^^^^^^^^\n",
      "  File \"/home/tamires/.local/lib/python3.12/site-packages/nilearn/_utils/niimg.py\", line 135, in load_niimg\n",
      "    dtype = _get_target_dtype(_get_data(niimg).dtype, dtype)\n",
      "                              ^^^^^^^^^^^^^^^^\n",
      "  File \"/home/tamires/.local/lib/python3.12/site-packages/nilearn/_utils/niimg.py\", line 25, in _get_data\n",
      "    data = np.asanyarray(img._dataobj)\n",
      "           ^^^^^^^^^^^^^^^^^^^^^^^^^^^\n",
      "  File \"/home/tamires/.local/lib/python3.12/site-packages/nibabel/arrayproxy.py\", line 457, in __array__\n",
      "    arr = self._get_scaled(dtype=dtype, slicer=())\n",
      "          ^^^^^^^^^^^^^^^^^^^^^^^^^^^^^^^^^^^^^^^^\n",
      "  File \"/home/tamires/.local/lib/python3.12/site-packages/nibabel/arrayproxy.py\", line 424, in _get_scaled\n",
      "    scaled = apply_read_scaling(self._get_unscaled(slicer=slicer), scl_slope, scl_inter)\n",
      "                                ^^^^^^^^^^^^^^^^^^^^^^^^^^^^^^^^^\n",
      "  File \"/home/tamires/.local/lib/python3.12/site-packages/nibabel/arrayproxy.py\", line 394, in _get_unscaled\n",
      "    return array_from_file(\n",
      "           ^^^^^^^^^^^^^^^^\n",
      "  File \"/home/tamires/.local/lib/python3.12/site-packages/nibabel/volumeutils.py\", line 465, in array_from_file\n",
      "    n_read = infile.readinto(data_bytes)\n",
      "             ^^^^^^^^^^^^^^^^^^^^^^^^^^^\n",
      "  File \"/opt/conda/lib/python3.12/gzip.py\", line 324, in read\n",
      "  File \"/opt/conda/lib/python3.12/_compression.py\", line 68, in readinto\n",
      "  File \"/opt/conda/lib/python3.12/gzip.py\", line 535, in read\n",
      "KeyboardInterrupt\n",
      "\n",
      "During handling of the above exception, another exception occurred:\n",
      "\n",
      "Traceback (most recent call last):\n",
      "  File \"/opt/conda/lib/python3.12/site-packages/IPython/core/interactiveshell.py\", line 2168, in showtraceback\n",
      "  File \"/opt/conda/lib/python3.12/site-packages/IPython/core/ultratb.py\", line 1454, in structured_traceback\n",
      "  File \"/opt/conda/lib/python3.12/site-packages/IPython/core/ultratb.py\", line 1345, in structured_traceback\n",
      "  File \"/opt/conda/lib/python3.12/site-packages/IPython/core/ultratb.py\", line 1192, in structured_traceback\n",
      "  File \"/opt/conda/lib/python3.12/site-packages/IPython/core/ultratb.py\", line 1082, in format_exception_as_a_whole\n",
      "  File \"/opt/conda/lib/python3.12/site-packages/IPython/core/ultratb.py\", line 1133, in get_records\n",
      "  File \"/opt/conda/lib/python3.12/site-packages/pygments/styles/__init__.py\", line 89, in get_style_by_name\n",
      "  File \"<frozen importlib._bootstrap>\", line 1360, in _find_and_load\n",
      "  File \"<frozen importlib._bootstrap>\", line 1322, in _find_and_load_unlocked\n",
      "  File \"<frozen importlib._bootstrap>\", line 1262, in _find_spec\n",
      "  File \"<frozen importlib._bootstrap_external>\", line 1528, in find_spec\n",
      "  File \"<frozen importlib._bootstrap_external>\", line 1502, in _get_spec\n",
      "  File \"<frozen importlib._bootstrap_external>\", line 1605, in find_spec\n",
      "  File \"<frozen importlib._bootstrap_external>\", line 1648, in _fill_cache\n",
      "OSError: [Errno 107] Transport endpoint is not connected: '/opt/conda/lib/python3.12/site-packages/pygments/styles'\n"
     ]
    }
   ],
   "source": [
    "fmri_path1 = '/home/tamires/projects/rpp-aevans-ab/tamires/data/fmri_datasets/ds002837/sub-1/func/sub-1_task-500daysofsummer_run-01_bold.nii.gz'\n",
    "fmri_path2 = '/home/tamires/projects/rpp-aevans-ab/tamires/data/fmri_datasets/ds002837/sub-1/func/sub-1_task-500daysofsummer_run-02_bold.nii.gz'\n",
    "fmri_path3 = '/home/tamires/projects/rpp-aevans-ab/tamires/data/fmri_datasets/ds002837/sub-1/func/sub-1_task-500daysofsummer_run-03_bold.nii.gz'\n",
    "combined_image = image.concat_imgs([fmri_path1, fmri_path2, fmri_path3])"
   ]
  },
  {
   "cell_type": "code",
   "execution_count": null,
   "metadata": {},
   "outputs": [],
   "source": [
    "# Use a predefined atlas from Nilearn (e.g., Harvard-Oxford atlas)\n",
    "atlas = datasets.fetch_atlas_harvard_oxford('cort-maxprob-thr25-1mm')\n",
    "atlas_img = atlas.maps\n",
    "labels = atlas.labels\n",
    "print(labels)\n",
    "\n",
    "# Define the masker to extract time series from ROIs\n",
    "masker = input_data.NiftiLabelsMasker(labels_img=atlas_img, standardize=True)\n",
    "\n",
    "# Extract time series data\n",
    "time_series1 = masker.fit_transform(img1)\n",
    "time_series2 = masker.fit_transform(img2)\n",
    "time_series3 = masker.fit_transform(img3)\n",
    "print(time_series1.shape,time_series2.shape,time_series3.shape)\n",
    "\n",
    "# Concatenate time series from multiple runs\n",
    "time_series1,time_series2,time_series3\n",
    "time_series = np.concatenate((time_series1, time_series2, time_series3), axis=0)\n",
    "time_series.shape"
   ]
  }
 ],
 "metadata": {
  "kernelspec": {
   "display_name": "singularity-neuroimaging",
   "language": "python",
   "name": "singularity-neuroimaging"
  }
 },
 "nbformat": 4,
 "nbformat_minor": 4
}
